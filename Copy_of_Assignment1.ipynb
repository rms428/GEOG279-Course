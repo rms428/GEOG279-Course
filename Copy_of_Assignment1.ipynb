{
  "nbformat": 4,
  "nbformat_minor": 0,
  "metadata": {
    "colab": {
      "provenance": [],
      "gpuType": "T4",
      "include_colab_link": true
    },
    "kernelspec": {
      "name": "python3",
      "display_name": "Python 3"
    },
    "language_info": {
      "name": "python"
    }
  },
  "cells": [
    {
      "cell_type": "markdown",
      "metadata": {
        "id": "view-in-github",
        "colab_type": "text"
      },
      "source": [
        "<a href=\"https://colab.research.google.com/github/rms428/GEOG279-Course/blob/main/Copy_of_Assignment1.ipynb\" target=\"_parent\"><img src=\"https://colab.research.google.com/assets/colab-badge.svg\" alt=\"Open In Colab\"/></a>"
      ]
    },
    {
      "cell_type": "markdown",
      "source": [
        "[![Open In Colab](https://colab.research.google.com/assets/colab-badge.svg)](https://colab.research.google.com/drive/1SaXpt9wymm00qbPZevf4sHnS0h4RNP-B?usp=sharing)\n"
      ],
      "metadata": {
        "id": "-fOCwauGpryu"
      }
    },
    {
      "cell_type": "markdown",
      "source": [
        "# **GEOG279 - Fall 2024**\n",
        "# **Assignment 1: Impact Assessment Using VDSA Data: Intro to Randomized Control Trials (RCT) Analysis**\n",
        "### **Instructor**: Kathy Baylis"
      ],
      "metadata": {
        "id": "n0EkuAbTjkS8"
      }
    },
    {
      "cell_type": "markdown",
      "source": [
        "<!-- This content will not be shown -->"
      ],
      "metadata": {
        "id": "MRVuStBALPN0"
      }
    },
    {
      "cell_type": "markdown",
      "source": [
        "# **Getting Started**"
      ],
      "metadata": {
        "id": "MIUuC6Qx1rdl"
      }
    },
    {
      "cell_type": "markdown",
      "source": [
        "<table style=\"border: 1px solid #4CAF50; background-color: #f9f9f9; padding: 10px; width: 100%;\">\n",
        "  <tr>\n",
        "    <td><h2>\n",
        "      1. Run the code cell below. <br>\n",
        "      2. When prompted, enter your name. <br>\n",
        "      3. The current date and your name will be automatically displayed in a formatted text.<br>\n",
        "    </td></h2>\n",
        "  </tr>\n",
        "</table>\n",
        "\n",
        "\n",
        "\n",
        "\n",
        "\n",
        "\n"
      ],
      "metadata": {
        "id": "8KQ2LU0ui5vG"
      }
    },
    {
      "cell_type": "code",
      "source": [
        "# @title **Click to Enter your Name** {\"vertical-output\":true}\n",
        "\n",
        "from datetime import datetime\n",
        "from IPython.display import display, Markdown\n",
        "\n",
        "# Prompt user to input their name\n",
        "author_name = input(\"Please enter your name: \")\n",
        "\n",
        "# Get the current date\n",
        "current_date = datetime.now().strftime(\"%Y-%m-%d\")\n",
        "\n",
        "# Create markdown content\n",
        "markdown_content = f\"**Author**: {author_name}\\n<br>**Date**: {current_date}</br>\"\n",
        "\n",
        "# Display the markdown content\n",
        "display(Markdown(markdown_content))"
      ],
      "metadata": {
        "id": "c-0h1j-riIP8",
        "outputId": "deec08d2-c296-4592-a9e4-da27dad06b58",
        "colab": {
          "base_uri": "https://localhost:8080/",
          "height": 82
        }
      },
      "execution_count": 1,
      "outputs": [
        {
          "name": "stdout",
          "output_type": "stream",
          "text": [
            "Please enter your name: Cella Schnabel\n"
          ]
        },
        {
          "output_type": "display_data",
          "data": {
            "text/plain": [
              "<IPython.core.display.Markdown object>"
            ],
            "text/markdown": "**Author**: Cella Schnabel\n<br>**Date**: 2025-10-14</br>"
          },
          "metadata": {}
        }
      ]
    },
    {
      "cell_type": "markdown",
      "source": [
        "<table style=\"border: 1px solid #4CAF50; background-color: #f9f9f9; padding: 10px; width: 100%;\">\n",
        "  <tr>\n",
        "    <td><h2 style=\"margin: 0;\"><b>Important</b>: Run the below cell in order to activate <code>R</code> in this notebook.</h2></td>\n",
        "  </tr>\n",
        "</table>"
      ],
      "metadata": {
        "id": "0TUNdMdixT4K"
      }
    },
    {
      "cell_type": "code",
      "source": [
        "# activate R magic\n",
        "%load_ext rpy2.ipython"
      ],
      "metadata": {
        "id": "T56J-Y-tdD4W"
      },
      "execution_count": 2,
      "outputs": []
    },
    {
      "cell_type": "markdown",
      "source": [
        "## **Cloning Github Repo**\n",
        "This step is essential in order to have access to the data that you'll use for this assignment."
      ],
      "metadata": {
        "id": "YO58KgQ-z9yl"
      }
    },
    {
      "cell_type": "code",
      "source": [
        "# WARNING: Do not modify this code. Execute as is.\n",
        "import os\n",
        "import subprocess\n",
        "\n",
        "# Define repository details\n",
        "repo_name = 'GEOG279-Course'\n",
        "repo_url = 'https://github.com/GEOG279-Advanced-Spatial-Statistics/GEOG279-Course.git'\n",
        "\n",
        "# Check if the repository is already cloned\n",
        "repo_path = os.path.join(os.getcwd(), repo_name)\n",
        "if not os.path.exists(repo_path):\n",
        "    # Construct the command to clone the repository\n",
        "    cmd_string = f'git clone {repo_url}'\n",
        "\n",
        "    try:\n",
        "        # Execute the command to clone the repository\n",
        "        subprocess.run(cmd_string, shell=True, check=True)\n",
        "        print(f\"Repository cloned successfully at: {repo_path}\")\n",
        "    except subprocess.CalledProcessError as e:\n",
        "        print(f\"Error occurred while cloning the repository: {e}\")\n",
        "else:\n",
        "    print(f\"Repository already exists at: {repo_path}\")"
      ],
      "metadata": {
        "colab": {
          "base_uri": "https://localhost:8080/"
        },
        "id": "l85GuDwkUv8y",
        "outputId": "2ab3692b-5795-42be-ccce-63bdace8c896"
      },
      "execution_count": 3,
      "outputs": [
        {
          "output_type": "stream",
          "name": "stdout",
          "text": [
            "Repository cloned successfully at: /content/GEOG279-Course\n"
          ]
        }
      ]
    },
    {
      "cell_type": "markdown",
      "source": [
        "# **Introduction**\n",
        "\n",
        "\n",
        "In this first assignment, you'll work with real-world data to apply the techniques covered during lecture. We'll be using the **Village Dynamics of South Asia (VDSA)** panel data set collected by the International Crops Research Institute for the Semi-Arid Tropics ([ICRISAT](https://dataverse.icrisat.org/dataset.xhtml?persistentId=doi:10.21421/D2/HDEUKU))(GV and Falk). This dataset provides detailed, high-frequency agricultural production data at the parcel level from households in India.\n",
        "\n",
        "For the data exercises concerning Randomized Control trials (RCTs) we will use data from a real RCT on the effects of marketing in encouraging households to purchase index insurance. This RCT was conducted in conjunction with ICRISAT, again in India.\n",
        "\n",
        "For exercises related to Randomized Control Trials (RCTs), we will analyze data from an RCT that evaluated the impact of marketing efforts on households’ decisions to purchase index insurance. This trial was also conducted in collaboration with ICRISAT in India.\n",
        "\n",
        "To begin, we will clean and prepare the `raw` VDSA data for analysis. This process is crucial for two reasons.\n",
        "* First, it will allow you to (re)familiarize yourself with `R`.\n",
        "* Second, it will ensure that the dataset is “regression-ready” for later exercises/assignments.\n",
        "\n",
        "**Objectives:**\n",
        "\n",
        "1.\tGet familiar with R and the VDSA dataset.\n",
        "2.\tPrepare the data for analysis in upcoming sessions.\n",
        "3.\tUse the dataset to explore how confounding factors influence impact assessments.\n",
        "\n",
        "\n",
        "*Citation:*\n",
        "GV, Anupama, and Thomas Falk. Data on Primary Survey Study on Agricultural Productivity and Plot Size: Village Dynamics in South Asia (VDSA). 4, ICRISAT. ICRISAT Dataverse, https://doi.org/10.21421/D2/HDEUKU.\n",
        "\n"
      ],
      "metadata": {
        "id": "gr3M1OwJjQPL"
      }
    },
    {
      "cell_type": "markdown",
      "source": [
        "# **Exploratory Data Analysis (EDA)**"
      ],
      "metadata": {
        "id": "yWXcT--aRG9q"
      }
    },
    {
      "cell_type": "markdown",
      "source": [
        "## **Loading Libraries**\n",
        "\n",
        "For this assignment, you'll need the following libraries:\n",
        "\n",
        "1.\t`haven`: Allows importing and exporting data from statistical software formats like Stata, SPSS, and SAS into R, preserving variable labels and attributes.\n",
        "3.\t`tidyverse`: A collection of R packages for data manipulation, cleaning, visualization, and analysis, including tools like dplyr, tidyr, and ggplot2.\n",
        "4.\t`ggpubr`: An extension of ggplot2 that simplifies creating publication-ready plots with added statistical annotations and easy layout arrangements.\n",
        "**Note**: Loading the libraries may take a couple of minutes.\n"
      ],
      "metadata": {
        "id": "TyABtpN31x1o"
      }
    },
    {
      "cell_type": "code",
      "source": [
        "%%capture\n",
        "%%R\n",
        "\n",
        "# Installing required libraries\n",
        "suppressMessages({\n",
        "  suppressWarnings({\n",
        "    install.packages(\"haven\", quiet = TRUE)\n",
        "    install.packages(\"tidyverse\", quiet = TRUE)\n",
        "    install.packages(\"ggpubr\", quiet = TRUE)\n",
        "    install.packages(\"dagitty\", quiet = TRUE)\n",
        "    install.packages(\"ggdag\", quiet = TRUE)\n",
        "\n",
        "  })\n",
        "})\n",
        "\n",
        "# Loading libraries\n",
        "library(haven)\n",
        "library(tidyverse)\n",
        "library(ggpubr)\n",
        "library(dagitty)\n",
        "library(ggdag)"
      ],
      "metadata": {
        "id": "SzA8XbW57Bzh",
        "collapsed": true
      },
      "execution_count": 4,
      "outputs": []
    },
    {
      "cell_type": "markdown",
      "source": [
        "The function `install.packages()` downloads and installs a package from the internet. The `library()` function loads that particular package into the current session.\n",
        "\n",
        "Packages are a very important part of `R`. The basic default installation already provides some limited functionality. But the real power of `R` lies in the large community of independent developers who are constantly implementing new packages to the language.\n",
        "\n"
      ],
      "metadata": {
        "id": "7SvjCzEjvYgB"
      }
    },
    {
      "cell_type": "markdown",
      "source": [
        "## **Loading the data**"
      ],
      "metadata": {
        "id": "gHbtqyaz2Oho"
      }
    },
    {
      "cell_type": "code",
      "source": [
        "%%R\n",
        "\n",
        "# Define the path to the .dta file in Google Drive\n",
        "data_url <- \"/content/GEOG279-Course/assignment_1/data/VDSA_Prod_Data.dta\"\n",
        "\n",
        "# Read the .dta file using haven\n",
        "df <- read_dta(data_url)\n",
        "\n",
        "# Display the first few rows to confirm successful reading\n",
        "head(df)"
      ],
      "metadata": {
        "id": "RPuTGRgyCfRl",
        "colab": {
          "base_uri": "https://localhost:8080/"
        },
        "outputId": "3909e73d-e365-4144-8d5d-8b034dfaf9c9"
      },
      "execution_count": 5,
      "outputs": [
        {
          "output_type": "stream",
          "name": "stdout",
          "text": [
            "# A tibble: 6 × 30\n",
            "  country   vil_id  rain average    dev   pop  dist nomkt vdsa_hh_id tot_acre\n",
            "  <dbl+lbl>  <dbl> <dbl>   <dbl>  <dbl> <dbl> <dbl> <dbl>      <dbl>    <dbl>\n",
            "1 1 [India]    135   NA      NA  NA       876    12     2     135008    0    \n",
            "2 1 [India]    119   NA      NA  NA      3600     5     4     119035    1.22 \n",
            "3 1 [India]    135   NA      NA  NA       876    12     2     135203    0    \n",
            "4 1 [India]    119  496.    577.  0.859  3600     5     4     119034    0.870\n",
            "5 1 [India]    119  471.    577.  0.815  3600     5     4     119034    1.15 \n",
            "6 1 [India]    120  471.    577.  0.815  4494    15     4     120048    1.80 \n",
            "# ℹ 20 more variables: genderH <dbl>, ageH <dbl>, noadultM <dbl>,\n",
            "#   noadultF <dbl>, nokids <dbl>, sizehh <dbl>, farm_cat <chr>, aindex <dbl>,\n",
            "#   lindex <dbl>, prcl_id <dbl>, sur_yr <dbl>, plot_area <dbl>, output <dbl>,\n",
            "#   price <dbl>, value <dbl>, lab_q <dbl>, fert_q <dbl>, irr_q <dbl>,\n",
            "#   mech_v <dbl>, pest_v <dbl>\n"
          ]
        }
      ]
    },
    {
      "cell_type": "markdown",
      "source": [
        "**You can use any of the three functions below to inspect the dataset.**"
      ],
      "metadata": {
        "id": "tdPKRXlSvB6-"
      }
    },
    {
      "cell_type": "markdown",
      "source": [
        "**1. The `str()` function**\n",
        "The `str()` function provides a compact summary of the data frame, including\n",
        "data types for each column."
      ],
      "metadata": {
        "id": "VF0vIkXTRsoZ"
      }
    },
    {
      "cell_type": "code",
      "source": [
        "%%R\n",
        "# Check data types of all columns in the data frame\n",
        "str(df[1:5])"
      ],
      "metadata": {
        "colab": {
          "base_uri": "https://localhost:8080/"
        },
        "id": "iHCnB-XZQ9IE",
        "outputId": "15a704ee-dabe-4d25-fecf-d0b861a63ead"
      },
      "execution_count": 6,
      "outputs": [
        {
          "output_type": "stream",
          "name": "stdout",
          "text": [
            "tibble [1,536 × 5] (S3: tbl_df/tbl/data.frame)\n",
            " $ country: dbl+lbl [1:1536] 1, 1, 1, 1, 1, 1, 1, 1, 1, 1, 1, 1, 1, 1, 1, 1, 1, 1,...\n",
            "   ..@ label       : chr \"country\"\n",
            "   ..@ format.stata: chr \"%10.0g\"\n",
            "   ..@ labels      : Named num [1:2] 0 1\n",
            "   .. ..- attr(*, \"names\")= chr [1:2] \"Bangladesh\" \"India\"\n",
            " $ vil_id : num [1:1536] 135 119 135 119 119 120 119 137 119 118 ...\n",
            "  ..- attr(*, \"label\")= chr \"unique village ID\"\n",
            "  ..- attr(*, \"format.stata\")= chr \"%9.0g\"\n",
            " $ rain   : num [1:1536] NA NA NA 496 471 ...\n",
            "  ..- attr(*, \"label\")= chr \"rainfall in sur_yr\"\n",
            "  ..- attr(*, \"format.stata\")= chr \"%10.0g\"\n",
            " $ average: num [1:1536] NA NA NA 577 577 ...\n",
            "  ..- attr(*, \"label\")= chr \"average rainfall from 1981-2014\"\n",
            "  ..- attr(*, \"format.stata\")= chr \"%10.0g\"\n",
            " $ dev    : num [1:1536] NA NA NA 0.859 0.815 ...\n",
            "  ..- attr(*, \"label\")= chr \"deviation of rainfall from mean\"\n",
            "  ..- attr(*, \"format.stata\")= chr \"%10.0g\"\n"
          ]
        }
      ]
    },
    {
      "cell_type": "markdown",
      "source": [
        "**2. `sapply()` with `class()`**\n",
        "\n",
        "If you want a simple list of column names and their types, you can use sapply() along with the class() function."
      ],
      "metadata": {
        "id": "w3VBdlxzSrDW"
      }
    },
    {
      "cell_type": "code",
      "source": [
        "%%R\n",
        "# Check data types of all columns in the data frame\n",
        "sapply(df[1:5], class)"
      ],
      "metadata": {
        "colab": {
          "base_uri": "https://localhost:8080/"
        },
        "id": "r3yVq8H_QW7t",
        "outputId": "4756c8c8-c44d-4829-a802-485cf6598e7c"
      },
      "execution_count": 7,
      "outputs": [
        {
          "output_type": "stream",
          "name": "stdout",
          "text": [
            "$country\n",
            "[1] \"haven_labelled\" \"vctrs_vctr\"     \"double\"        \n",
            "\n",
            "$vil_id\n",
            "[1] \"numeric\"\n",
            "\n",
            "$rain\n",
            "[1] \"numeric\"\n",
            "\n",
            "$average\n",
            "[1] \"numeric\"\n",
            "\n",
            "$dev\n",
            "[1] \"numeric\"\n",
            "\n"
          ]
        }
      ]
    },
    {
      "cell_type": "markdown",
      "source": [
        "**3. `dplyr::glimpse`**\n",
        "\n",
        "The `glimpse()` function from the `dplyr` package provides an overview of the data frame, showing column names, data types, and a preview of the values."
      ],
      "metadata": {
        "id": "QCTXFg3YSYnr"
      }
    },
    {
      "cell_type": "code",
      "source": [
        "%%R\n",
        "glimpse(df)"
      ],
      "metadata": {
        "colab": {
          "base_uri": "https://localhost:8080/"
        },
        "id": "U_K5KJLCQ518",
        "outputId": "9e342b24-ae4c-4650-f03b-39e727db4c3a"
      },
      "execution_count": 8,
      "outputs": [
        {
          "output_type": "stream",
          "name": "stdout",
          "text": [
            "Rows: 1,536\n",
            "Columns: 30\n",
            "$ country    <dbl+lbl> 1, 1, 1, 1, 1, 1, 1, 1, 1, 1, 1, 1, 1, 1, 1, 1, 1, 1, 1…\n",
            "$ vil_id     <dbl> 135, 119, 135, 119, 119, 120, 119, 137, 119, 118, 134, 119,…\n",
            "$ rain       <dbl> NA, NA, NA, 495.6600, 470.7660, 470.7660, 495.6600, NA, NA,…\n",
            "$ average    <dbl> NA, NA, NA, 577.3553, 577.3553, 577.3553, 577.3553, NA, NA,…\n",
            "$ dev        <dbl> NA, NA, NA, 0.8585009, 0.8153836, 0.8153836, 0.8585009, NA,…\n",
            "$ pop        <dbl> 876, 3600, 876, 3600, 3600, 4494, 3600, 880, 3600, 3000, 14…\n",
            "$ dist       <dbl> 12.0, 5.0, 12.0, 5.0, 5.0, 15.0, 5.0, 13.0, 5.0, 4.5, 9.0, …\n",
            "$ nomkt      <dbl> 2, 4, 2, 4, 4, 4, 4, 2, 4, 4, 1, 4, 4, 4, 4, 2, 4, 2, 2, 4,…\n",
            "$ vdsa_hh_id <dbl> 135008, 119035, 135203, 119034, 119034, 120048, 119034, 137…\n",
            "$ tot_acre   <dbl> 0.00, 1.22, 0.00, 0.87, 1.15, 1.80, 0.87, 5.00, 1.07, 1.10,…\n",
            "$ genderH    <dbl> 0, 0, 0, 0, 0, 0, 0, 0, 0, 0, 0, 0, 0, 0, 0, 0, 0, 0, 0, 0,…\n",
            "$ ageH       <dbl> 43, 62, 48, 56, 55, 63, 56, 48, 52, 77, 58, 62, 60, 77, 62,…\n",
            "$ noadultM   <dbl> 3, 2, 3, 3, 3, 1, 3, 2, 2, 3, 1, 2, 2, 3, 4, 3, 3, 2, 1, 2,…\n",
            "$ noadultF   <dbl> 1, 3, 5, 4, 4, 2, 4, 2, 3, 4, 2, 3, 3, 4, 4, 5, 4, 1, 2, 3,…\n",
            "$ nokids     <dbl> 0, 1, 0, 0, 0, 2, 0, 2, 1, 1, 3, 1, 1, 1, 0, 0, 0, 1, 3, 1,…\n",
            "$ sizehh     <dbl> 4, 6, 8, 7, 7, 5, 7, 6, 6, 8, 6, 6, 6, 8, 8, 8, 7, 4, 6, 6,…\n",
            "$ farm_cat   <chr> \"SM\", \"SM\", \"SM\", \"SM\", \"SM\", \"MD\", \"SM\", \"SM\", \"SM\", \"SM\",…\n",
            "$ aindex     <dbl> -0.27804729, -0.22664489, -0.36013669, -1.36603343, -1.1713…\n",
            "$ lindex     <dbl> -0.419596434, -0.400094748, -1.038769484, -1.050346971, -1.…\n",
            "$ prcl_id    <dbl> 135008016, 119035032, 135203040, 119034008, 119034072, 1200…\n",
            "$ sur_yr     <dbl> 2013, 2012, 2013, 2011, 2010, 2010, 2011, 2010, 2012, 2011,…\n",
            "$ plot_area  <dbl> 1.61874402, 0.10117150, 0.80937201, 0.24281162, 0.09307779,…\n",
            "$ output     <dbl> 2800, 280, 1000, 900, 90, 169, 780, 1120, 120, 18600, 1650,…\n",
            "$ price      <dbl> 13.50, 13.50, 13.00, 12.85, 12.00, 10.00, 12.85, 11.00, 13.…\n",
            "$ value      <dbl> 37800, 3780, 13000, 11565, 1080, 1690, 10023, 12320, 1620, …\n",
            "$ lab_q      <dbl> 234.00, 30.35, 113.00, 24.00, 32.00, 21.21, 37.50, 142.00, …\n",
            "$ fert_q     <dbl> 500.0, 31.0, 150.0, 24.0, 36.0, 15.0, 42.0, 125.0, 16.0, 99…\n",
            "$ irr_q      <dbl> 4.000, 5.500, 2.000, 0.375, 0.000, 0.000, 0.625, 0.000, 2.0…\n",
            "$ mech_v     <dbl> 10597.25, 590.00, 4200.00, 454.00, 276.80, 168.00, 610.00, …\n",
            "$ pest_v     <dbl> 0, 0, 0, 0, 0, 120, 0, 0, 0, 0, 0, 0, 0, 0, 0, 0, 0, 0, 0, …\n"
          ]
        }
      ]
    },
    {
      "cell_type": "markdown",
      "source": [
        "**Which one to use ?**\n",
        "* Use `str()` for a quick, detailed structure of the data frame, including data types and sample values.\n",
        "* Use `sapply()` with `class()` if you need a simple list of column data types.\n",
        "* Use `glimpse()` for a tidy, detailed overview, especially if you’re using the `dplyr` package.\n"
      ],
      "metadata": {
        "id": "XVYWrVDTR8Zz"
      }
    },
    {
      "cell_type": "markdown",
      "source": [
        "# **Summary Statistics & Variables Overview**\n",
        "To get an overview of the dataset, use the `summary()` function. This function provides basic summary statistics for each variable, including the mean, quartiles, and the number of missing observations. When applied to an entire data frame, `summary()` calculates these statistics for all variables. For example:\n"
      ],
      "metadata": {
        "id": "fBj4AqiZ3P1q"
      }
    },
    {
      "cell_type": "code",
      "source": [
        "%%R\n",
        "# Display summary statistics of the dataset\n",
        "summary(df)\n"
      ],
      "metadata": {
        "colab": {
          "base_uri": "https://localhost:8080/"
        },
        "id": "Q6Xr4i8F3TUp",
        "outputId": "06917f28-68d9-42ef-acb4-8f782d037ca5"
      },
      "execution_count": 9,
      "outputs": [
        {
          "output_type": "stream",
          "name": "stdout",
          "text": [
            "    country      vil_id           rain           average           dev        \n",
            " Min.   :1   Min.   :113.0   Min.   : 363.7   Min.   :500.7   Min.   :0.6681  \n",
            " 1st Qu.:1   1st Qu.:118.0   1st Qu.: 363.7   1st Qu.:500.7   1st Qu.:0.7263  \n",
            " Median :1   Median :123.0   Median : 464.9   Median :500.7   Median :0.8154  \n",
            " Mean   :1   Mean   :126.2   Mean   : 511.8   Mean   :570.4   Mean   :0.8735  \n",
            " 3rd Qu.:1   3rd Qu.:135.0   3rd Qu.: 470.8   3rd Qu.:577.4   3rd Qu.:0.9285  \n",
            " Max.   :1   Max.   :138.0   Max.   :1089.6   Max.   :913.8   Max.   :1.3682  \n",
            "                             NA's   :1061     NA's   :1061    NA's   :1061    \n",
            "      pop            dist            nomkt         vdsa_hh_id    \n",
            " Min.   : 573   Min.   : 0.000   Min.   :0.000   Min.   :113241  \n",
            " 1st Qu.:1410   1st Qu.: 4.500   1st Qu.:1.000   1st Qu.:118055  \n",
            " Median :3000   Median : 9.000   Median :2.000   Median :123034  \n",
            " Mean   :2865   Mean   : 8.889   Mean   :2.596   Mean   :126310  \n",
            " 3rd Qu.:3600   3rd Qu.:13.000   3rd Qu.:4.000   3rd Qu.:135080  \n",
            " Max.   :6979   Max.   :30.000   Max.   :4.000   Max.   :138059  \n",
            "                                                                 \n",
            "    tot_acre         genderH            ageH          noadultM     \n",
            " Min.   : 0.000   Min.   :0.0000   Min.   :23.00   Min.   : 1.000  \n",
            " 1st Qu.: 1.200   1st Qu.:1.0000   1st Qu.:42.00   1st Qu.: 2.000  \n",
            " Median : 3.500   Median :1.0000   Median :52.00   Median : 3.000  \n",
            " Mean   : 6.444   Mean   :0.9642   Mean   :52.05   Mean   : 3.038  \n",
            " 3rd Qu.: 8.000   3rd Qu.:1.0000   3rd Qu.:62.00   3rd Qu.: 4.000  \n",
            " Max.   :66.000   Max.   :1.0000   Max.   :89.00   Max.   :16.000  \n",
            "                                                                   \n",
            "    noadultF          nokids          sizehh         farm_cat        \n",
            " Min.   : 0.000   Min.   :0.000   Min.   : 2.000   Length:1536       \n",
            " 1st Qu.: 1.000   1st Qu.:0.000   1st Qu.: 5.000   Class :character  \n",
            " Median : 2.000   Median :1.000   Median : 6.000   Mode  :character  \n",
            " Mean   : 2.607   Mean   :1.404   Mean   : 7.044                     \n",
            " 3rd Qu.: 3.000   3rd Qu.:2.000   3rd Qu.: 8.000                     \n",
            " Max.   :11.000   Max.   :8.000   Max.   :26.000                     \n",
            "                                                                     \n",
            "     aindex             lindex            prcl_id              sur_yr    \n",
            " Min.   :-1.90711   Min.   :-1.24137   Min.   :113241032   Min.   :2009  \n",
            " 1st Qu.:-0.48882   1st Qu.:-0.60618   1st Qu.:118055068   1st Qu.:2010  \n",
            " Median : 0.07435   Median :-0.11976   Median :123034008   Median :2011  \n",
            " Mean   : 0.05856   Mean   :-0.02278   Mean   :126309753   Mean   :2011  \n",
            " 3rd Qu.: 0.71905   3rd Qu.: 0.33233   3rd Qu.:135080032   3rd Qu.:2012  \n",
            " Max.   : 2.02121   Max.   : 6.99098   Max.   :138059008   Max.   :2013  \n",
            "                                                                         \n",
            "   plot_area           output            price            value       \n",
            " Min.   :0.01214   Min.   :    0.0   Min.   :  0.00   Min.   :     0  \n",
            " 1st Qu.:0.20234   1st Qu.:  471.2   1st Qu.: 11.70   1st Qu.:  6375  \n",
            " Median :0.48562   Median : 1100.0   Median : 13.00   Median : 14739  \n",
            " Mean   :0.78503   Mean   : 1931.0   Mean   : 13.61   Mean   : 25866  \n",
            " 3rd Qu.:0.97630   3rd Qu.: 2400.0   3rd Qu.: 15.00   3rd Qu.: 32274  \n",
            " Max.   :7.68903   Max.   :23040.0   Max.   :600.00   Max.   :315000  \n",
            "                                                                      \n",
            "     lab_q             fert_q           irr_q             mech_v       \n",
            " Min.   :   5.00   Min.   :   0.0   Min.   :  0.000   Min.   :    0.0  \n",
            " 1st Qu.:  42.89   1st Qu.:  49.0   1st Qu.:  0.000   1st Qu.:  604.6  \n",
            " Median :  96.14   Median : 115.0   Median :  0.000   Median : 1736.0  \n",
            " Mean   : 161.28   Mean   : 189.2   Mean   :  3.727   Mean   : 3460.0  \n",
            " 3rd Qu.: 217.00   3rd Qu.: 250.0   3rd Qu.:  2.500   3rd Qu.: 4285.0  \n",
            " Max.   :1836.00   Max.   :2020.0   Max.   :183.000   Max.   :40280.0  \n",
            "                                                                       \n",
            "     pest_v       \n",
            " Min.   :    0.0  \n",
            " 1st Qu.:    0.0  \n",
            " Median :    0.0  \n",
            " Mean   :  151.9  \n",
            " 3rd Qu.:    0.0  \n",
            " Max.   :10100.0  \n",
            "                  \n"
          ]
        }
      ]
    },
    {
      "cell_type": "code",
      "source": [
        "%%R\n",
        "\n",
        "# View a specific variable\n",
        "summary(df$rain)"
      ],
      "metadata": {
        "colab": {
          "base_uri": "https://localhost:8080/"
        },
        "outputId": "6a72c3c2-4a53-4624-b562-19a6a9a5d389",
        "id": "TJTYVh5Iv1o3"
      },
      "execution_count": 10,
      "outputs": [
        {
          "output_type": "stream",
          "name": "stdout",
          "text": [
            "   Min. 1st Qu.  Median    Mean 3rd Qu.    Max.    NA's \n",
            "  363.7   363.7   464.9   511.8   470.8  1089.6    1061 \n"
          ]
        }
      ]
    },
    {
      "cell_type": "markdown",
      "source": [
        "If you are interested in viewing summary statistics for a subset of observations rather than the entire dataset, you can do this in several ways in `R`. One option is to use the `by()` function. For example, to get the summary statistics of the output variable grouped by the gender of the head of household, you can use:"
      ],
      "metadata": {
        "id": "gDCIAtQEq3SW"
      }
    },
    {
      "cell_type": "code",
      "source": [
        "%%R\n",
        "by(df$output,df$genderH,FUN=summary)"
      ],
      "metadata": {
        "colab": {
          "base_uri": "https://localhost:8080/"
        },
        "id": "5eYDzSFbq5Cc",
        "outputId": "950cf54f-21fa-436c-cc35-1101908abf93"
      },
      "execution_count": 11,
      "outputs": [
        {
          "output_type": "stream",
          "name": "stdout",
          "text": [
            "df$genderH: 0\n",
            "   Min. 1st Qu.  Median    Mean 3rd Qu.    Max. \n",
            "   50.0   130.0   300.0   943.3   850.0 18600.0 \n",
            "------------------------------------------------------------ \n",
            "df$genderH: 1\n",
            "   Min. 1st Qu.  Median    Mean 3rd Qu.    Max. \n",
            "      0     500    1150    1968    2411   23040 \n"
          ]
        }
      ]
    },
    {
      "cell_type": "markdown",
      "source": [
        "1.\t`by()` Function: This function in `R` applies a specified function to each level of a grouping factor within a data frame. In this case, it is used to compute summary statistics for subsets of the data.\n",
        "2.\t`df$output`: This specifies the data you want to analyze—in this example, the output variable from the data frame `df`. It is the input data for which you want to calculate summary statistics.\n",
        "3.\t`df$genderH`: This is the grouping variable. The `by()` function will split `df$output` into subsets based on the unique values of `df$genderH` (e.g., male or female). It applies the function (summary) to each of these subsets separately.\n",
        "4.\t`FUN` = summary: This specifies the function to be applied to each subset of data. Here, summary is used to generate basic statistics (such as minimum, median, mean, maximum, and quartiles) for each subset defined by `df$genderH`.\n"
      ],
      "metadata": {
        "id": "HGEvnlL_w1gN"
      }
    },
    {
      "cell_type": "markdown",
      "source": [
        "To summarize a variable by the combination of multiple categorical variables, you can create a temporary concatenated variable as the second argument of the `by()` function using the `paste()` function. For example, to summarize output by each combination of `genderH` and `farm_cat` you can write:"
      ],
      "metadata": {
        "id": "RII3OmwDq-su"
      }
    },
    {
      "cell_type": "code",
      "source": [
        "%%R\n",
        "by(df$output, paste(df$genderH, df$farm_cat), FUN=summary)"
      ],
      "metadata": {
        "colab": {
          "base_uri": "https://localhost:8080/"
        },
        "id": "L2g5DT6ixcoy",
        "outputId": "73a4af1a-b93b-4904-bd02-6bcee9f4e774"
      },
      "execution_count": 12,
      "outputs": [
        {
          "output_type": "stream",
          "name": "stdout",
          "text": [
            "paste(df$genderH, df$farm_cat): 0 LA\n",
            "   Min. 1st Qu.  Median    Mean 3rd Qu.    Max. \n",
            "    100     185     270     270     355     440 \n",
            "------------------------------------------------------------ \n",
            "paste(df$genderH, df$farm_cat): 0 LB\n",
            "   Min. 1st Qu.  Median    Mean 3rd Qu.    Max. \n",
            "  610.0   612.5   615.0   615.0   617.5   620.0 \n",
            "------------------------------------------------------------ \n",
            "paste(df$genderH, df$farm_cat): 0 MD\n",
            "   Min. 1st Qu.  Median    Mean 3rd Qu.    Max. \n",
            "   75.0   110.5   225.0   392.3   300.0  1650.0 \n",
            "------------------------------------------------------------ \n",
            "paste(df$genderH, df$farm_cat): 0 SM\n",
            "   Min. 1st Qu.  Median    Mean 3rd Qu.    Max. \n",
            "     50     150     600    1206     900   18600 \n",
            "------------------------------------------------------------ \n",
            "paste(df$genderH, df$farm_cat): 1 LA\n",
            "   Min. 1st Qu.  Median    Mean 3rd Qu.    Max. \n",
            "      0     640    1470    2529    3200   23040 \n",
            "------------------------------------------------------------ \n",
            "paste(df$genderH, df$farm_cat): 1 LB\n",
            "   Min. 1st Qu.  Median    Mean 3rd Qu.    Max. \n",
            "    175     521     925    1245    1600    4050 \n",
            "------------------------------------------------------------ \n",
            "paste(df$genderH, df$farm_cat): 1 MD\n",
            "   Min. 1st Qu.  Median    Mean 3rd Qu.    Max. \n",
            "      0     430    1000    1596    2000   18010 \n",
            "------------------------------------------------------------ \n",
            "paste(df$genderH, df$farm_cat): 1 SM\n",
            "   Min. 1st Qu.  Median    Mean 3rd Qu.    Max. \n",
            "      0     400     900    1352    1890   10000 \n"
          ]
        }
      ]
    },
    {
      "cell_type": "markdown",
      "source": [
        "Another important function for summarizing categorical variables is the `table()` function. For example, to see the distribution of the categorical variable farm_cat you can use:`table(df$farm_cat)`"
      ],
      "metadata": {
        "id": "r0Udv0JarBV1"
      }
    },
    {
      "cell_type": "code",
      "source": [
        "%%R\n",
        "table(df$farm_cat)"
      ],
      "metadata": {
        "colab": {
          "base_uri": "https://localhost:8080/"
        },
        "id": "UfEKVBbmrEZL",
        "outputId": "c5587fec-c8a8-40ed-ca4a-a8b6de71babc"
      },
      "execution_count": 13,
      "outputs": [
        {
          "output_type": "stream",
          "name": "stdout",
          "text": [
            "\n",
            " LA  LB  MD  SM \n",
            "691  40 443 362 \n"
          ]
        }
      ]
    },
    {
      "cell_type": "markdown",
      "source": [
        "# **Q1: Use the `by()` function to summarize the variable `ageH` by the combination of `genderH` and `farm_cat`. Use `table()` to tabulate the categorical variable `genderH`.**\n"
      ],
      "metadata": {
        "id": "mxhw5x2_0IEn"
      }
    },
    {
      "cell_type": "code",
      "source": [
        "%%R\n",
        "by(df$ageH, paste(df$genderH, df$farm_cat), FUN=summary)\n",
        "table(df$genderH)"
      ],
      "metadata": {
        "id": "6SExQWWH0hxA",
        "colab": {
          "base_uri": "https://localhost:8080/"
        },
        "outputId": "d97dfb67-93a9-42f0-c026-5766c3fe5c7e"
      },
      "execution_count": 14,
      "outputs": [
        {
          "output_type": "stream",
          "name": "stdout",
          "text": [
            "\n",
            "   0    1 \n",
            "  55 1481 \n"
          ]
        }
      ]
    },
    {
      "cell_type": "markdown",
      "source": [
        "There are other commands that can be useful for learning more about your data:\n",
        "\n",
        "- `nrow()` can be used to count the number of observations in a data set. It is also possible to group by another variable.\n",
        "- `duplicated()` indicates duplicated observations in the data. You can use it to drop duplicate observations like the following:"
      ],
      "metadata": {
        "id": "BKiLm5lbrPIB"
      }
    },
    {
      "cell_type": "code",
      "source": [
        "%%R\n",
        "df <- subset(df, !duplicated(df))\n",
        "head(df)"
      ],
      "metadata": {
        "colab": {
          "base_uri": "https://localhost:8080/"
        },
        "id": "_oheKb7H1ZRE",
        "outputId": "a537eba2-95ce-4947-b533-0848ceeb939a"
      },
      "execution_count": 15,
      "outputs": [
        {
          "output_type": "stream",
          "name": "stdout",
          "text": [
            "# A tibble: 6 × 30\n",
            "  country   vil_id  rain average    dev   pop  dist nomkt vdsa_hh_id tot_acre\n",
            "  <dbl+lbl>  <dbl> <dbl>   <dbl>  <dbl> <dbl> <dbl> <dbl>      <dbl>    <dbl>\n",
            "1 1 [India]    135   NA      NA  NA       876    12     2     135008    0    \n",
            "2 1 [India]    119   NA      NA  NA      3600     5     4     119035    1.22 \n",
            "3 1 [India]    135   NA      NA  NA       876    12     2     135203    0    \n",
            "4 1 [India]    119  496.    577.  0.859  3600     5     4     119034    0.870\n",
            "5 1 [India]    119  471.    577.  0.815  3600     5     4     119034    1.15 \n",
            "6 1 [India]    120  471.    577.  0.815  4494    15     4     120048    1.80 \n",
            "# ℹ 20 more variables: genderH <dbl>, ageH <dbl>, noadultM <dbl>,\n",
            "#   noadultF <dbl>, nokids <dbl>, sizehh <dbl>, farm_cat <chr>, aindex <dbl>,\n",
            "#   lindex <dbl>, prcl_id <dbl>, sur_yr <dbl>, plot_area <dbl>, output <dbl>,\n",
            "#   price <dbl>, value <dbl>, lab_q <dbl>, fert_q <dbl>, irr_q <dbl>,\n",
            "#   mech_v <dbl>, pest_v <dbl>\n"
          ]
        }
      ]
    },
    {
      "cell_type": "markdown",
      "source": [
        "- `unique()` tells you the unique values of a particular variable. To count the number of unique values of a variable, you could use:"
      ],
      "metadata": {
        "id": "7r_H8_791g2m"
      }
    },
    {
      "cell_type": "code",
      "source": [
        "%%R\n",
        "length(unique(df$vil_id))"
      ],
      "metadata": {
        "colab": {
          "base_uri": "https://localhost:8080/"
        },
        "id": "CPGj2lGa1hcW",
        "outputId": "83bacfd3-b474-478a-f124-9618ccd97c28"
      },
      "execution_count": 16,
      "outputs": [
        {
          "output_type": "stream",
          "name": "stdout",
          "text": [
            "[1] 19\n"
          ]
        }
      ]
    },
    {
      "cell_type": "markdown",
      "source": [
        "# **Q2: Use the `length(unique())` command to determine how many unique parcels are in the data. How many distinct households and villages?**"
      ],
      "metadata": {
        "id": "GN9VGI2-0_ye"
      }
    },
    {
      "cell_type": "code",
      "source": [
        "%%R\n",
        "print(length(unique(df$prcl_id))) # parcels\n",
        "print(length(unique(df$vdsa_hh_id))) # households\n",
        "print(length(unique(df$vil_id))) # villages"
      ],
      "metadata": {
        "id": "Y5ReY2nGrV-P",
        "colab": {
          "base_uri": "https://localhost:8080/"
        },
        "outputId": "d4eeef5c-eb30-4a85-acbb-f5fe4746efc8"
      },
      "execution_count": 17,
      "outputs": [
        {
          "output_type": "stream",
          "name": "stdout",
          "text": [
            "[1] 887\n",
            "[1] 352\n",
            "[1] 19\n"
          ]
        }
      ]
    },
    {
      "cell_type": "markdown",
      "source": [
        "# **Data Manipulation**"
      ],
      "metadata": {
        "id": "o6dwHNsq5Cfc"
      }
    },
    {
      "cell_type": "markdown",
      "source": [
        "Variables and observations of a data set can be selected using the `subset()` command. For example, to keep only observations where some variable `var1 > 100`, you could write: `df <- subset(df, var1 > 100)`"
      ],
      "metadata": {
        "id": "qt2NZO0i2Eq8"
      }
    },
    {
      "cell_type": "markdown",
      "source": [
        "Let’s begin to manipulate the data. First, tabulate survey year: `table(df$sur_yr)`."
      ],
      "metadata": {
        "id": "TNQFocQU2OWZ"
      }
    },
    {
      "cell_type": "code",
      "source": [
        "%%R\n",
        "# Display the count of observations for each year in the 'sur_yr' column\n",
        "table(df$sur_yr)"
      ],
      "metadata": {
        "colab": {
          "base_uri": "https://localhost:8080/"
        },
        "id": "o5xt1OO7Efmf",
        "outputId": "ff2cafce-15f1-4767-e194-6cbd74214a58"
      },
      "execution_count": 18,
      "outputs": [
        {
          "output_type": "stream",
          "name": "stdout",
          "text": [
            "\n",
            "2009 2010 2011 2012 2013 \n",
            " 124  408  335  420  249 \n"
          ]
        }
      ]
    },
    {
      "cell_type": "markdown",
      "source": [
        "Notice that survey years 2009 and 2013 have fewer observations than the other years. This is because the VDSA survey only captured half a year of data in 2009 and only recently published the remainder of 2013. So, drop all observations that come from 2009 and 2013."
      ],
      "metadata": {
        "id": "hlHfSm_H2hU9"
      }
    },
    {
      "cell_type": "code",
      "source": [
        "%%R\n",
        "# Subset data for specific years\n",
        "df <- subset(df, sur_yr %in% c(2010, 2011, 2012))\n",
        "#Verify that these obs were dropped\n",
        "table(df$sur_yr)"
      ],
      "metadata": {
        "colab": {
          "base_uri": "https://localhost:8080/"
        },
        "id": "MUPBllP15GgR",
        "outputId": "4b2014bd-1151-4a3d-83c4-ee33f0cca388"
      },
      "execution_count": 19,
      "outputs": [
        {
          "output_type": "stream",
          "name": "stdout",
          "text": [
            "\n",
            "2010 2011 2012 \n",
            " 408  335  420 \n"
          ]
        }
      ]
    },
    {
      "cell_type": "markdown",
      "source": [
        "The `%in%` operator checks if elements belong to a specific set. In this case, the `c()` function creates a vector containing the elements `2010`, `2011`, and `2012`. Therefore, the command can be interpreted as: “Select the rows in `df` where the `sur_yr` variable is one of the values in the set [2010, 2011, 2012], and store this subset in `df`”"
      ],
      "metadata": {
        "id": "Q0If3VQvF6QR"
      }
    },
    {
      "cell_type": "markdown",
      "source": [
        "## **Data Visualization**\n",
        "`R` is a very powerful tool for producing visual analysis. A very popular package used to create plots and graphs is `ggplot2`. The syntax may seem complicated at a first glance, but due to its flexibility, it is a tool that is certainly worthwhile learning.\n",
        "Here is how to generate a histogram and scatter plot to explore the relationships between variables."
      ],
      "metadata": {
        "id": "924IBHM65McZ"
      }
    },
    {
      "cell_type": "code",
      "source": [
        "%%R\n",
        "# Histogram of the 'price' variable\n",
        "ggplot(df, aes(x = price)) +\n",
        "geom_histogram(binwidth = 50, fill = \"steelblue\", color = \"black\", alpha = 0.7) +\n",
        "labs(title = \"Histogram of Price\", x = \"Price\", y = \"Frequency\") +\n",
        "theme_minimal()"
      ],
      "metadata": {
        "colab": {
          "base_uri": "https://localhost:8080/",
          "height": 497
        },
        "id": "HvjfpG36MQoU",
        "outputId": "4fe43258-f73f-4c0e-f01f-097b6c7fb6e3"
      },
      "execution_count": 20,
      "outputs": [
        {
          "output_type": "display_data",
          "data": {
            "image/png": "[encoded data removed]",
            "text/plain": [
              "<IPython.core.display.Image object>"
            ]
          },
          "metadata": {}
        }
      ]
    },
    {
      "cell_type": "markdown",
      "source": [
        "The process is similar to create a scatter plot. Instead of `geom_histogram` you can specify a `geom_point` and include a `y` variable to the `aes()` argument.For example, to create a scatter of `price` and `value` you could write:"
      ],
      "metadata": {
        "id": "0qoi-DdDGZ9R"
      }
    },
    {
      "cell_type": "code",
      "source": [
        "%%R\n",
        "# Scatter Plot of the 'price' variable\n",
        "ggplot(df, aes(x = price, y = output)) +\n",
        "geom_point(color = \"darkgreen\", alpha = 0.6) +\n",
        "labs(title = \"Scatter Plot of Price vs Output\", x = \"Price\", y = \"Output\") +\n",
        "theme_minimal()"
      ],
      "metadata": {
        "colab": {
          "base_uri": "https://localhost:8080/",
          "height": 497
        },
        "id": "RgKB97tWGaGJ",
        "outputId": "9881ecf0-1182-4e0f-8512-f50fca9f1ba4"
      },
      "execution_count": 21,
      "outputs": [
        {
          "output_type": "display_data",
          "data": {
            "image/png": "[encoded data removed]",
            "text/plain": [
              "<IPython.core.display.Image object>"
            ]
          },
          "metadata": {}
        }
      ]
    },
    {
      "cell_type": "markdown",
      "source": [
        "# **Q3: Create scatter plots to explore the relationship between output and each of the following input variables: `plot_area`, `lab_q`,` irr_q`, and `pest_v`. Generate a separate scatter plot for each of these input-output pairs. Based on these plots, what can you infer about the relationships between output and these inputs?**"
      ],
      "metadata": {
        "id": "ivvGM1Op3MLR"
      }
    },
    {
      "cell_type": "code",
      "source": [
        "%%R\n",
        "# Scatter Plot of the 'plot_area' variable\n",
        "ggplot(df, aes(x = plot_area, y = output)) +\n",
        "geom_point(color = \"darkgreen\", alpha = 0.6) +\n",
        "labs(title = \"Scatter Plot of Plot Area vs Output\", x = \"Plot Area\", y = \"Output\") +\n",
        "theme_minimal()"
      ],
      "metadata": {
        "id": "vmeVuTICijyv",
        "colab": {
          "base_uri": "https://localhost:8080/",
          "height": 497
        },
        "outputId": "ef474014-26c0-423f-b860-d6e4d7cfaee6"
      },
      "execution_count": 22,
      "outputs": [
        {
          "output_type": "display_data",
          "data": {
            "image/png": "[encoded data removed]",
            "text/plain": [
              "<IPython.core.display.Image object>"
            ]
          },
          "metadata": {}
        }
      ]
    },
    {
      "cell_type": "code",
      "source": [
        "%%R\n",
        "# Scatter Plot of the 'lab_q' variable\n",
        "ggplot(df, aes(x = lab_q, y = output)) +\n",
        "geom_point(color = \"blue\", alpha = 0.6) +\n",
        "labs(title = \"Scatter Plot of Lab Q vs Output\", x = \"Lab Q\", y = \"Output\") +\n",
        "theme_minimal()"
      ],
      "metadata": {
        "colab": {
          "base_uri": "https://localhost:8080/",
          "height": 497
        },
        "id": "b57FwrzS7u_q",
        "outputId": "18024ca7-0ca1-4c6d-9e75-aaedbdc4b015"
      },
      "execution_count": 23,
      "outputs": [
        {
          "output_type": "display_data",
          "data": {
            "image/png": "[encoded data removed]",
            "text/plain": [
              "<IPython.core.display.Image object>"
            ]
          },
          "metadata": {}
        }
      ]
    },
    {
      "cell_type": "code",
      "source": [
        "%%R\n",
        "# Scatter Plot of the 'irr_q' variable\n",
        "ggplot(df, aes(x = irr_q, y = output)) +\n",
        "geom_point(color = \"red\", alpha = 0.6) +\n",
        "labs(title = \"Scatter Plot of Irr Q vs Output\", x = \"Irr Q\", y = \"Output\") +\n",
        "theme_minimal()"
      ],
      "metadata": {
        "colab": {
          "base_uri": "https://localhost:8080/",
          "height": 497
        },
        "id": "DD7Y66s27zBb",
        "outputId": "23850708-1c98-4e9d-aacc-bb3dea394ac7"
      },
      "execution_count": 24,
      "outputs": [
        {
          "output_type": "display_data",
          "data": {
            "image/png": "[encoded data removed]",
            "text/plain": [
              "<IPython.core.display.Image object>"
            ]
          },
          "metadata": {}
        }
      ]
    },
    {
      "cell_type": "code",
      "source": [
        "%%R\n",
        "# Scatter Plot of the 'pest_v' variable\n",
        "ggplot(df, aes(x = pest_v, y = output)) +\n",
        "geom_point(color = \"orange\", alpha = 0.6) +\n",
        "labs(title = \"Scatter Plot of Pest V vs Output\", x = \"Pest V\", y = \"Output\") +\n",
        "theme_minimal()"
      ],
      "metadata": {
        "colab": {
          "base_uri": "https://localhost:8080/",
          "height": 497
        },
        "id": "FB8Rx_2x75Sp",
        "outputId": "153062a9-1e30-4d09-8ffc-d357520a3a4d"
      },
      "execution_count": 25,
      "outputs": [
        {
          "output_type": "display_data",
          "data": {
            "image/png": "[encoded data removed]",
            "text/plain": [
              "<IPython.core.display.Image object>"
            ]
          },
          "metadata": {}
        }
      ]
    },
    {
      "cell_type": "markdown",
      "source": [
        "**Plot Area** seems to have a direct impact on the output, because the dots follow a rough trendline. **Lab Q** also seems to have some effect but it's less clear. Both **Irr Q** and **Pest V** don't seem to have as much impact, given that the majority of the data points stay on the y-axis as the input changes.\n",
        "\n"
      ],
      "metadata": {
        "id": "MTf-P2-biiuK"
      }
    },
    {
      "cell_type": "markdown",
      "source": [
        "# **Create and Transform Variables**"
      ],
      "metadata": {
        "id": "etYekcVD5YMm"
      }
    },
    {
      "cell_type": "markdown",
      "source": [
        "Creating variables in a data frame in `R `is easy. All you need to do is to assign some value to a variable name that does not exist in the data frame. For example, to create a variable called `var1` in data frame `df` and assign the value of 1 to all observations, you could right:"
      ],
      "metadata": {
        "id": "gwQTLqs033sL"
      }
    },
    {
      "cell_type": "code",
      "source": [
        "%%R\n",
        "# Create `var1` variable in df\n",
        "df$var1 <- 1\n",
        "# Check if var1 was addes\n",
        "head(df)"
      ],
      "metadata": {
        "colab": {
          "base_uri": "https://localhost:8080/"
        },
        "id": "SFyH8uEb36WJ",
        "outputId": "b750dba6-19d9-4eaa-edea-c69fa23f28c3"
      },
      "execution_count": 26,
      "outputs": [
        {
          "output_type": "stream",
          "name": "stdout",
          "text": [
            "# A tibble: 6 × 31\n",
            "  country   vil_id  rain average    dev   pop  dist nomkt vdsa_hh_id tot_acre\n",
            "  <dbl+lbl>  <dbl> <dbl>   <dbl>  <dbl> <dbl> <dbl> <dbl>      <dbl>    <dbl>\n",
            "1 1 [India]    119   NA      NA  NA      3600     5     4     119035    1.22 \n",
            "2 1 [India]    119  496.    577.  0.859  3600     5     4     119034    0.870\n",
            "3 1 [India]    119  471.    577.  0.815  3600     5     4     119034    1.15 \n",
            "4 1 [India]    120  471.    577.  0.815  4494    15     4     120048    1.80 \n",
            "5 1 [India]    119  496.    577.  0.859  3600     5     4     119034    0.870\n",
            "6 1 [India]    137   NA      NA  NA       880    13     2     137032    5    \n",
            "# ℹ 21 more variables: genderH <dbl>, ageH <dbl>, noadultM <dbl>,\n",
            "#   noadultF <dbl>, nokids <dbl>, sizehh <dbl>, farm_cat <chr>, aindex <dbl>,\n",
            "#   lindex <dbl>, prcl_id <dbl>, sur_yr <dbl>, plot_area <dbl>, output <dbl>,\n",
            "#   price <dbl>, value <dbl>, lab_q <dbl>, fert_q <dbl>, irr_q <dbl>,\n",
            "#   mech_v <dbl>, pest_v <dbl>, var1 <dbl>\n"
          ]
        }
      ]
    },
    {
      "cell_type": "markdown",
      "source": [
        "# **Using IHS Transformation for Zero Values**"
      ],
      "metadata": {
        "id": "OWu8kYQ-Kp0s"
      }
    },
    {
      "cell_type": "markdown",
      "source": [
        "In production economics, researchers often use logarithmic transformations of data to simplify relationships between variables and facilitate the estimation of production functions like [Cobb-Douglas](https://en.wikipedia.org/wiki/Cobb%E2%80%93Douglas_production_function) or Translog. The *log transformation* is particularly useful because it allows us to interpret the coefficients from regressions as [elasticities](https://en.wikipedia.org/wiki/Elasticity_(economics), providing insights into how input changes affect output.\n",
        "\n",
        "However, log transformations run into a problem when the data contains zero values. Mathematically, the logarithm of zero $(log(0))$ is undefined, so we cannot directly apply the log function to variables that include zeros, which is common in agricultural production data (e.g., zero pesticide use on certain plots).\n",
        "\n",
        "To address this issue, we can use an alternative transformation known as the **Inverse Hyperbolic Sine (IHS)** Transformation. The IHS transformation provides a way to handle zero values without arbitrarily adding small constants to the data. Its formula is:\n",
        "\n",
        "$$log(x) = log(x+\\sqrt{x^2+1})$$\n",
        "\n",
        "  **Handles Zeros:** Unlike the log transformation, the IHS can handle zeros directly (solves the problem of $log(0)$), making it ideal for datasets where some input quantities (like pesticide use) may be zero.\n",
        "\n",
        "  **Approximation of Logarithmic Scale:** For large values of x, the IHS transformation behaves similarly to the natural logarithm, preserving the interpretability of elasticities in economic models.\n",
        "\n",
        "  **Avoids Arbitrary Additions:** Other methods involve adding a small constant to avoid taking the log of zero (e.g., log(x + 1)). This can introduce bias or arbitrary scaling, which the IHS avoids.\n",
        "\n",
        "In our VDSA data, we often work with output and input variables such as *labor*, *fertilizer,* *irrigation*, and *pesticide*. To make comparisons across plots with different sizes, we typically consider these inputs on a per-hectare basis. To transform these variables using the IHS, we divide by the plot area and then apply the `asinh()` function in `R`.\n",
        "\n",
        "For example, to create a variable called `lny` with the log of output divided by `plot_area`, we can run:"
      ],
      "metadata": {
        "id": "GhQwY03Bi-ce"
      }
    },
    {
      "cell_type": "code",
      "source": [
        "%%R\n",
        "# Calculate the output per hectare by dividing 'output' by 'plot_area'\n",
        "# Apply the inverse hyperbolic sine (asinh) transformation to the result\n",
        "# Assign the transformed values to a new column 'lny' in the data frame 'df'\n",
        "df$lny <- asinh(df$output / df$plot_area)\n",
        "\n",
        "# Check if the new var `lny` was added to df\n",
        "head(df)"
      ],
      "metadata": {
        "colab": {
          "base_uri": "https://localhost:8080/"
        },
        "id": "TIBzh5Urk_g1",
        "outputId": "064b5c70-1e74-4732-a1b9-23feb48ed25c"
      },
      "execution_count": 27,
      "outputs": [
        {
          "output_type": "stream",
          "name": "stdout",
          "text": [
            "# A tibble: 6 × 32\n",
            "  country   vil_id  rain average    dev   pop  dist nomkt vdsa_hh_id tot_acre\n",
            "  <dbl+lbl>  <dbl> <dbl>   <dbl>  <dbl> <dbl> <dbl> <dbl>      <dbl>    <dbl>\n",
            "1 1 [India]    119   NA      NA  NA      3600     5     4     119035    1.22 \n",
            "2 1 [India]    119  496.    577.  0.859  3600     5     4     119034    0.870\n",
            "3 1 [India]    119  471.    577.  0.815  3600     5     4     119034    1.15 \n",
            "4 1 [India]    120  471.    577.  0.815  4494    15     4     120048    1.80 \n",
            "5 1 [India]    119  496.    577.  0.859  3600     5     4     119034    0.870\n",
            "6 1 [India]    137   NA      NA  NA       880    13     2     137032    5    \n",
            "# ℹ 22 more variables: genderH <dbl>, ageH <dbl>, noadultM <dbl>,\n",
            "#   noadultF <dbl>, nokids <dbl>, sizehh <dbl>, farm_cat <chr>, aindex <dbl>,\n",
            "#   lindex <dbl>, prcl_id <dbl>, sur_yr <dbl>, plot_area <dbl>, output <dbl>,\n",
            "#   price <dbl>, value <dbl>, lab_q <dbl>, fert_q <dbl>, irr_q <dbl>,\n",
            "#   mech_v <dbl>, pest_v <dbl>, var1 <dbl>, lny <dbl>\n"
          ]
        }
      ]
    },
    {
      "cell_type": "markdown",
      "source": [
        "# **Q4:  Now, create similar variables for all inputs and call them `lnl`, `lnf`, `lni`, `lnm`, and `lnp`.**"
      ],
      "metadata": {
        "id": "h0Wy0i5f4KGt"
      }
    },
    {
      "cell_type": "code",
      "source": [
        "%%R\n",
        "# Calculate the output per hectare by dividing 'output' by 'plot_area'\n",
        "# Apply the inverse hyperbolic sine (asinh) transformation to the result\n",
        "# Assign the transformed values to a new column 'lny' in the data frame 'df'\n",
        "df$lnl <- asinh(df$lab_q / df$plot_area)\n",
        "df$lnf <- asinh(df$fert_q / df$plot_area)\n",
        "df$lni <- asinh(df$irr_q / df$plot_area)\n",
        "df$lnm <- asinh(df$mech_v / df$plot_area)\n",
        "df$lnp <- asinh(df$pest_v / df$plot_area)\n",
        "\n",
        "# Check if the new vars were added to df\n",
        "head(df)"
      ],
      "metadata": {
        "id": "zc_4vVnRlbLP",
        "colab": {
          "base_uri": "https://localhost:8080/"
        },
        "outputId": "a82dcc5a-0fdf-4e0b-c6b8-5ce99f5fd922"
      },
      "execution_count": 28,
      "outputs": [
        {
          "output_type": "stream",
          "name": "stdout",
          "text": [
            "# A tibble: 6 × 37\n",
            "  country   vil_id  rain average    dev   pop  dist nomkt vdsa_hh_id tot_acre\n",
            "  <dbl+lbl>  <dbl> <dbl>   <dbl>  <dbl> <dbl> <dbl> <dbl>      <dbl>    <dbl>\n",
            "1 1 [India]    119   NA      NA  NA      3600     5     4     119035    1.22 \n",
            "2 1 [India]    119  496.    577.  0.859  3600     5     4     119034    0.870\n",
            "3 1 [India]    119  471.    577.  0.815  3600     5     4     119034    1.15 \n",
            "4 1 [India]    120  471.    577.  0.815  4494    15     4     120048    1.80 \n",
            "5 1 [India]    119  496.    577.  0.859  3600     5     4     119034    0.870\n",
            "6 1 [India]    137   NA      NA  NA       880    13     2     137032    5    \n",
            "# ℹ 27 more variables: genderH <dbl>, ageH <dbl>, noadultM <dbl>,\n",
            "#   noadultF <dbl>, nokids <dbl>, sizehh <dbl>, farm_cat <chr>, aindex <dbl>,\n",
            "#   lindex <dbl>, prcl_id <dbl>, sur_yr <dbl>, plot_area <dbl>, output <dbl>,\n",
            "#   price <dbl>, value <dbl>, lab_q <dbl>, fert_q <dbl>, irr_q <dbl>,\n",
            "#   mech_v <dbl>, pest_v <dbl>, var1 <dbl>, lny <dbl>, lnl <dbl>, lnf <dbl>,\n",
            "#   lni <dbl>, lnm <dbl>, lnp <dbl>\n"
          ]
        }
      ]
    },
    {
      "cell_type": "markdown",
      "source": [
        "Assign labels to the newly created variables, including their units of measurement (e.g., “kg/ha” for fertilizer). Use the provided command lines to add these labels and append them to the original dataset."
      ],
      "metadata": {
        "id": "tYyrW6MFLsS-"
      }
    },
    {
      "cell_type": "code",
      "source": [
        "%%R\n",
        "# Define a vector containing the names of new variables\n",
        "new.vars <- c(\"var1\", \"lny\", \"lnl\", \"lnf\", \"lni\", \"lnm\", \"lnp\")\n",
        "\n",
        "# Create a matrix that combines the new variable names with their corresponding labels\n",
        "# cbind() combines the 'new.vars' vector with a vector of descriptive labels for each variable\n",
        "new.labels <- cbind(new.vars, c(\n",
        "                \"variable with ones\",             # Label for 'var1'\n",
        "                \"log of output per area (Rs/ha)\", # Label for 'lny'\n",
        "                \"log of labor per area (Hr/ha)\",  # Label for 'lnl'\n",
        "                \"log of fertilizer per area (kg/ha)\", # Label for 'lnf'\n",
        "                \"log of irrigation per area (Lt/ha)\", # Label for 'lni'\n",
        "                \"log of mechanistic input per area (Rs/ha)\", # Label for 'lnm'\n",
        "                \"log of pesticide per area (Rs/ha)\"  # Label for 'lnp'\n",
        "))\n",
        "\n",
        "# Set column names for the 'new.labels' matrix to describe what each column represents\n",
        "colnames(new.labels) <- c(\"variable\", \"label\")\n",
        "# View  'new.labels' matrix\n",
        "print(new.labels)"
      ],
      "metadata": {
        "colab": {
          "base_uri": "https://localhost:8080/"
        },
        "id": "tFdoymTH4yTr",
        "outputId": "422dcc31-d864-496e-b04d-9e1969270c7f"
      },
      "execution_count": 29,
      "outputs": [
        {
          "output_type": "stream",
          "name": "stdout",
          "text": [
            "     variable label                                      \n",
            "[1,] \"var1\"   \"variable with ones\"                       \n",
            "[2,] \"lny\"    \"log of output per area (Rs/ha)\"           \n",
            "[3,] \"lnl\"    \"log of labor per area (Hr/ha)\"            \n",
            "[4,] \"lnf\"    \"log of fertilizer per area (kg/ha)\"       \n",
            "[5,] \"lni\"    \"log of irrigation per area (Lt/ha)\"       \n",
            "[6,] \"lnm\"    \"log of mechanistic input per area (Rs/ha)\"\n",
            "[7,] \"lnp\"    \"log of pesticide per area (Rs/ha)\"        \n"
          ]
        }
      ]
    },
    {
      "cell_type": "markdown",
      "source": [
        "# **Regression Analysis**\n",
        "\n",
        "Finally, we can now run regressions in `R`. Basic OLS Regressions in `R` are run in the following form: `lm(indep_var ~ dep_var1 + … + dep_varN, data = data_frame_name)`\n",
        "\n",
        "Where the first set of arguments are the regression formula and the second indicates the data frame to be used. To visualize a detailed regression output table, you can assign the regression to an object and call the `summary()` of it:\n",
        "\n",
        "`summary(lm(indep_var ~ dep_var1 + … , data = df))`\n"
      ],
      "metadata": {
        "id": "kyZWx14T5iHk"
      }
    },
    {
      "cell_type": "markdown",
      "source": [
        "# **Q5: Run a simple regression with log labor, fertilizer, irrigation, mechanization, and pesticide as independent variables and log yield as the dependent variable. How do you interpret the point estimates on each variable?**"
      ],
      "metadata": {
        "id": "HKo5Ebwo48bY"
      }
    },
    {
      "cell_type": "code",
      "source": [
        "%%R\n",
        "# some weird infinity values break model. Remove infs:\n",
        "drop_infs_df <- df[is.finite(df$lny) & is.finite(df$lnl) & is.finite(df$lnf) &\n",
        "                  is.finite(df$lni) & is.finite(df$lnm) & is.finite(df$lnp), ]\n",
        "\n",
        "summary(lm(lny ~ lnl + lnf + lni + lnm + lnp, data = drop_infs_df))\n"
      ],
      "metadata": {
        "id": "wRqIIa-C5JCS",
        "colab": {
          "base_uri": "https://localhost:8080/"
        },
        "outputId": "859d448f-e6b8-4028-bc86-38f043c6998f"
      },
      "execution_count": 30,
      "outputs": [
        {
          "output_type": "stream",
          "name": "stdout",
          "text": [
            "\n",
            "Call:\n",
            "lm(formula = lny ~ lnl + lnf + lni + lnm + lnp, data = drop_infs_df)\n",
            "\n",
            "Residuals:\n",
            "     Min       1Q   Median       3Q      Max \n",
            "-0.32639 -0.10667  0.01569  0.07388  0.44408 \n",
            "\n",
            "Coefficients:\n",
            "            Estimate Std. Error t value Pr(>|t|)    \n",
            "(Intercept)  5.68684    0.21465  26.494  < 2e-16 ***\n",
            "lnl          0.28033    0.05137   5.457 4.01e-06 ***\n",
            "lnf          0.83279    0.11996   6.942 4.53e-08 ***\n",
            "lni          0.01209    0.02684   0.451 0.655098    \n",
            "lnm         -0.71814    0.17416  -4.123 0.000218 ***\n",
            "lnp         -0.04162    0.03685  -1.129 0.266434    \n",
            "---\n",
            "Signif. codes:  0 ‘***’ 0.001 ‘**’ 0.01 ‘*’ 0.05 ‘.’ 0.1 ‘ ’ 1\n",
            "\n",
            "Residual standard error: 0.1605 on 35 degrees of freedom\n",
            "Multiple R-squared:  0.8852,\tAdjusted R-squared:  0.8688 \n",
            "F-statistic:    54 on 5 and 35 DF,  p-value: 1.808e-15\n",
            "\n"
          ]
        }
      ]
    },
    {
      "cell_type": "markdown",
      "source": [
        "The point estimates for lnl, lnf, and lnm have a large magnitude, indicating that labor, fertilizer, and mechanism are important variables. lni and lnp (irrigation and pests) are less important based on the coefficients."
      ],
      "metadata": {
        "id": "6OcvBeBVmR0g"
      }
    },
    {
      "cell_type": "markdown",
      "source": [
        "Before we move on, let’s create a binary indicator for irrigation use called `irr` that equals **1** if the parcel under observation had irrigation greater than zero and equals zero if the parcel had no irrigation."
      ],
      "metadata": {
        "id": "ZQrPw-oCmhXj"
      }
    },
    {
      "cell_type": "code",
      "source": [
        "%%R\n",
        "# Create binary indicator ffor irrigation called `irr`\n",
        "df$irr <- ifelse(df$irr_q > 0, 1, 0)\n",
        "# Check if the new var was added by displaying the first few rows of the df\n",
        "head(df)"
      ],
      "metadata": {
        "colab": {
          "base_uri": "https://localhost:8080/"
        },
        "id": "L5JhkB0jmtBx",
        "outputId": "11562ca4-9d1c-4a9f-bb5e-51fab2be0d3c"
      },
      "execution_count": 31,
      "outputs": [
        {
          "output_type": "stream",
          "name": "stdout",
          "text": [
            "# A tibble: 6 × 38\n",
            "  country   vil_id  rain average    dev   pop  dist nomkt vdsa_hh_id tot_acre\n",
            "  <dbl+lbl>  <dbl> <dbl>   <dbl>  <dbl> <dbl> <dbl> <dbl>      <dbl>    <dbl>\n",
            "1 1 [India]    119   NA      NA  NA      3600     5     4     119035    1.22 \n",
            "2 1 [India]    119  496.    577.  0.859  3600     5     4     119034    0.870\n",
            "3 1 [India]    119  471.    577.  0.815  3600     5     4     119034    1.15 \n",
            "4 1 [India]    120  471.    577.  0.815  4494    15     4     120048    1.80 \n",
            "5 1 [India]    119  496.    577.  0.859  3600     5     4     119034    0.870\n",
            "6 1 [India]    137   NA      NA  NA       880    13     2     137032    5    \n",
            "# ℹ 28 more variables: genderH <dbl>, ageH <dbl>, noadultM <dbl>,\n",
            "#   noadultF <dbl>, nokids <dbl>, sizehh <dbl>, farm_cat <chr>, aindex <dbl>,\n",
            "#   lindex <dbl>, prcl_id <dbl>, sur_yr <dbl>, plot_area <dbl>, output <dbl>,\n",
            "#   price <dbl>, value <dbl>, lab_q <dbl>, fert_q <dbl>, irr_q <dbl>,\n",
            "#   mech_v <dbl>, pest_v <dbl>, var1 <dbl>, lny <dbl>, lnl <dbl>, lnf <dbl>,\n",
            "#   lni <dbl>, lnm <dbl>, lnp <dbl>, irr <dbl>\n"
          ]
        }
      ]
    },
    {
      "cell_type": "markdown",
      "source": [
        "This will be our “treatment” variable. Let’s also create log transformed variables of `aindex`, `lindex`, `tot_acre`, and `dist` using the Inverse Hyperbolic Sine (IHS) `asinh()`. Call them `lnaindex`, `lnlindex`, `lntot_acre`, and `lndist`."
      ],
      "metadata": {
        "id": "GWrc9TRAmxFh"
      }
    },
    {
      "cell_type": "code",
      "source": [
        "%%R\n",
        "# Apply the inverse hyperbolic sine (asinh) transformation to 'aindex'\n",
        "df$lnaindex <- asinh(df$aindex)\n",
        "\n",
        "# Apply the inverse hyperbolic sine (asinh) transformation to 'lindex'\n",
        "df$lnlindex <- asinh(df$lindex)\n",
        "\n",
        "# Apply the inverse hyperbolic sine (asinh) transformation to 'tot_acre'\n",
        "df$lntot_acre <- asinh(df$tot_acre)\n",
        "\n",
        "# Apply the inverse hyperbolic sine (asinh) transformation to 'dist'\n",
        "df$lndist <- asinh(df$dist)\n",
        "\n",
        "# Check if the new columns were added by displaying the first few rows of the data frame\n",
        "head(df)"
      ],
      "metadata": {
        "colab": {
          "base_uri": "https://localhost:8080/"
        },
        "id": "eSKlrU7VMLZz",
        "outputId": "f70703d5-9544-44d4-e3c5-fa5af4719ba4"
      },
      "execution_count": 32,
      "outputs": [
        {
          "output_type": "stream",
          "name": "stdout",
          "text": [
            "# A tibble: 6 × 42\n",
            "  country   vil_id  rain average    dev   pop  dist nomkt vdsa_hh_id tot_acre\n",
            "  <dbl+lbl>  <dbl> <dbl>   <dbl>  <dbl> <dbl> <dbl> <dbl>      <dbl>    <dbl>\n",
            "1 1 [India]    119   NA      NA  NA      3600     5     4     119035    1.22 \n",
            "2 1 [India]    119  496.    577.  0.859  3600     5     4     119034    0.870\n",
            "3 1 [India]    119  471.    577.  0.815  3600     5     4     119034    1.15 \n",
            "4 1 [India]    120  471.    577.  0.815  4494    15     4     120048    1.80 \n",
            "5 1 [India]    119  496.    577.  0.859  3600     5     4     119034    0.870\n",
            "6 1 [India]    137   NA      NA  NA       880    13     2     137032    5    \n",
            "# ℹ 32 more variables: genderH <dbl>, ageH <dbl>, noadultM <dbl>,\n",
            "#   noadultF <dbl>, nokids <dbl>, sizehh <dbl>, farm_cat <chr>, aindex <dbl>,\n",
            "#   lindex <dbl>, prcl_id <dbl>, sur_yr <dbl>, plot_area <dbl>, output <dbl>,\n",
            "#   price <dbl>, value <dbl>, lab_q <dbl>, fert_q <dbl>, irr_q <dbl>,\n",
            "#   mech_v <dbl>, pest_v <dbl>, var1 <dbl>, lny <dbl>, lnl <dbl>, lnf <dbl>,\n",
            "#   lni <dbl>, lnm <dbl>, lnp <dbl>, irr <dbl>, lnaindex <dbl>, lnlindex <dbl>,\n",
            "#   lntot_acre <dbl>, lndist <dbl>\n"
          ]
        }
      ]
    },
    {
      "cell_type": "markdown",
      "source": [
        "# **Save the Processed Data**\n",
        "\n",
        "To save this data frame as .csv file called `VDSA_Prod_Data_Ref.csv,` you can use the following command:\n",
        "\n",
        "\n",
        "\n"
      ],
      "metadata": {
        "id": "n3cnbx2e5oPc"
      }
    },
    {
      "cell_type": "code",
      "source": [
        "%%R\n",
        "# Save the data frame as a CSV file\n",
        "write.csv(df, \"/content/VDSA_Prod_Data_Ref.csv\", row.names = FALSE)\n"
      ],
      "metadata": {
        "id": "5jVolYFo5ns0"
      },
      "execution_count": 33,
      "outputs": []
    },
    {
      "cell_type": "markdown",
      "source": [
        "# **Note** : Make sure to navigate to the side pane and locate the content folder. Expand the folder and locate your file. Download this file and store it in your dedicated GEOG279 folder or any other folder of your choice."
      ],
      "metadata": {
        "id": "QeWbdrJ2Mxfa"
      }
    },
    {
      "cell_type": "markdown",
      "source": [
        "# **The Challenge of Establishing a Causal Effect**\n",
        "\n",
        "To provide a sense of the difficulty in establishing causal effects, we're going to look at our data in two different ways.\n",
        "* First, we are going to compare the effect of a hypothetical irrigation intervention on those who received the irrigation treatment versus those who did not. This is our **Within/Without** comparison.\n",
        "* Second, we are going to compare the effect of the irrigation treatment on households **Before** they received the treatment and **After** they received the treatment. This is our  **Before/After** comparison."
      ],
      "metadata": {
        "id": "OQAvJW3moI9q"
      }
    },
    {
      "cell_type": "markdown",
      "source": [
        "### **1. Within/Without Comparison**\n",
        "\n"
      ],
      "metadata": {
        "id": "IG8IVSf2oR4E"
      }
    },
    {
      "cell_type": "markdown",
      "source": [
        "Using the transformed data frame that you just saved, create a new data set that contains only data from `sur_yr=2011`. Call it `df_2011`:"
      ],
      "metadata": {
        "id": "TQmtFs26N4Sb"
      }
    },
    {
      "cell_type": "code",
      "source": [
        "%%R\n",
        "# Create a new df named  `df_2011` that contains only data from sur_yr=2011.\n",
        "df_2011 <- subset(df, df$sur_yr==\"2011\")\n",
        "head(df_2011 )"
      ],
      "metadata": {
        "colab": {
          "base_uri": "https://localhost:8080/"
        },
        "id": "I6AzN7BsoHwT",
        "outputId": "1935f2af-f7d6-4ba4-f709-3151432df7d0"
      },
      "execution_count": 34,
      "outputs": [
        {
          "output_type": "stream",
          "name": "stdout",
          "text": [
            "# A tibble: 6 × 42\n",
            "  country   vil_id  rain average   dev   pop  dist nomkt vdsa_hh_id tot_acre\n",
            "  <dbl+lbl>  <dbl> <dbl>   <dbl> <dbl> <dbl> <dbl> <dbl>      <dbl>    <dbl>\n",
            "1 1 [India]    119  496.    577. 0.859  3600   5       4     119034    0.870\n",
            "2 1 [India]    119  496.    577. 0.859  3600   5       4     119034    0.870\n",
            "3 1 [India]    118  465.    501. 0.929  3000   4.5     4     118030    1.10 \n",
            "4 1 [India]    118  465.    501. 0.929  3000   4.5     4     118030    1.10 \n",
            "5 1 [India]    119  496.    577. 0.859  3600   5       4     119035    0.75 \n",
            "6 1 [India]    119  496.    577. 0.859  3600   5       4     119034    0.870\n",
            "# ℹ 32 more variables: genderH <dbl>, ageH <dbl>, noadultM <dbl>,\n",
            "#   noadultF <dbl>, nokids <dbl>, sizehh <dbl>, farm_cat <chr>, aindex <dbl>,\n",
            "#   lindex <dbl>, prcl_id <dbl>, sur_yr <dbl>, plot_area <dbl>, output <dbl>,\n",
            "#   price <dbl>, value <dbl>, lab_q <dbl>, fert_q <dbl>, irr_q <dbl>,\n",
            "#   mech_v <dbl>, pest_v <dbl>, var1 <dbl>, lny <dbl>, lnl <dbl>, lnf <dbl>,\n",
            "#   lni <dbl>, lnm <dbl>, lnp <dbl>, irr <dbl>, lnaindex <dbl>, lnlindex <dbl>,\n",
            "#   lntot_acre <dbl>, lndist <dbl>\n"
          ]
        }
      ]
    },
    {
      "cell_type": "markdown",
      "source": [
        "# **Q6: Generate a table (using the `by()` function) that shows the yields for those with irrigation treatment and those without the irrigation treatment. What do you learn from the table about the impact of the irrigation treatment on the log of yields?**"
      ],
      "metadata": {
        "id": "IeYtUtke6QbT"
      }
    },
    {
      "cell_type": "code",
      "source": [
        "%%R\n",
        "by(df_2011$output, df_2011$irr, FUN = summary)\n",
        "# by(df_2011$lny, df_2011$irr, FUN = summary)"
      ],
      "metadata": {
        "id": "C3kOxlqao0vf",
        "colab": {
          "base_uri": "https://localhost:8080/"
        },
        "outputId": "d70c6a67-0abe-4d18-9d9a-77bcbee679d4"
      },
      "execution_count": 35,
      "outputs": [
        {
          "output_type": "stream",
          "name": "stdout",
          "text": [
            "df_2011$irr: 0\n",
            "   Min. 1st Qu.  Median    Mean 3rd Qu.    Max. \n",
            "      0     800    1748    2317    2991   18010 \n",
            "------------------------------------------------------------ \n",
            "df_2011$irr: 1\n",
            "   Min. 1st Qu.  Median    Mean 3rd Qu.    Max. \n",
            "      0     900    2100    3253    4462   23040 \n"
          ]
        }
      ]
    },
    {
      "cell_type": "markdown",
      "source": [
        "Irrigation increases the log of yields because the mean is higher for irrigated plots."
      ],
      "metadata": {
        "id": "t5eCobnH6auB"
      }
    },
    {
      "cell_type": "markdown",
      "source": [
        "# **Q7: Perform a `t.test()` to compare the mean yield between households that received irrigation treatment and those that did not (the control group). Based on the results, what can you conclude about the impact of irrigation on yield? Does this test estimate the intention-to-treat effect, the effect of treatment on the treated, or the average treatment effect? Explain your reasoning.**"
      ],
      "metadata": {
        "id": "jTdBnVYK6ghd"
      }
    },
    {
      "cell_type": "code",
      "source": [
        "%%R\n",
        "t.test(output ~ irr, data = df_2011)"
      ],
      "metadata": {
        "id": "A73A5nhOopMV",
        "colab": {
          "base_uri": "https://localhost:8080/"
        },
        "outputId": "e6512ed9-2da6-4fc2-99ef-38a347c321e3"
      },
      "execution_count": 36,
      "outputs": [
        {
          "output_type": "stream",
          "name": "stdout",
          "text": [
            "\n",
            "\tWelch Two Sample t-test\n",
            "\n",
            "data:  output by irr\n",
            "t = -2.7954, df = 323.84, p-value = 0.005493\n",
            "alternative hypothesis: true difference in means between group 0 and group 1 is not equal to 0\n",
            "95 percent confidence interval:\n",
            " -1593.8506  -277.1221\n",
            "sample estimates:\n",
            "mean in group 0 mean in group 1 \n",
            "       2317.203        3252.689 \n",
            "\n"
          ]
        }
      ]
    },
    {
      "cell_type": "markdown",
      "source": [
        "Based on the small p value (0.0055), the difference between irrigated and non-irrigated systems is statistically significant. Therefore, irrigation likely really does impact yields.\n",
        "\n",
        "We are testing the effect of treatment on the treated, because the test looks at plots that were actually irrigated or not. So the question becomes how impactful the irrigation was, not if or how well the plot was irrigated."
      ],
      "metadata": {
        "id": "PGbLUuHX6pMn"
      }
    },
    {
      "cell_type": "markdown",
      "source": [
        "# **Q8: Run a regression analysis using only the irrigation treatment variable (irr) as the predictor and the logarithm of crop yield (lny) as the outcome. What do the results indicate? Specifically, what is the marginal effect of irrigation on crop yield? Does this regression capture the true impact of the irrigation treatment? Why or why not?**"
      ],
      "metadata": {
        "id": "2kKJTAFU6sGB"
      }
    },
    {
      "cell_type": "code",
      "source": [
        "%%R\n",
        "summary(lm(lny ~ irr, data = df_2011))"
      ],
      "metadata": {
        "id": "uu4UaoI8ojEW",
        "colab": {
          "base_uri": "https://localhost:8080/"
        },
        "outputId": "d4ecab53-0152-4129-d9ab-a145aa5bcc7e"
      },
      "execution_count": 37,
      "outputs": [
        {
          "output_type": "stream",
          "name": "stdout",
          "text": [
            "\n",
            "Call:\n",
            "lm(formula = lny ~ irr, data = df_2011)\n",
            "\n",
            "Residuals:\n",
            "    Min      1Q  Median      3Q     Max \n",
            "-8.5220 -0.1651  0.1658  0.4318  3.2071 \n",
            "\n",
            "Coefficients:\n",
            "            Estimate Std. Error t value Pr(>|t|)    \n",
            "(Intercept)  8.18933    0.08792  93.145  < 2e-16 ***\n",
            "irr          0.33269    0.11928   2.789  0.00559 ** \n",
            "---\n",
            "Signif. codes:  0 ‘***’ 0.001 ‘**’ 0.01 ‘*’ 0.05 ‘.’ 0.1 ‘ ’ 1\n",
            "\n",
            "Residual standard error: 1.088 on 333 degrees of freedom\n",
            "Multiple R-squared:  0.02283,\tAdjusted R-squared:  0.01989 \n",
            "F-statistic: 7.779 on 1 and 333 DF,  p-value: 0.005589\n",
            "\n"
          ]
        }
      ]
    },
    {
      "cell_type": "markdown",
      "source": [
        "The results indicate that irrigation has a positive effect, based on the coefficient 0.33. Irrigating households have a 33.3% greater yield than non-irrigating households. I don't think these results capture the true impact of irrigation on treatment, because we not controling for other variables (income, amount of land, distance to water sources, etc.)"
      ],
      "metadata": {
        "id": "IZT0DUzJpb47"
      }
    },
    {
      "cell_type": "markdown",
      "source": [
        "# **Q9: Now, include the following control variables in your regression model: `lnl`, `lnf`,  `lnm`, `lnp`, `ageH`, `genderH`, `sizehh`, `aindex`, `lindex`, `tot_acre`, and `dist`. Optionally, you can apply a log transformation to `aindex`, `lindex`, `tot_acre`, and `dist`, but it is not required. Use `lny` as the dependent variable. In future exercises, we will refer to this set of 10 variables as our “standard set of control variables.”**"
      ],
      "metadata": {
        "id": "EH78A4pb61UQ"
      }
    },
    {
      "cell_type": "code",
      "source": [
        "%%R\n",
        "df_2011_nas <- df_2011[is.finite(df_2011$lny) & is.finite(df_2011$irr) &\n",
        "                       is.finite(df_2011$lnl) & is.finite(df_2011$lnf) &\n",
        "                       is.finite(df_2011$lnm) & is.finite(df_2011$lnp) &\n",
        "                       is.finite(df_2011$ageH) & is.finite(df_2011$sizehh) &\n",
        "                       is.finite(df_2011$lnaindex) & is.finite(df_2011$lnlindex) &\n",
        "                       is.finite(df_2011$lntot_acre) & is.finite(df_2011$lndist), ]\n",
        "summary(lm(lny ~ irr + lnl + lnf + lnm + lnp + ageH + genderH + sizehh + lnaindex +\n",
        "           lnlindex + lntot_acre + lndist, data = df_2011_nas))"
      ],
      "metadata": {
        "id": "O8TPD4M_66Di",
        "colab": {
          "base_uri": "https://localhost:8080/"
        },
        "outputId": "b4413e9b-c75a-43e4-8041-ded171044272"
      },
      "execution_count": 65,
      "outputs": [
        {
          "output_type": "stream",
          "name": "stdout",
          "text": [
            "\n",
            "Call:\n",
            "lm(formula = lny ~ irr + lnl + lnf + lnm + lnp + ageH + genderH + \n",
            "    sizehh + lnaindex + lnlindex + lntot_acre + lndist, data = df_2011_nas)\n",
            "\n",
            "Residuals:\n",
            "     Min       1Q   Median       3Q      Max \n",
            "-0.40756 -0.13921 -0.00184  0.10162  0.58236 \n",
            "\n",
            "Coefficients: (1 not defined because of singularities)\n",
            "            Estimate Std. Error t value Pr(>|t|)    \n",
            "(Intercept) 10.45954    1.66850   6.269 2.61e-06 ***\n",
            "irr         -2.52542    1.64646  -1.534 0.139324    \n",
            "lnl         -0.16131    0.15335  -1.052 0.304283    \n",
            "lnf          0.17722    0.10904   1.625 0.118344    \n",
            "lnm          0.34671    0.16070   2.157 0.042160 *  \n",
            "lnp          0.48900    0.11539   4.238 0.000338 ***\n",
            "ageH        -0.01621    0.00787  -2.060 0.051437 .  \n",
            "genderH           NA         NA      NA       NA    \n",
            "sizehh      -0.01267    0.02339  -0.542 0.593388    \n",
            "lnaindex     0.12101    0.10741   1.127 0.272009    \n",
            "lnlindex     0.11154    0.09344   1.194 0.245294    \n",
            "lntot_acre  -0.20642    0.07993  -2.583 0.016985 *  \n",
            "lndist      -0.74679    0.50560  -1.477 0.153839    \n",
            "---\n",
            "Signif. codes:  0 ‘***’ 0.001 ‘**’ 0.01 ‘*’ 0.05 ‘.’ 0.1 ‘ ’ 1\n",
            "\n",
            "Residual standard error: 0.2691 on 22 degrees of freedom\n",
            "Multiple R-squared:  0.8944,\tAdjusted R-squared:  0.8416 \n",
            "F-statistic: 16.94 on 11 and 22 DF,  p-value: 2.865e-08\n",
            "\n"
          ]
        }
      ]
    },
    {
      "cell_type": "markdown",
      "source": [
        "# **Q10: How do the regression results change after adding the control variables? What does the new point estimate indicate? Is the coefficient on `irr` now an unbiased estimate of the treatment effect, or could it represent something else? Explain your interpretation.**"
      ],
      "metadata": {
        "id": "3XQoY8uJ7A8q"
      }
    },
    {
      "cell_type": "markdown",
      "source": [
        "Based on these results, after controlling for the other variables irrigation has a negative coefficient (irrigating makes household yield worse). I think that there might have been selection bias in who was irrigating or not in 2011. I do not think that the -2.5 coefficient is an unbiased estimate."
      ],
      "metadata": {
        "id": "JH4ysSEapwEk"
      }
    },
    {
      "cell_type": "markdown",
      "source": [
        "# **Before/After Comparison**"
      ],
      "metadata": {
        "id": "-YRiECkLpzA3"
      }
    },
    {
      "cell_type": "markdown",
      "source": [
        "Return to the data frame used before the Within/Without comparison `(df)`. Using this data set create a new data set that contains only households that received the irrigation treatment. To do this, run the following set of commands:**"
      ],
      "metadata": {
        "id": "1TkW96ZM7tGX"
      }
    },
    {
      "cell_type": "code",
      "source": [
        "%%R\n",
        "# drop observations from 2012\n",
        "df_small <- subset(df, sur_yr != 2012)\n",
        "\n",
        "# count observations per parcel\n",
        "df_small$obs <- ave(df_small$var1, df_small$prcl_id, FUN=sum)\n",
        "\n",
        "# identify treated parcels in 2011\n",
        "df_small$tr_2011 <- ifelse(df_small$sur_yr == 2011 & df_small$irr == 1, 1, 0)\n",
        "\n",
        "# assign 2011 treatement status to observations in both years\n",
        "df_small$tr_2011 <- ave(df_small$tr_2011, df_small$prcl_id, FUN=sum)\n",
        "\n",
        "# subset of observations treated in 2011\n",
        "df_tr2011 <- subset(df_small, tr_2011 == 1)\n",
        "\n",
        "# keep only variables observed in both years\n",
        "df_tr2011 <- subset(df_tr2011, obs == 2)\n",
        "\n",
        "# make sure observations are balanced\n",
        "table(df_tr2011$irr)"
      ],
      "metadata": {
        "id": "sqjQKk2zp8Ii",
        "colab": {
          "base_uri": "https://localhost:8080/"
        },
        "outputId": "a9645eef-29cc-4e8e-cbc9-61a50a7d848a"
      },
      "execution_count": 39,
      "outputs": [
        {
          "output_type": "stream",
          "name": "stdout",
          "text": [
            "\n",
            "  0   1 \n",
            "108 108 \n"
          ]
        }
      ]
    },
    {
      "cell_type": "markdown",
      "source": [
        "#  **Q11: Generate a table (using the summary command) that shows the average yields for households before they received the irrigation treatment and average yields after the irrigation treatment. What do you learn from the table about the impact of the irrigation treatment on yields?**"
      ],
      "metadata": {
        "id": "M5AjHDZD7eqR"
      }
    },
    {
      "cell_type": "code",
      "source": [
        "%%R\n",
        "print(summary(df_tr2011$output[df_tr2011$sur_yr == 2010]))\n",
        "summary(df_tr2011$output[df_tr2011$sur_yr == 2011])\n"
      ],
      "metadata": {
        "id": "tyvubhUOqRW2",
        "colab": {
          "base_uri": "https://localhost:8080/"
        },
        "outputId": "c41d724a-cd0b-4b40-86fb-bc075808f109"
      },
      "execution_count": 40,
      "outputs": [
        {
          "output_type": "stream",
          "name": "stdout",
          "text": [
            "   Min. 1st Qu.  Median    Mean 3rd Qu.    Max. \n",
            "      0     400    1000    1279    1642    8400 \n",
            "   Min. 1st Qu.  Median    Mean 3rd Qu.    Max. \n",
            "    0.0   982.5  2880.0  3997.3  5655.0 18600.0 \n"
          ]
        }
      ]
    },
    {
      "cell_type": "markdown",
      "source": [
        "In 2010, before irrigation, the mean yield was 1279. In 2011, after irrigation, the mean yield was 3997.3. Irrigation treatment seems to have had a positive effect on yields."
      ],
      "metadata": {
        "id": "4qGMdK997zoi"
      }
    },
    {
      "cell_type": "markdown",
      "source": [
        "# **Q12: Run a `t.test` to compare the mean yield by households before and after the irrigation treatment. What does the test indicate? Is this estimate the intention to treat effect, the effect of treatment on the treated, or the average treatment effect? Explain.**"
      ],
      "metadata": {
        "id": "wFwN-G4D71ws"
      }
    },
    {
      "cell_type": "code",
      "source": [
        "%%R\n",
        "t.test(df_tr2011$output[df_tr2011$sur_yr == 2011],\n",
        "       df_tr2011$output[df_tr2011$sur_yr == 2010], paired = TRUE)"
      ],
      "metadata": {
        "id": "ZHSQe0NYqVuo",
        "colab": {
          "base_uri": "https://localhost:8080/"
        },
        "outputId": "448923d1-3d23-4ea9-e09a-11fa784b5340"
      },
      "execution_count": 41,
      "outputs": [
        {
          "output_type": "stream",
          "name": "stdout",
          "text": [
            "\n",
            "\tPaired t-test\n",
            "\n",
            "data:  df_tr2011$output[df_tr2011$sur_yr == 2011] and df_tr2011$output[df_tr2011$sur_yr == 2010]\n",
            "t = 7.1589, df = 107, p-value = 1.072e-10\n",
            "alternative hypothesis: true mean difference is not equal to 0\n",
            "95 percent confidence interval:\n",
            " 1965.627 3471.140\n",
            "sample estimates:\n",
            "mean difference \n",
            "       2718.383 \n",
            "\n"
          ]
        }
      ]
    },
    {
      "cell_type": "markdown",
      "source": [
        "The p-value is very small, so the the increase is statistically significant. The mean difference is 2718, which is how much (on average) the household output increased while irrigating. There is a 95% confidence that the increase is within the range 1965.6 - 3471.1. This is measuring the effect of treatment of the treated, because we are only looking at plots that were not irrigated, and then were irrigated, and then documenting that yield result. We do not consider plots that were not irrigated and stayed not irrigated."
      ],
      "metadata": {
        "id": "oAfHS3_gqY9C"
      }
    },
    {
      "cell_type": "markdown",
      "source": [
        "# **Q13: Run a regression that includes only the irrigation treatment variable and the log of crop yield as the outcome. What is the result? What is the marginal effect of having irrigation on crop yield? Is this the impact of the irrigation treatment?**"
      ],
      "metadata": {
        "id": "bmm_yCgg8EtX"
      }
    },
    {
      "cell_type": "code",
      "source": [
        "%%R\n",
        "summary(lm(lny ~ irr, data = df_tr2011))"
      ],
      "metadata": {
        "id": "TVv9NWEWqiL2",
        "colab": {
          "base_uri": "https://localhost:8080/"
        },
        "outputId": "7a73ec99-5918-4d03-ecf1-72f2d631bb7c"
      },
      "execution_count": 42,
      "outputs": [
        {
          "output_type": "stream",
          "name": "stdout",
          "text": [
            "\n",
            "Call:\n",
            "lm(formula = lny ~ irr, data = df_tr2011)\n",
            "\n",
            "Residuals:\n",
            "    Min      1Q  Median      3Q     Max \n",
            "-8.4920  0.0412  0.3426  0.4841  2.5654 \n",
            "\n",
            "Coefficients:\n",
            "            Estimate Std. Error t value Pr(>|t|)    \n",
            "(Intercept)  8.49197    0.14084   60.30   <2e-16 ***\n",
            "irr         -0.01393    0.19917   -0.07    0.944    \n",
            "---\n",
            "Signif. codes:  0 ‘***’ 0.001 ‘**’ 0.01 ‘*’ 0.05 ‘.’ 0.1 ‘ ’ 1\n",
            "\n",
            "Residual standard error: 1.464 on 214 degrees of freedom\n",
            "Multiple R-squared:  2.286e-05,\tAdjusted R-squared:  -0.00465 \n",
            "F-statistic: 0.004893 on 1 and 214 DF,  p-value: 0.9443\n",
            "\n"
          ]
        }
      ]
    },
    {
      "cell_type": "markdown",
      "source": [
        "The coeffiecient for irrigation in this case is small and the p value is close to one, so this regression concludes that irrigation does not have much of an effect on log of crop yield. This is not a good descripter of the impact of irrigation treatment because the irr variable only indicates whether or not a plot was irrigated, not when (?)"
      ],
      "metadata": {
        "id": "Em9V-2ztqWsF"
      }
    },
    {
      "cell_type": "markdown",
      "source": [
        "# **Q14: Now add the standard set of control variables. How do our results change? What does the point estimate tell us? Is the coefficient on irr the unbiased effect of the treatment? What else could it be?**"
      ],
      "metadata": {
        "id": "mgVfXSow8P-b"
      }
    },
    {
      "cell_type": "code",
      "source": [
        "%%R\n",
        "summary(lm(lny ~ irr + ageH + genderH + sizehh +\n",
        "                                log1p(aindex) + log1p(lindex) +\n",
        "                                log1p(tot_acre) + log1p(dist) + farm_cat,\n",
        "                                data = df))"
      ],
      "metadata": {
        "id": "mFyh4-kNqWN3",
        "colab": {
          "base_uri": "https://localhost:8080/",
          "height": 678
        },
        "outputId": "07f67c7d-9c2d-4257-f4e2-a9709a70e4c8"
      },
      "execution_count": 59,
      "outputs": [
        {
          "output_type": "stream",
          "name": "stdout",
          "text": [
            "\n",
            "Call:\n",
            "lm(formula = lny ~ irr + ageH + genderH + sizehh + log1p(aindex) + \n",
            "    log1p(lindex) + log1p(tot_acre) + log1p(dist) + farm_cat, \n",
            "    data = df)\n",
            "\n",
            "Residuals:\n",
            "    Min      1Q  Median      3Q     Max \n",
            "-8.5598 -0.1842  0.1333  0.3818  3.0308 \n",
            "\n",
            "Coefficients:\n",
            "                  Estimate Std. Error t value Pr(>|t|)    \n",
            "(Intercept)      8.5784247  0.3309692  25.919  < 2e-16 ***\n",
            "irr              0.0950673  0.0742969   1.280  0.20105    \n",
            "ageH             0.0005203  0.0027498   0.189  0.84998    \n",
            "genderH         -0.0731635  0.2056843  -0.356  0.72215    \n",
            "sizehh           0.0034004  0.0090567   0.375  0.70741    \n",
            "log1p(aindex)    0.0274783  0.0327302   0.840  0.40141    \n",
            "log1p(lindex)    0.1126684  0.0551145   2.044  0.04124 *  \n",
            "log1p(tot_acre) -0.0292252  0.0719263  -0.406  0.68461    \n",
            "log1p(dist)     -0.1208159  0.0417737  -2.892  0.00393 ** \n",
            "farm_catLB       0.5293684  0.4381879   1.208  0.22735    \n",
            "farm_catMD       0.1675724  0.0964976   1.737  0.08283 .  \n",
            "farm_catSM       0.1292321  0.1287427   1.004  0.31576    \n",
            "---\n",
            "Signif. codes:  0 ‘***’ 0.001 ‘**’ 0.01 ‘*’ 0.05 ‘.’ 0.1 ‘ ’ 1\n",
            "\n",
            "Residual standard error: 0.9268 on 839 degrees of freedom\n",
            "  (312 observations deleted due to missingness)\n",
            "Multiple R-squared:  0.03034,\tAdjusted R-squared:  0.01762 \n",
            "F-statistic: 2.386 on 11 and 839 DF,  p-value: 0.006522\n",
            "\n"
          ]
        },
        {
          "output_type": "display_data",
          "data": {
            "text/plain": [
              "In addition: Warning messages:\n",
              "1: In log1p(aindex) : NaNs produced\n",
              "2: In log1p(lindex) : NaNs produced\n",
              "3: In log1p(aindex) : NaNs produced\n",
              "4: In log1p(lindex) : NaNs produced\n"
            ]
          },
          "metadata": {}
        }
      ]
    },
    {
      "cell_type": "markdown",
      "source": [
        "Adding controls changes the irrigation coefficient from −0.014 to +0.095, meaning irrigation might be having a positive impact to the output. However, this is still an insignificant coefficient. The point estimate suggests irrigated plots have about 9.5% higher yields. I don't think the coefficient on irr is the unbiased treatment effect. It could be other variables we are not controlling for like soil quality. It could also be the effect of selection bias.\n"
      ],
      "metadata": {
        "id": "P1SlakFxqkLk"
      }
    },
    {
      "cell_type": "markdown",
      "source": [
        "# **Research Question**"
      ],
      "metadata": {
        "id": "w7gHRo4fZdpg"
      }
    },
    {
      "cell_type": "markdown",
      "source": [
        "# \t**Q1: What is the central question of your research? Why is this question important in your field of study?**"
      ],
      "metadata": {
        "id": "b_ffJLs6bIue"
      }
    },
    {
      "cell_type": "markdown",
      "source": [
        "How much better off are small-holder farmers in Zambia who have the potential to irrigate compared to those who don't, based on the MINERVA survey dataset? This work might inform where (or whether) implenting irrigation schemes in the region would be useful. My field of study is broadly water-use in agriculture, and I am interested in better describing water access and water rights of smallholders, making this project directly relevant for my field."
      ],
      "metadata": {
        "id": "DTEs44L4bGPp"
      }
    },
    {
      "cell_type": "markdown",
      "source": [
        "# **Q2: What is the main outcome you are interested in?  Define the variable that represents this outcome in your study.**"
      ],
      "metadata": {
        "id": "nJ-t1uNIbXf7"
      }
    },
    {
      "cell_type": "markdown",
      "source": [
        "I'm most interested in understanding the drivers of success for Zambian farmers. Success will be the variable and it will be composed of income benefits, nutritional benefits, and climate resilient benefits."
      ],
      "metadata": {
        "id": "4eLVQF48blj6"
      }
    },
    {
      "cell_type": "markdown",
      "source": [
        "# **Q3: What is the treatment or intervention in your study? How do you expect it to impact the outcome of interest?**"
      ],
      "metadata": {
        "id": "D-XgNimablui"
      }
    },
    {
      "cell_type": "markdown",
      "source": [
        "The treatment will be whether or not the farmer had the potential to irrigate (which we will define as being near an irrigation scheme or not). I am \"hoping\" that farmers with the potential to irrigate will fair better than those who do not."
      ],
      "metadata": {
        "id": "QrxopeCSbs39"
      }
    },
    {
      "cell_type": "markdown",
      "source": [
        "# **Q4: Draw and Discuss a DAG**\n",
        "\n",
        "1. Create a Directed Acyclic Graph (DAG) representing the relationship between your treatment and outcome. Make sure to include possible confounders and intermediate variables.\n",
        "2.\tLabel the components of your DAG, including treatment, outcome, confounders, and any other relevant variables.\n",
        "3.\tIdentify and discuss at least two potential confounders that might affect your ability to identify the causal effect of the treatment on the outcome.\n",
        "\n",
        "You can find more details on creating DAGS in `R` [here](https://evalf20.classes.andrewheiss.com/example/dags/).\n",
        "To get you started here is a  DAG example:\n"
      ],
      "metadata": {
        "id": "bB48bgldbtoh"
      }
    },
    {
      "cell_type": "code",
      "source": [
        "%%R\n",
        "# Define the DAG\n",
        "simple_dag_with_coords_and_labels <- dagify(\n",
        "  y ~ x + a + b,  # Outcome depends on treatment and confounders\n",
        "  x ~ a + b,      # Treatment depends on confounders\n",
        "  exposure = \"x\",\n",
        "  outcome = \"y\",\n",
        "  labels = c(y = \"Outcome\", x = \"Treatment\",\n",
        "             a = \"Confounder 1\", b = \"Confounder 2\"),\n",
        "  coords = list(x = c(x = 1, a = 2, b = 2, y = 3),\n",
        "                y = c(x = 2, a = 1, b = 3, y = 2))\n",
        ")\n",
        "\n",
        "# Plot the DAG\n",
        "ggdag_status(simple_dag_with_coords_and_labels,\n",
        "             use_labels = \"label\", text = FALSE) +\n",
        "  guides(fill = FALSE, color = FALSE) +  # Disable the legend\n",
        "  theme_dag()\n"
      ],
      "metadata": {
        "colab": {
          "base_uri": "https://localhost:8080/",
          "height": 604
        },
        "id": "4baBi0lEJ_Zb",
        "outputId": "3085d4c1-d00d-4f2f-fe6d-2eb534c1819c"
      },
      "execution_count": 45,
      "outputs": [
        {
          "output_type": "display_data",
          "data": {
            "text/plain": [
              "In addition: Warning message:\n",
              "The `<scale>` argument of `guides()` cannot be `FALSE`. Use \"none\" instead as\n",
              "of ggplot2 3.3.4.\n",
              "This warning is displayed once every 8 hours.\n",
              "Call `lifecycle::last_lifecycle_warnings()` to see where this warning was\n",
              "generated. \n"
            ]
          },
          "metadata": {}
        },
        {
          "output_type": "display_data",
          "data": {
            "image/png": "[encoded data removed]",
            "text/plain": [
              "<IPython.core.display.Image object>"
            ]
          },
          "metadata": {}
        }
      ]
    },
    {
      "cell_type": "code",
      "source": [
        "%%R\n",
        "# Define the DAG\n",
        "simple_dag_with_coords_and_labels <- dagify(\n",
        "  y ~ x + a + b,  # Outcome depends on treatment and confounders\n",
        "  x ~ a + b,      # Treatment depends on confounders\n",
        "  exposure = \"x\",\n",
        "  outcome = \"y\",\n",
        "  labels = c(y = \"Y: Success\", x = \"T: Irrigation\",\n",
        "             a = \"u: soil quality, climate (drought/rainfall), pests, disease\",\n",
        "             b = \"x: household wealth, farm size, labor availability, yields, education,\n",
        "             access to horticultural crops, + fertilizer use, distance to markets, distance to rivers\"),\n",
        "  coords = list(x = c(x = 1, a = 2, b = 2, y = 3),\n",
        "                y = c(x = 2, a = 1, b = 3, y = 2))\n",
        ")\n",
        "\n",
        "# Plot the DAG\n",
        "ggdag_status(simple_dag_with_coords_and_labels,\n",
        "             use_labels = \"label\", text = FALSE) +\n",
        "  guides(fill = FALSE, color = FALSE) +  # Disable the legend\n",
        "  theme_dag()\n"
      ],
      "metadata": {
        "id": "hcm4IRkjfnaO",
        "colab": {
          "base_uri": "https://localhost:8080/",
          "height": 497
        },
        "outputId": "39b0d00d-22f1-450f-9ef2-a178d4218948"
      },
      "execution_count": 46,
      "outputs": [
        {
          "output_type": "display_data",
          "data": {
            "image/png": "[encoded data removed]",
            "text/plain": [
              "<IPython.core.display.Image object>"
            ]
          },
          "metadata": {}
        }
      ]
    },
    {
      "cell_type": "markdown",
      "source": [
        "# **How to submit assignment 1**\n",
        "\n",
        "Please submit Assignment 1 on Gradescope. Check your email for the invitation to join the GEOG279 course on Gradescope."
      ],
      "metadata": {
        "id": "Z1g5hIGVvOqV"
      }
    },
    {
      "cell_type": "markdown",
      "source": [
        "<table style=\"border: 2px solid #4CAF50; background-color: #f0f9ff; padding: 10px; width: 100%; text-align: center;\">\n",
        "  <tr>\n",
        "    <td><h1><strong>This concludes <span style=\"color: #4CAF50;\">Assignment 1</span>.</strong></td></h1>\n",
        "  </tr>\n",
        "</table>"
      ],
      "metadata": {
        "id": "oW5EsIX4R2ay"
      }
    }
  ]
}