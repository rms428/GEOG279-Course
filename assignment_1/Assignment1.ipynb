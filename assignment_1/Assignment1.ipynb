{
  "cells": [
    {
      "cell_type": "markdown",
      "metadata": {
        "id": "-fOCwauGpryu"
      },
      "source": [
        "[![Open In Colab](https://colab.research.google.com/assets/colab-badge.svg)](https://colab.research.google.com/drive/1SaXpt9wymm00qbPZevf4sHnS0h4RNP-B?usp=sharing)\n"
      ]
    },
    {
      "cell_type": "markdown",
      "metadata": {
        "id": "n0EkuAbTjkS8"
      },
      "source": [
        "# **Impact Assessment Using VDSA Data: Intro to Randomized Control Trials (RCT) Analysis**"
      ]
    },
    {
      "cell_type": "markdown",
      "metadata": {
        "id": "MIUuC6Qx1rdl"
      },
      "source": [
        "# **Getting Started**"
      ]
    },
    {
      "cell_type": "markdown",
      "metadata": {
        "id": "8KQ2LU0ui5vG"
      },
      "source": [
        "<table style=\"border: 1px solid #4CAF50; background-color: #f9f9f9; padding: 10px; width: 100%;\">\n",
        "  <tr>\n",
        "    <td><h2>\n",
        "      1. Run the code cell below. <br>\n",
        "      2. When prompted, enter your name. <br>\n",
        "      3. The current date and your name will be automatically displayed in a formatted text.<br>\n",
        "    </td></h2>\n",
        "  </tr>\n",
        "</table>\n",
        "\n",
        "\n",
        "\n",
        "\n",
        "\n",
        "\n"
      ]
    },
    {
      "cell_type": "code",
      "execution_count": 1,
      "metadata": {},
      "outputs": [
        {
          "name": "stdout",
          "output_type": "stream",
          "text": [
            "working\n"
          ]
        }
      ],
      "source": [
        "print(\"working\")"
      ]
    },
    {
      "cell_type": "code",
      "execution_count": 2,
      "metadata": {},
      "outputs": [],
      "source": [
        "# @title **Click to Enter your Name** {\"vertical-output\":true}\n",
        "\n",
        "from datetime import datetime\n",
        "from IPython.display import display, Markdown"
      ]
    },
    {
      "cell_type": "code",
      "execution_count": 4,
      "metadata": {
        "cellView": "form",
        "id": "c-0h1j-riIP8"
      },
      "outputs": [
        {
          "data": {
            "text/markdown": [
              "**Author**: Cella Schnabel\n",
              "<br>**Date**: 2025-09-29</br>"
            ],
            "text/plain": [
              "<IPython.core.display.Markdown object>"
            ]
          },
          "metadata": {},
          "output_type": "display_data"
        }
      ],
      "source": [
        "# Prompt user to input their name\n",
        "author_name = \"Cella Schnabel\"\n",
        "\n",
        "# Get the current date\n",
        "\n",
        "current_date = datetime.now().strftime(\"%Y-%m-%d\")\n",
        "\n",
        "# Create markdown content\n",
        "markdown_content = f\"**Author**: {author_name}\\n<br>**Date**: {current_date}</br>\"\n",
        "\n",
        "# Display the markdown content\n",
        "display(Markdown(markdown_content))"
      ]
    },
    {
      "cell_type": "markdown",
      "metadata": {
        "id": "0TUNdMdixT4K"
      },
      "source": [
        "<table style=\"border: 1px solid #4CAF50; background-color: #f9f9f9; padding: 10px; width: 100%;\">\n",
        "  <tr>\n",
        "    <td><h2 style=\"margin: 0;\"><b>Important</b>: Run the below cell in order to activate <code>R</code> in this notebook.</h2></td>\n",
        "  </tr>\n",
        "</table>"
      ]
    },
    {
      "cell_type": "code",
      "execution_count": 5,
      "metadata": {
        "id": "T56J-Y-tdD4W"
      },
      "outputs": [
        {
          "ename": "ModuleNotFoundError",
          "evalue": "No module named 'rpy2'",
          "output_type": "error",
          "traceback": [
            "\u001b[0;31m---------------------------------------------------------------------------\u001b[0m",
            "\u001b[0;31mModuleNotFoundError\u001b[0m                       Traceback (most recent call last)",
            "Cell \u001b[0;32mIn[5], line 2\u001b[0m\n\u001b[1;32m      1\u001b[0m \u001b[38;5;66;03m# activate R magic\u001b[39;00m\n\u001b[0;32m----> 2\u001b[0m \u001b[43mget_ipython\u001b[49m\u001b[43m(\u001b[49m\u001b[43m)\u001b[49m\u001b[38;5;241;43m.\u001b[39;49m\u001b[43mrun_line_magic\u001b[49m\u001b[43m(\u001b[49m\u001b[38;5;124;43m'\u001b[39;49m\u001b[38;5;124;43mload_ext\u001b[39;49m\u001b[38;5;124;43m'\u001b[39;49m\u001b[43m,\u001b[49m\u001b[43m \u001b[49m\u001b[38;5;124;43m'\u001b[39;49m\u001b[38;5;124;43mrpy2.ipython\u001b[39;49m\u001b[38;5;124;43m'\u001b[39;49m\u001b[43m)\u001b[49m\n",
            "File \u001b[0;32m~/anaconda3/lib/python3.11/site-packages/IPython/core/interactiveshell.py:2480\u001b[0m, in \u001b[0;36mInteractiveShell.run_line_magic\u001b[0;34m(self, magic_name, line, _stack_depth)\u001b[0m\n\u001b[1;32m   2478\u001b[0m     kwargs[\u001b[38;5;124m'\u001b[39m\u001b[38;5;124mlocal_ns\u001b[39m\u001b[38;5;124m'\u001b[39m] \u001b[38;5;241m=\u001b[39m \u001b[38;5;28mself\u001b[39m\u001b[38;5;241m.\u001b[39mget_local_scope(stack_depth)\n\u001b[1;32m   2479\u001b[0m \u001b[38;5;28;01mwith\u001b[39;00m \u001b[38;5;28mself\u001b[39m\u001b[38;5;241m.\u001b[39mbuiltin_trap:\n\u001b[0;32m-> 2480\u001b[0m     result \u001b[38;5;241m=\u001b[39m \u001b[43mfn\u001b[49m\u001b[43m(\u001b[49m\u001b[38;5;241;43m*\u001b[39;49m\u001b[43margs\u001b[49m\u001b[43m,\u001b[49m\u001b[43m \u001b[49m\u001b[38;5;241;43m*\u001b[39;49m\u001b[38;5;241;43m*\u001b[39;49m\u001b[43mkwargs\u001b[49m\u001b[43m)\u001b[49m\n\u001b[1;32m   2482\u001b[0m \u001b[38;5;66;03m# The code below prevents the output from being displayed\u001b[39;00m\n\u001b[1;32m   2483\u001b[0m \u001b[38;5;66;03m# when using magics with decorator @output_can_be_silenced\u001b[39;00m\n\u001b[1;32m   2484\u001b[0m \u001b[38;5;66;03m# when the last Python token in the expression is a ';'.\u001b[39;00m\n\u001b[1;32m   2485\u001b[0m \u001b[38;5;28;01mif\u001b[39;00m \u001b[38;5;28mgetattr\u001b[39m(fn, magic\u001b[38;5;241m.\u001b[39mMAGIC_OUTPUT_CAN_BE_SILENCED, \u001b[38;5;28;01mFalse\u001b[39;00m):\n",
            "File \u001b[0;32m~/anaconda3/lib/python3.11/site-packages/IPython/core/magics/extension.py:33\u001b[0m, in \u001b[0;36mExtensionMagics.load_ext\u001b[0;34m(self, module_str)\u001b[0m\n\u001b[1;32m     31\u001b[0m \u001b[38;5;28;01mif\u001b[39;00m \u001b[38;5;129;01mnot\u001b[39;00m module_str:\n\u001b[1;32m     32\u001b[0m     \u001b[38;5;28;01mraise\u001b[39;00m UsageError(\u001b[38;5;124m'\u001b[39m\u001b[38;5;124mMissing module name.\u001b[39m\u001b[38;5;124m'\u001b[39m)\n\u001b[0;32m---> 33\u001b[0m res \u001b[38;5;241m=\u001b[39m \u001b[38;5;28;43mself\u001b[39;49m\u001b[38;5;241;43m.\u001b[39;49m\u001b[43mshell\u001b[49m\u001b[38;5;241;43m.\u001b[39;49m\u001b[43mextension_manager\u001b[49m\u001b[38;5;241;43m.\u001b[39;49m\u001b[43mload_extension\u001b[49m\u001b[43m(\u001b[49m\u001b[43mmodule_str\u001b[49m\u001b[43m)\u001b[49m\n\u001b[1;32m     35\u001b[0m \u001b[38;5;28;01mif\u001b[39;00m res \u001b[38;5;241m==\u001b[39m \u001b[38;5;124m'\u001b[39m\u001b[38;5;124malready loaded\u001b[39m\u001b[38;5;124m'\u001b[39m:\n\u001b[1;32m     36\u001b[0m     \u001b[38;5;28mprint\u001b[39m(\u001b[38;5;124m\"\u001b[39m\u001b[38;5;124mThe \u001b[39m\u001b[38;5;132;01m%s\u001b[39;00m\u001b[38;5;124m extension is already loaded. To reload it, use:\u001b[39m\u001b[38;5;124m\"\u001b[39m \u001b[38;5;241m%\u001b[39m module_str)\n",
            "File \u001b[0;32m~/anaconda3/lib/python3.11/site-packages/IPython/core/extensions.py:62\u001b[0m, in \u001b[0;36mExtensionManager.load_extension\u001b[0;34m(self, module_str)\u001b[0m\n\u001b[1;32m     55\u001b[0m \u001b[38;5;250m\u001b[39m\u001b[38;5;124;03m\"\"\"Load an IPython extension by its module name.\u001b[39;00m\n\u001b[1;32m     56\u001b[0m \n\u001b[1;32m     57\u001b[0m \u001b[38;5;124;03mReturns the string \"already loaded\" if the extension is already loaded,\u001b[39;00m\n\u001b[1;32m     58\u001b[0m \u001b[38;5;124;03m\"no load function\" if the module doesn't have a load_ipython_extension\u001b[39;00m\n\u001b[1;32m     59\u001b[0m \u001b[38;5;124;03mfunction, or None if it succeeded.\u001b[39;00m\n\u001b[1;32m     60\u001b[0m \u001b[38;5;124;03m\"\"\"\u001b[39;00m\n\u001b[1;32m     61\u001b[0m \u001b[38;5;28;01mtry\u001b[39;00m:\n\u001b[0;32m---> 62\u001b[0m     \u001b[38;5;28;01mreturn\u001b[39;00m \u001b[38;5;28;43mself\u001b[39;49m\u001b[38;5;241;43m.\u001b[39;49m\u001b[43m_load_extension\u001b[49m\u001b[43m(\u001b[49m\u001b[43mmodule_str\u001b[49m\u001b[43m)\u001b[49m\n\u001b[1;32m     63\u001b[0m \u001b[38;5;28;01mexcept\u001b[39;00m \u001b[38;5;167;01mModuleNotFoundError\u001b[39;00m:\n\u001b[1;32m     64\u001b[0m     \u001b[38;5;28;01mif\u001b[39;00m module_str \u001b[38;5;129;01min\u001b[39;00m BUILTINS_EXTS:\n",
            "File \u001b[0;32m~/anaconda3/lib/python3.11/site-packages/IPython/core/extensions.py:77\u001b[0m, in \u001b[0;36mExtensionManager._load_extension\u001b[0;34m(self, module_str)\u001b[0m\n\u001b[1;32m     75\u001b[0m \u001b[38;5;28;01mwith\u001b[39;00m \u001b[38;5;28mself\u001b[39m\u001b[38;5;241m.\u001b[39mshell\u001b[38;5;241m.\u001b[39mbuiltin_trap:\n\u001b[1;32m     76\u001b[0m     \u001b[38;5;28;01mif\u001b[39;00m module_str \u001b[38;5;129;01mnot\u001b[39;00m \u001b[38;5;129;01min\u001b[39;00m sys\u001b[38;5;241m.\u001b[39mmodules:\n\u001b[0;32m---> 77\u001b[0m         mod \u001b[38;5;241m=\u001b[39m \u001b[43mimport_module\u001b[49m\u001b[43m(\u001b[49m\u001b[43mmodule_str\u001b[49m\u001b[43m)\u001b[49m\n\u001b[1;32m     78\u001b[0m     mod \u001b[38;5;241m=\u001b[39m sys\u001b[38;5;241m.\u001b[39mmodules[module_str]\n\u001b[1;32m     79\u001b[0m     \u001b[38;5;28;01mif\u001b[39;00m \u001b[38;5;28mself\u001b[39m\u001b[38;5;241m.\u001b[39m_call_load_ipython_extension(mod):\n",
            "File \u001b[0;32m~/anaconda3/lib/python3.11/importlib/__init__.py:126\u001b[0m, in \u001b[0;36mimport_module\u001b[0;34m(name, package)\u001b[0m\n\u001b[1;32m    124\u001b[0m             \u001b[38;5;28;01mbreak\u001b[39;00m\n\u001b[1;32m    125\u001b[0m         level \u001b[38;5;241m+\u001b[39m\u001b[38;5;241m=\u001b[39m \u001b[38;5;241m1\u001b[39m\n\u001b[0;32m--> 126\u001b[0m \u001b[38;5;28;01mreturn\u001b[39;00m \u001b[43m_bootstrap\u001b[49m\u001b[38;5;241;43m.\u001b[39;49m\u001b[43m_gcd_import\u001b[49m\u001b[43m(\u001b[49m\u001b[43mname\u001b[49m\u001b[43m[\u001b[49m\u001b[43mlevel\u001b[49m\u001b[43m:\u001b[49m\u001b[43m]\u001b[49m\u001b[43m,\u001b[49m\u001b[43m \u001b[49m\u001b[43mpackage\u001b[49m\u001b[43m,\u001b[49m\u001b[43m \u001b[49m\u001b[43mlevel\u001b[49m\u001b[43m)\u001b[49m\n",
            "File \u001b[0;32m<frozen importlib._bootstrap>:1204\u001b[0m, in \u001b[0;36m_gcd_import\u001b[0;34m(name, package, level)\u001b[0m\n",
            "File \u001b[0;32m<frozen importlib._bootstrap>:1176\u001b[0m, in \u001b[0;36m_find_and_load\u001b[0;34m(name, import_)\u001b[0m\n",
            "File \u001b[0;32m<frozen importlib._bootstrap>:1126\u001b[0m, in \u001b[0;36m_find_and_load_unlocked\u001b[0;34m(name, import_)\u001b[0m\n",
            "File \u001b[0;32m<frozen importlib._bootstrap>:241\u001b[0m, in \u001b[0;36m_call_with_frames_removed\u001b[0;34m(f, *args, **kwds)\u001b[0m\n",
            "File \u001b[0;32m<frozen importlib._bootstrap>:1204\u001b[0m, in \u001b[0;36m_gcd_import\u001b[0;34m(name, package, level)\u001b[0m\n",
            "File \u001b[0;32m<frozen importlib._bootstrap>:1176\u001b[0m, in \u001b[0;36m_find_and_load\u001b[0;34m(name, import_)\u001b[0m\n",
            "File \u001b[0;32m<frozen importlib._bootstrap>:1140\u001b[0m, in \u001b[0;36m_find_and_load_unlocked\u001b[0;34m(name, import_)\u001b[0m\n",
            "\u001b[0;31mModuleNotFoundError\u001b[0m: No module named 'rpy2'"
          ]
        }
      ],
      "source": [
        "# activate R magic\n",
        "%load_ext rpy2.ipython"
      ]
    },
    {
      "cell_type": "markdown",
      "metadata": {
        "id": "YO58KgQ-z9yl"
      },
      "source": [
        "## **Cloning Github Repo**\n",
        "This step is essential in order to have access to the data that you'll use for this assignment."
      ]
    },
    {
      "cell_type": "code",
      "execution_count": 3,
      "metadata": {
        "colab": {
          "base_uri": "https://localhost:8080/"
        },
        "id": "l85GuDwkUv8y",
        "outputId": "451871e9-e5ae-42f9-9dd6-de1588b34860"
      },
      "outputs": [
        {
          "name": "stdout",
          "output_type": "stream",
          "text": [
            "Repository cloned successfully at: /content/GEOG279-Course\n"
          ]
        }
      ],
      "source": [
        "# WARNING: Do not modify this code. Execute as is.\n",
        "import os\n",
        "import subprocess\n",
        "\n",
        "# Define repository details\n",
        "repo_name = 'GEOG279-Course'\n",
        "repo_url = 'https://github.com/GEOG279-Advanced-Spatial-Statistics/GEOG279-Course.git'\n",
        "\n",
        "# Check if the repository is already cloned\n",
        "repo_path = os.path.join(os.getcwd(), repo_name)\n",
        "if not os.path.exists(repo_path):\n",
        "    # Construct the command to clone the repository\n",
        "    cmd_string = f'git clone {repo_url}'\n",
        "\n",
        "    try:\n",
        "        # Execute the command to clone the repository\n",
        "        subprocess.run(cmd_string, shell=True, check=True)\n",
        "        print(f\"Repository cloned successfully at: {repo_path}\")\n",
        "    except subprocess.CalledProcessError as e:\n",
        "        print(f\"Error occurred while cloning the repository: {e}\")\n",
        "else:\n",
        "    print(f\"Repository already exists at: {repo_path}\")"
      ]
    },
    {
      "cell_type": "markdown",
      "metadata": {
        "id": "gr3M1OwJjQPL"
      },
      "source": [
        "# **Introduction**\n",
        "\n",
        "\n",
        "In this first assignment, you'll work with real-world data to apply the techniques covered during lecture. We'll be using the **Village Dynamics of South Asia (VDSA)** panel data set collected by the International Crops Research Institute for the Semi-Arid Tropics ([ICRISAT](https://dataverse.icrisat.org/dataset.xhtml?persistentId=doi:10.21421/D2/HDEUKU))(GV and Falk). This dataset provides detailed, high-frequency agricultural production data at the parcel level from households in India.\n",
        "\n",
        "For the data exercises concerning Randomized Control trials (RCTs) we will use data from a real RCT on the effects of marketing in encouraging households to purchase index insurance. This RCT was conducted in conjunction with ICRISAT, again in India.\n",
        "\n",
        "For exercises related to Randomized Control Trials (RCTs), we will analyze data from an RCT that evaluated the impact of marketing efforts on households’ decisions to purchase index insurance. This trial was also conducted in collaboration with ICRISAT in India.\n",
        "\n",
        "To begin, we will clean and prepare the `raw` VDSA data for analysis. This process is crucial for two reasons.\n",
        "* First, it will allow you to (re)familiarize yourself with `R`.\n",
        "* Second, it will ensure that the dataset is “regression-ready” for later exercises/assignments.\n",
        "\n",
        "**Objectives:**\n",
        "\n",
        "1.\tGet familiar with R and the VDSA dataset.\n",
        "2.\tPrepare the data for analysis in upcoming sessions.\n",
        "3.\tUse the dataset to explore how confounding factors influence impact assessments.\n",
        "\n",
        "\n",
        "*Citation:*\n",
        "GV, Anupama, and Thomas Falk. Data on Primary Survey Study on Agricultural Productivity and Plot Size: Village Dynamics in South Asia (VDSA). 4, ICRISAT. ICRISAT Dataverse, https://doi.org/10.21421/D2/HDEUKU.\n",
        "\n"
      ]
    },
    {
      "cell_type": "markdown",
      "metadata": {
        "id": "yWXcT--aRG9q"
      },
      "source": [
        "# **Exploratory Data Analysis (EDA)**"
      ]
    },
    {
      "cell_type": "markdown",
      "metadata": {
        "id": "TyABtpN31x1o"
      },
      "source": [
        "## **Loading Libraries**\n",
        "\n",
        "For this assignment, you'll need the following libraries:\n",
        "\n",
        "1.\t`haven`: Allows importing and exporting data from statistical software formats like Stata, SPSS, and SAS into R, preserving variable labels and attributes.\n",
        "3.\t`tidyverse`: A collection of R packages for data manipulation, cleaning, visualization, and analysis, including tools like dplyr, tidyr, and ggplot2.\n",
        "4.\t`ggpubr`: An extension of ggplot2 that simplifies creating publication-ready plots with added statistical annotations and easy layout arrangements.\n",
        "**Note**: Loading the libraries may take a couple of minutes.\n"
      ]
    },
    {
      "cell_type": "code",
      "execution_count": null,
      "metadata": {
        "collapsed": true,
        "id": "SzA8XbW57Bzh"
      },
      "outputs": [],
      "source": [
        "%%capture\n",
        "%%R\n",
        "\n",
        "# Installing required libraries\n",
        "suppressMessages({\n",
        "  suppressWarnings({\n",
        "    install.packages(\"haven\", quiet = TRUE)\n",
        "    install.packages(\"tidyverse\", quiet = TRUE)\n",
        "    install.packages(\"ggpubr\", quiet = TRUE)\n",
        "    install.packages(\"dagitty\", quiet = TRUE)\n",
        "    install.packages(\"ggdag\", quiet = TRUE)\n",
        "\n",
        "  })\n",
        "})\n",
        "\n",
        "# Loading libraries\n",
        "library(haven)\n",
        "library(tidyverse)\n",
        "library(ggpubr)\n",
        "library(dagitty)\n",
        "library(ggdag)"
      ]
    },
    {
      "cell_type": "markdown",
      "metadata": {
        "id": "7SvjCzEjvYgB"
      },
      "source": [
        "The function `install.packages()` downloads and installs a package from the internet. The `library()` function loads that particular package into the current session.\n",
        "\n",
        "Packages are a very important part of `R`. The basic default installation already provides some limited functionality. But the real power of `R` lies in the large community of independent developers who are constantly implementing new packages to the language.\n",
        "\n"
      ]
    },
    {
      "cell_type": "markdown",
      "metadata": {
        "id": "gHbtqyaz2Oho"
      },
      "source": [
        "## **Loading the data**"
      ]
    },
    {
      "cell_type": "code",
      "execution_count": null,
      "metadata": {
        "id": "RPuTGRgyCfRl"
      },
      "outputs": [],
      "source": [
        "%%R\n",
        "\n",
        "# Define the path to the .dta file in Google Drive\n",
        "data_url <- \"/content/GEOG279-Course/assignment_1/data/VDSA_Prod_Data.dta\"\n",
        "\n",
        "# Read the .dta file using haven\n",
        "df <- read_dta(data_url)\n",
        "\n",
        "# Display the first few rows to confirm successful reading\n",
        "head(df)"
      ]
    },
    {
      "cell_type": "markdown",
      "metadata": {
        "id": "tdPKRXlSvB6-"
      },
      "source": [
        "**You can use any of the three functions below to inspect the dataset.**"
      ]
    },
    {
      "cell_type": "markdown",
      "metadata": {
        "id": "VF0vIkXTRsoZ"
      },
      "source": [
        "**1. The `str()` function**\n",
        "The `str()` function provides a compact summary of the data frame, including\n",
        "data types for each column."
      ]
    },
    {
      "cell_type": "code",
      "execution_count": null,
      "metadata": {
        "colab": {
          "base_uri": "https://localhost:8080/"
        },
        "id": "iHCnB-XZQ9IE",
        "outputId": "15f5883f-309e-403c-e4b4-623e227099c2"
      },
      "outputs": [
        {
          "name": "stdout",
          "output_type": "stream",
          "text": [
            "tibble [1,536 × 5] (S3: tbl_df/tbl/data.frame)\n",
            " $ country: dbl+lbl [1:1536] 1, 1, 1, 1, 1, 1, 1, 1, 1, 1, 1, 1, 1, 1, 1, 1, 1, 1,...\n",
            "   ..@ label       : chr \"country\"\n",
            "   ..@ format.stata: chr \"%10.0g\"\n",
            "   ..@ labels      : Named num [1:2] 0 1\n",
            "   .. ..- attr(*, \"names\")= chr [1:2] \"Bangladesh\" \"India\"\n",
            " $ vil_id : num [1:1536] 135 119 135 119 119 120 119 137 119 118 ...\n",
            "  ..- attr(*, \"label\")= chr \"unique village ID\"\n",
            "  ..- attr(*, \"format.stata\")= chr \"%9.0g\"\n",
            " $ rain   : num [1:1536] NA NA NA 496 471 ...\n",
            "  ..- attr(*, \"label\")= chr \"rainfall in sur_yr\"\n",
            "  ..- attr(*, \"format.stata\")= chr \"%10.0g\"\n",
            " $ average: num [1:1536] NA NA NA 577 577 ...\n",
            "  ..- attr(*, \"label\")= chr \"average rainfall from 1981-2014\"\n",
            "  ..- attr(*, \"format.stata\")= chr \"%10.0g\"\n",
            " $ dev    : num [1:1536] NA NA NA 0.859 0.815 ...\n",
            "  ..- attr(*, \"label\")= chr \"deviation of rainfall from mean\"\n",
            "  ..- attr(*, \"format.stata\")= chr \"%10.0g\"\n"
          ]
        }
      ],
      "source": [
        "%%R\n",
        "# Check data types of all columns in the data frame\n",
        "str(df[1:5])"
      ]
    },
    {
      "cell_type": "markdown",
      "metadata": {
        "id": "w3VBdlxzSrDW"
      },
      "source": [
        "**2. `sapply()` with `class()`**\n",
        "\n",
        "If you want a simple list of column names and their types, you can use sapply() along with the class() function."
      ]
    },
    {
      "cell_type": "code",
      "execution_count": null,
      "metadata": {
        "colab": {
          "base_uri": "https://localhost:8080/"
        },
        "id": "r3yVq8H_QW7t",
        "outputId": "671050ea-a139-45fc-de74-53fbe179abbf"
      },
      "outputs": [
        {
          "name": "stdout",
          "output_type": "stream",
          "text": [
            "$country\n",
            "[1] \"haven_labelled\" \"vctrs_vctr\"     \"double\"        \n",
            "\n",
            "$vil_id\n",
            "[1] \"numeric\"\n",
            "\n",
            "$rain\n",
            "[1] \"numeric\"\n",
            "\n",
            "$average\n",
            "[1] \"numeric\"\n",
            "\n",
            "$dev\n",
            "[1] \"numeric\"\n",
            "\n"
          ]
        }
      ],
      "source": [
        "%%R\n",
        "# Check data types of all columns in the data frame\n",
        "sapply(df[1:5], class)"
      ]
    },
    {
      "cell_type": "markdown",
      "metadata": {
        "id": "QCTXFg3YSYnr"
      },
      "source": [
        "**3. `dplyr::glimpse`**\n",
        "\n",
        "The `glimpse()` function from the `dplyr` package provides an overview of the data frame, showing column names, data types, and a preview of the values."
      ]
    },
    {
      "cell_type": "code",
      "execution_count": null,
      "metadata": {
        "colab": {
          "base_uri": "https://localhost:8080/"
        },
        "id": "U_K5KJLCQ518",
        "outputId": "314c5792-193a-43d1-c78e-8f2064469b8e"
      },
      "outputs": [
        {
          "name": "stdout",
          "output_type": "stream",
          "text": [
            "Rows: 1,536\n",
            "Columns: 30\n",
            "$ country    <dbl+lbl> 1, 1, 1, 1, 1, 1, 1, 1, 1, 1, 1, 1, 1, 1, 1, 1, 1, 1, 1…\n",
            "$ vil_id     <dbl> 135, 119, 135, 119, 119, 120, 119, 137, 119, 118, 134, 119,…\n",
            "$ rain       <dbl> NA, NA, NA, 495.6600, 470.7660, 470.7660, 495.6600, NA, NA,…\n",
            "$ average    <dbl> NA, NA, NA, 577.3553, 577.3553, 577.3553, 577.3553, NA, NA,…\n",
            "$ dev        <dbl> NA, NA, NA, 0.8585009, 0.8153836, 0.8153836, 0.8585009, NA,…\n",
            "$ pop        <dbl> 876, 3600, 876, 3600, 3600, 4494, 3600, 880, 3600, 3000, 14…\n",
            "$ dist       <dbl> 12.0, 5.0, 12.0, 5.0, 5.0, 15.0, 5.0, 13.0, 5.0, 4.5, 9.0, …\n",
            "$ nomkt      <dbl> 2, 4, 2, 4, 4, 4, 4, 2, 4, 4, 1, 4, 4, 4, 4, 2, 4, 2, 2, 4,…\n",
            "$ vdsa_hh_id <dbl> 135008, 119035, 135203, 119034, 119034, 120048, 119034, 137…\n",
            "$ tot_acre   <dbl> 0.00, 1.22, 0.00, 0.87, 1.15, 1.80, 0.87, 5.00, 1.07, 1.10,…\n",
            "$ genderH    <dbl> 0, 0, 0, 0, 0, 0, 0, 0, 0, 0, 0, 0, 0, 0, 0, 0, 0, 0, 0, 0,…\n",
            "$ ageH       <dbl> 43, 62, 48, 56, 55, 63, 56, 48, 52, 77, 58, 62, 60, 77, 62,…\n",
            "$ noadultM   <dbl> 3, 2, 3, 3, 3, 1, 3, 2, 2, 3, 1, 2, 2, 3, 4, 3, 3, 2, 1, 2,…\n",
            "$ noadultF   <dbl> 1, 3, 5, 4, 4, 2, 4, 2, 3, 4, 2, 3, 3, 4, 4, 5, 4, 1, 2, 3,…\n",
            "$ nokids     <dbl> 0, 1, 0, 0, 0, 2, 0, 2, 1, 1, 3, 1, 1, 1, 0, 0, 0, 1, 3, 1,…\n",
            "$ sizehh     <dbl> 4, 6, 8, 7, 7, 5, 7, 6, 6, 8, 6, 6, 6, 8, 8, 8, 7, 4, 6, 6,…\n",
            "$ farm_cat   <chr> \"SM\", \"SM\", \"SM\", \"SM\", \"SM\", \"MD\", \"SM\", \"SM\", \"SM\", \"SM\",…\n",
            "$ aindex     <dbl> -0.27804729, -0.22664489, -0.36013669, -1.36603343, -1.1713…\n",
            "$ lindex     <dbl> -0.419596434, -0.400094748, -1.038769484, -1.050346971, -1.…\n",
            "$ prcl_id    <dbl> 135008016, 119035032, 135203040, 119034008, 119034072, 1200…\n",
            "$ sur_yr     <dbl> 2013, 2012, 2013, 2011, 2010, 2010, 2011, 2010, 2012, 2011,…\n",
            "$ plot_area  <dbl> 1.61874402, 0.10117150, 0.80937201, 0.24281162, 0.09307779,…\n",
            "$ output     <dbl> 2800, 280, 1000, 900, 90, 169, 780, 1120, 120, 18600, 1650,…\n",
            "$ price      <dbl> 13.50, 13.50, 13.00, 12.85, 12.00, 10.00, 12.85, 11.00, 13.…\n",
            "$ value      <dbl> 37800, 3780, 13000, 11565, 1080, 1690, 10023, 12320, 1620, …\n",
            "$ lab_q      <dbl> 234.00, 30.35, 113.00, 24.00, 32.00, 21.21, 37.50, 142.00, …\n",
            "$ fert_q     <dbl> 500.0, 31.0, 150.0, 24.0, 36.0, 15.0, 42.0, 125.0, 16.0, 99…\n",
            "$ irr_q      <dbl> 4.000, 5.500, 2.000, 0.375, 0.000, 0.000, 0.625, 0.000, 2.0…\n",
            "$ mech_v     <dbl> 10597.25, 590.00, 4200.00, 454.00, 276.80, 168.00, 610.00, …\n",
            "$ pest_v     <dbl> 0, 0, 0, 0, 0, 120, 0, 0, 0, 0, 0, 0, 0, 0, 0, 0, 0, 0, 0, …\n"
          ]
        }
      ],
      "source": [
        "%%R\n",
        "glimpse(df)"
      ]
    },
    {
      "cell_type": "markdown",
      "metadata": {
        "id": "XVYWrVDTR8Zz"
      },
      "source": [
        "**Which one to use ?**\n",
        "* Use `str()` for a quick, detailed structure of the data frame, including data types and sample values.\n",
        "* Use `sapply()` with `class()` if you need a simple list of column data types.\n",
        "* Use `glimpse()` for a tidy, detailed overview, especially if you’re using the `dplyr` package.\n"
      ]
    },
    {
      "cell_type": "markdown",
      "metadata": {
        "id": "fBj4AqiZ3P1q"
      },
      "source": [
        "# **Summary Statistics & Variables Overview**\n",
        "To get an overview of the dataset, use the `summary()` function. This function provides basic summary statistics for each variable, including the mean, quartiles, and the number of missing observations. When applied to an entire data frame, `summary()` calculates these statistics for all variables. For example:\n"
      ]
    },
    {
      "cell_type": "code",
      "execution_count": null,
      "metadata": {
        "colab": {
          "base_uri": "https://localhost:8080/"
        },
        "id": "Q6Xr4i8F3TUp",
        "outputId": "bf0a6b8d-5b27-415e-87c7-d77436c28a44"
      },
      "outputs": [
        {
          "name": "stdout",
          "output_type": "stream",
          "text": [
            "    country      vil_id           rain           average           dev        \n",
            " Min.   :1   Min.   :113.0   Min.   : 363.7   Min.   :500.7   Min.   :0.6681  \n",
            " 1st Qu.:1   1st Qu.:118.0   1st Qu.: 363.7   1st Qu.:500.7   1st Qu.:0.7263  \n",
            " Median :1   Median :123.0   Median : 464.9   Median :500.7   Median :0.8154  \n",
            " Mean   :1   Mean   :126.2   Mean   : 511.8   Mean   :570.4   Mean   :0.8735  \n",
            " 3rd Qu.:1   3rd Qu.:135.0   3rd Qu.: 470.8   3rd Qu.:577.4   3rd Qu.:0.9285  \n",
            " Max.   :1   Max.   :138.0   Max.   :1089.6   Max.   :913.8   Max.   :1.3682  \n",
            "                             NA's   :1061     NA's   :1061    NA's   :1061    \n",
            "      pop            dist            nomkt         vdsa_hh_id    \n",
            " Min.   : 573   Min.   : 0.000   Min.   :0.000   Min.   :113241  \n",
            " 1st Qu.:1410   1st Qu.: 4.500   1st Qu.:1.000   1st Qu.:118055  \n",
            " Median :3000   Median : 9.000   Median :2.000   Median :123034  \n",
            " Mean   :2865   Mean   : 8.889   Mean   :2.596   Mean   :126310  \n",
            " 3rd Qu.:3600   3rd Qu.:13.000   3rd Qu.:4.000   3rd Qu.:135080  \n",
            " Max.   :6979   Max.   :30.000   Max.   :4.000   Max.   :138059  \n",
            "                                                                 \n",
            "    tot_acre         genderH            ageH          noadultM     \n",
            " Min.   : 0.000   Min.   :0.0000   Min.   :23.00   Min.   : 1.000  \n",
            " 1st Qu.: 1.200   1st Qu.:1.0000   1st Qu.:42.00   1st Qu.: 2.000  \n",
            " Median : 3.500   Median :1.0000   Median :52.00   Median : 3.000  \n",
            " Mean   : 6.444   Mean   :0.9642   Mean   :52.05   Mean   : 3.038  \n",
            " 3rd Qu.: 8.000   3rd Qu.:1.0000   3rd Qu.:62.00   3rd Qu.: 4.000  \n",
            " Max.   :66.000   Max.   :1.0000   Max.   :89.00   Max.   :16.000  \n",
            "                                                                   \n",
            "    noadultF          nokids          sizehh         farm_cat        \n",
            " Min.   : 0.000   Min.   :0.000   Min.   : 2.000   Length:1536       \n",
            " 1st Qu.: 1.000   1st Qu.:0.000   1st Qu.: 5.000   Class :character  \n",
            " Median : 2.000   Median :1.000   Median : 6.000   Mode  :character  \n",
            " Mean   : 2.607   Mean   :1.404   Mean   : 7.044                     \n",
            " 3rd Qu.: 3.000   3rd Qu.:2.000   3rd Qu.: 8.000                     \n",
            " Max.   :11.000   Max.   :8.000   Max.   :26.000                     \n",
            "                                                                     \n",
            "     aindex             lindex            prcl_id              sur_yr    \n",
            " Min.   :-1.90711   Min.   :-1.24137   Min.   :113241032   Min.   :2009  \n",
            " 1st Qu.:-0.48882   1st Qu.:-0.60618   1st Qu.:118055068   1st Qu.:2010  \n",
            " Median : 0.07435   Median :-0.11976   Median :123034008   Median :2011  \n",
            " Mean   : 0.05856   Mean   :-0.02278   Mean   :126309753   Mean   :2011  \n",
            " 3rd Qu.: 0.71905   3rd Qu.: 0.33233   3rd Qu.:135080032   3rd Qu.:2012  \n",
            " Max.   : 2.02121   Max.   : 6.99098   Max.   :138059008   Max.   :2013  \n",
            "                                                                         \n",
            "   plot_area           output            price            value       \n",
            " Min.   :0.01214   Min.   :    0.0   Min.   :  0.00   Min.   :     0  \n",
            " 1st Qu.:0.20234   1st Qu.:  471.2   1st Qu.: 11.70   1st Qu.:  6375  \n",
            " Median :0.48562   Median : 1100.0   Median : 13.00   Median : 14739  \n",
            " Mean   :0.78503   Mean   : 1931.0   Mean   : 13.61   Mean   : 25866  \n",
            " 3rd Qu.:0.97630   3rd Qu.: 2400.0   3rd Qu.: 15.00   3rd Qu.: 32274  \n",
            " Max.   :7.68903   Max.   :23040.0   Max.   :600.00   Max.   :315000  \n",
            "                                                                      \n",
            "     lab_q             fert_q           irr_q             mech_v       \n",
            " Min.   :   5.00   Min.   :   0.0   Min.   :  0.000   Min.   :    0.0  \n",
            " 1st Qu.:  42.89   1st Qu.:  49.0   1st Qu.:  0.000   1st Qu.:  604.6  \n",
            " Median :  96.14   Median : 115.0   Median :  0.000   Median : 1736.0  \n",
            " Mean   : 161.28   Mean   : 189.2   Mean   :  3.727   Mean   : 3460.1  \n",
            " 3rd Qu.: 217.00   3rd Qu.: 250.0   3rd Qu.:  2.500   3rd Qu.: 4285.0  \n",
            " Max.   :1836.00   Max.   :2020.0   Max.   :183.000   Max.   :40280.0  \n",
            "                                                                       \n",
            "     pest_v       \n",
            " Min.   :    0.0  \n",
            " 1st Qu.:    0.0  \n",
            " Median :    0.0  \n",
            " Mean   :  151.9  \n",
            " 3rd Qu.:    0.0  \n",
            " Max.   :10100.0  \n",
            "                  \n"
          ]
        }
      ],
      "source": [
        "%%R\n",
        "# Display summary statistics of the dataset\n",
        "summary(df)\n"
      ]
    },
    {
      "cell_type": "code",
      "execution_count": null,
      "metadata": {
        "colab": {
          "base_uri": "https://localhost:8080/"
        },
        "id": "TJTYVh5Iv1o3",
        "outputId": "c103fbfb-8e15-4cc0-83c6-2b160e77ceb4"
      },
      "outputs": [
        {
          "name": "stdout",
          "output_type": "stream",
          "text": [
            "   Min. 1st Qu.  Median    Mean 3rd Qu.    Max.    NA's \n",
            "  363.7   363.7   464.9   511.8   470.8  1089.6    1061 \n"
          ]
        }
      ],
      "source": [
        "%%R\n",
        "\n",
        "# View a specific variable\n",
        "summary(df$rain)"
      ]
    },
    {
      "cell_type": "markdown",
      "metadata": {
        "id": "gDCIAtQEq3SW"
      },
      "source": [
        "If you are interested in viewing summary statistics for a subset of observations rather than the entire dataset, you can do this in several ways in `R`. One option is to use the `by()` function. For example, to get the summary statistics of the output variable grouped by the gender of the head of household, you can use:"
      ]
    },
    {
      "cell_type": "code",
      "execution_count": null,
      "metadata": {
        "colab": {
          "base_uri": "https://localhost:8080/"
        },
        "id": "5eYDzSFbq5Cc",
        "outputId": "f4ea16c0-e9e7-4e1e-c9e0-ce4afcc6ccc0"
      },
      "outputs": [
        {
          "name": "stdout",
          "output_type": "stream",
          "text": [
            "df$genderH: 0\n",
            "   Min. 1st Qu.  Median    Mean 3rd Qu.    Max. \n",
            "   50.0   130.0   300.0   943.3   850.0 18600.0 \n",
            "------------------------------------------------------------ \n",
            "df$genderH: 1\n",
            "   Min. 1st Qu.  Median    Mean 3rd Qu.    Max. \n",
            "      0     500    1150    1968    2411   23040 \n"
          ]
        }
      ],
      "source": [
        "%%R\n",
        "by(df$output,df$genderH,FUN=summary)"
      ]
    },
    {
      "cell_type": "markdown",
      "metadata": {
        "id": "HGEvnlL_w1gN"
      },
      "source": [
        "1.\t`by()` Function: This function in `R` applies a specified function to each level of a grouping factor within a data frame. In this case, it is used to compute summary statistics for subsets of the data.\n",
        "2.\t`df$output`: This specifies the data you want to analyze—in this example, the output variable from the data frame `df`. It is the input data for which you want to calculate summary statistics.\n",
        "3.\t`df$genderH`: This is the grouping variable. The `by()` function will split `df$output` into subsets based on the unique values of `df$genderH` (e.g., male or female). It applies the function (summary) to each of these subsets separately.\n",
        "4.\t`FUN` = summary: This specifies the function to be applied to each subset of data. Here, summary is used to generate basic statistics (such as minimum, median, mean, maximum, and quartiles) for each subset defined by `df$genderH`.\n"
      ]
    },
    {
      "cell_type": "markdown",
      "metadata": {
        "id": "RII3OmwDq-su"
      },
      "source": [
        "To summarize a variable by the combination of multiple categorical variables, you can create a temporary concatenated variable as the second argument of the `by()` function using the `paste()` function. For example, to summarize output by each combination of `genderH` and `farm_cat` you can write:"
      ]
    },
    {
      "cell_type": "code",
      "execution_count": null,
      "metadata": {
        "colab": {
          "base_uri": "https://localhost:8080/"
        },
        "id": "L2g5DT6ixcoy",
        "outputId": "f805e171-6d47-4b15-ecad-0a7dce6803f3"
      },
      "outputs": [
        {
          "name": "stdout",
          "output_type": "stream",
          "text": [
            "paste(df$genderH, df$farm_cat): 0 LA\n",
            "   Min. 1st Qu.  Median    Mean 3rd Qu.    Max. \n",
            "    100     185     270     270     355     440 \n",
            "------------------------------------------------------------ \n",
            "paste(df$genderH, df$farm_cat): 0 LB\n",
            "   Min. 1st Qu.  Median    Mean 3rd Qu.    Max. \n",
            "  610.0   612.5   615.0   615.0   617.5   620.0 \n",
            "------------------------------------------------------------ \n",
            "paste(df$genderH, df$farm_cat): 0 MD\n",
            "   Min. 1st Qu.  Median    Mean 3rd Qu.    Max. \n",
            "   75.0   110.5   225.0   392.3   300.0  1650.0 \n",
            "------------------------------------------------------------ \n",
            "paste(df$genderH, df$farm_cat): 0 SM\n",
            "   Min. 1st Qu.  Median    Mean 3rd Qu.    Max. \n",
            "     50     150     600    1206     900   18600 \n",
            "------------------------------------------------------------ \n",
            "paste(df$genderH, df$farm_cat): 1 LA\n",
            "   Min. 1st Qu.  Median    Mean 3rd Qu.    Max. \n",
            "      0     640    1470    2529    3200   23040 \n",
            "------------------------------------------------------------ \n",
            "paste(df$genderH, df$farm_cat): 1 LB\n",
            "   Min. 1st Qu.  Median    Mean 3rd Qu.    Max. \n",
            "    175     521     925    1245    1600    4050 \n",
            "------------------------------------------------------------ \n",
            "paste(df$genderH, df$farm_cat): 1 MD\n",
            "   Min. 1st Qu.  Median    Mean 3rd Qu.    Max. \n",
            "      0     430    1000    1596    2000   18010 \n",
            "------------------------------------------------------------ \n",
            "paste(df$genderH, df$farm_cat): 1 SM\n",
            "   Min. 1st Qu.  Median    Mean 3rd Qu.    Max. \n",
            "      0     400     900    1352    1890   10000 \n"
          ]
        }
      ],
      "source": [
        "%%R\n",
        "by(df$output, paste(df$genderH, df$farm_cat), FUN=summary)"
      ]
    },
    {
      "cell_type": "markdown",
      "metadata": {
        "id": "r0Udv0JarBV1"
      },
      "source": [
        "Another important function for summarizing categorical variables is the `table()` function. For example, to see the distribution of the categorical variable farm_cat you can use:`table(df$farm_cat)`"
      ]
    },
    {
      "cell_type": "code",
      "execution_count": null,
      "metadata": {
        "colab": {
          "base_uri": "https://localhost:8080/"
        },
        "id": "UfEKVBbmrEZL",
        "outputId": "84b77b76-62ab-4347-df1e-ca7a4c9210da"
      },
      "outputs": [
        {
          "name": "stdout",
          "output_type": "stream",
          "text": [
            "\n",
            " LA  LB  MD  SM \n",
            "691  40 443 362 \n"
          ]
        }
      ],
      "source": [
        "%%R\n",
        "table(df$farm_cat)"
      ]
    },
    {
      "cell_type": "markdown",
      "metadata": {
        "id": "mxhw5x2_0IEn"
      },
      "source": [
        "# **Q1: Use the `by()` function to summarize the variable `ageH` by the combination of `genderH` and `farm_cat`. Use `table()` to tabulate the categorical variable `genderH`.**\n"
      ]
    },
    {
      "cell_type": "code",
      "execution_count": null,
      "metadata": {
        "id": "6SExQWWH0hxA"
      },
      "outputs": [],
      "source": [
        "%%R\n",
        "#__________________YourCodeHere__________________________"
      ]
    },
    {
      "cell_type": "markdown",
      "metadata": {
        "id": "BKiLm5lbrPIB"
      },
      "source": [
        "There are other commands that can be useful for learning more about your data:\n",
        "\n",
        "- `nrow()` can be used to count the number of observations in a data set. It is also possible to group by another variable.\n",
        "- `duplicated()` indicates duplicated observations in the data. You can use it to drop duplicate observations like the following:"
      ]
    },
    {
      "cell_type": "code",
      "execution_count": null,
      "metadata": {
        "colab": {
          "base_uri": "https://localhost:8080/"
        },
        "id": "_oheKb7H1ZRE",
        "outputId": "f8678057-2f04-41b3-b323-1b8afac2b2b8"
      },
      "outputs": [
        {
          "name": "stdout",
          "output_type": "stream",
          "text": [
            "# A tibble: 6 × 30\n",
            "  country   vil_id  rain average    dev   pop  dist nomkt vdsa_hh_id tot_acre\n",
            "  <dbl+lbl>  <dbl> <dbl>   <dbl>  <dbl> <dbl> <dbl> <dbl>      <dbl>    <dbl>\n",
            "1 1 [India]    135   NA      NA  NA       876    12     2     135008    0    \n",
            "2 1 [India]    119   NA      NA  NA      3600     5     4     119035    1.22 \n",
            "3 1 [India]    135   NA      NA  NA       876    12     2     135203    0    \n",
            "4 1 [India]    119  496.    577.  0.859  3600     5     4     119034    0.870\n",
            "5 1 [India]    119  471.    577.  0.815  3600     5     4     119034    1.15 \n",
            "6 1 [India]    120  471.    577.  0.815  4494    15     4     120048    1.80 \n",
            "# ℹ 20 more variables: genderH <dbl>, ageH <dbl>, noadultM <dbl>,\n",
            "#   noadultF <dbl>, nokids <dbl>, sizehh <dbl>, farm_cat <chr>, aindex <dbl>,\n",
            "#   lindex <dbl>, prcl_id <dbl>, sur_yr <dbl>, plot_area <dbl>, output <dbl>,\n",
            "#   price <dbl>, value <dbl>, lab_q <dbl>, fert_q <dbl>, irr_q <dbl>,\n",
            "#   mech_v <dbl>, pest_v <dbl>\n"
          ]
        }
      ],
      "source": [
        "%%R\n",
        "df <- subset(df, !duplicated(df))\n",
        "head(df)"
      ]
    },
    {
      "cell_type": "markdown",
      "metadata": {
        "id": "7r_H8_791g2m"
      },
      "source": [
        "- `unique()` tells you the unique values of a particular variable. To count the number of unique values of a variable, you could use:"
      ]
    },
    {
      "cell_type": "code",
      "execution_count": null,
      "metadata": {
        "colab": {
          "base_uri": "https://localhost:8080/"
        },
        "id": "CPGj2lGa1hcW",
        "outputId": "e722b31e-4ddc-4ad9-c584-a17fb38a0894"
      },
      "outputs": [
        {
          "name": "stdout",
          "output_type": "stream",
          "text": [
            "[1] 19\n"
          ]
        }
      ],
      "source": [
        "%%R\n",
        "length(unique(df$vil_id))"
      ]
    },
    {
      "cell_type": "markdown",
      "metadata": {
        "id": "GN9VGI2-0_ye"
      },
      "source": [
        "# **Q2: Use the `length(unique())` command to determine how many unique parcels are in the data. How many distinct households and villages?**"
      ]
    },
    {
      "cell_type": "code",
      "execution_count": null,
      "metadata": {
        "id": "Y5ReY2nGrV-P"
      },
      "outputs": [],
      "source": [
        "%%R\n",
        "#__________________YourCodeHere__________________________"
      ]
    },
    {
      "cell_type": "markdown",
      "metadata": {
        "id": "o6dwHNsq5Cfc"
      },
      "source": [
        "# **Data Manipulation**"
      ]
    },
    {
      "cell_type": "markdown",
      "metadata": {
        "id": "qt2NZO0i2Eq8"
      },
      "source": [
        "Variables and observations of a data set can be selected using the `subset()` command. For example, to keep only observations where some variable `var1 > 100`, you could write: `df <- subset(df, var1 > 100)`"
      ]
    },
    {
      "cell_type": "markdown",
      "metadata": {
        "id": "TNQFocQU2OWZ"
      },
      "source": [
        "Let’s begin to manipulate the data. First, tabulate survey year: `table(df$sur_yr)`."
      ]
    },
    {
      "cell_type": "code",
      "execution_count": null,
      "metadata": {
        "colab": {
          "base_uri": "https://localhost:8080/"
        },
        "id": "o5xt1OO7Efmf",
        "outputId": "395ee17e-1014-4d6c-e8c2-b0f85c6bd7da"
      },
      "outputs": [
        {
          "name": "stdout",
          "output_type": "stream",
          "text": [
            "\n",
            "2009 2010 2011 2012 2013 \n",
            " 124  408  335  420  249 \n"
          ]
        }
      ],
      "source": [
        "%%R\n",
        "# Display the count of observations for each year in the 'sur_yr' column\n",
        "table(df$sur_yr)"
      ]
    },
    {
      "cell_type": "markdown",
      "metadata": {
        "id": "hlHfSm_H2hU9"
      },
      "source": [
        "Notice that survey years 2009 and 2013 have fewer observations than the other years. This is because the VDSA survey only captured half a year of data in 2009 and only recently published the remainder of 2013. So, drop all observations that come from 2009 and 2013."
      ]
    },
    {
      "cell_type": "code",
      "execution_count": null,
      "metadata": {
        "colab": {
          "base_uri": "https://localhost:8080/"
        },
        "id": "MUPBllP15GgR",
        "outputId": "e4acd8f6-ce44-4925-a712-c555bdbf1dd5"
      },
      "outputs": [
        {
          "name": "stdout",
          "output_type": "stream",
          "text": [
            "\n",
            "2010 2011 2012 \n",
            " 408  335  420 \n"
          ]
        }
      ],
      "source": [
        "%%R\n",
        "# Subset data for specific years\n",
        "df <- subset(df, sur_yr %in% c(2010, 2011, 2012))\n",
        "#Verify that these obs were dropped\n",
        "table(df$sur_yr)"
      ]
    },
    {
      "cell_type": "markdown",
      "metadata": {
        "id": "Q0If3VQvF6QR"
      },
      "source": [
        "The `%in%` operator checks if elements belong to a specific set. In this case, the `c()` function creates a vector containing the elements `2010`, `2011`, and `2012`. Therefore, the command can be interpreted as: “Select the rows in `df` where the `sur_yr` variable is one of the values in the set [2010, 2011, 2012], and store this subset in `df`”"
      ]
    },
    {
      "cell_type": "markdown",
      "metadata": {
        "id": "924IBHM65McZ"
      },
      "source": [
        "## **Data Visualization**\n",
        "`R` is a very powerful tool for producing visual analysis. A very popular package used to create plots and graphs is `ggplot2`. The syntax may seem complicated at a first glance, but due to its flexibility, it is a tool that is certainly worthwhile learning.\n",
        "Here is how to generate a histogram and scatter plot to explore the relationships between variables."
      ]
    },
    {
      "cell_type": "code",
      "execution_count": null,
      "metadata": {
        "colab": {
          "base_uri": "https://localhost:8080/",
          "height": 497
        },
        "id": "HvjfpG36MQoU",
        "outputId": "5b414a42-3891-43b5-dc4b-362856db208d"
      },
      "outputs": [
        {
          "data": {
            "image/png": "[encoded data removed]"
          },
          "metadata": {},
          "output_type": "display_data"
        }
      ],
      "source": [
        "%%R\n",
        "# Histogram of the 'price' variable\n",
        "ggplot(df, aes(x = price)) +\n",
        "geom_histogram(binwidth = 50, fill = \"steelblue\", color = \"black\", alpha = 0.7) +\n",
        "labs(title = \"Histogram of Price\", x = \"Price\", y = \"Frequency\") +\n",
        "theme_minimal()"
      ]
    },
    {
      "cell_type": "markdown",
      "metadata": {
        "id": "0qoi-DdDGZ9R"
      },
      "source": [
        "The process is similar to create a scatter plot. Instead of `geom_histogram` you can specify a `geom_point` and include a `y` variable to the `aes()` argument.For example, to create a scatter of `price` and `value` you could write:"
      ]
    },
    {
      "cell_type": "code",
      "execution_count": null,
      "metadata": {
        "colab": {
          "base_uri": "https://localhost:8080/",
          "height": 497
        },
        "id": "RgKB97tWGaGJ",
        "outputId": "b67f1efc-32a1-4a61-e182-4ac416ec3d68"
      },
      "outputs": [
        {
          "data": {
            "image/png": "[encoded data removed]"
          },
          "metadata": {},
          "output_type": "display_data"
        }
      ],
      "source": [
        "%%R\n",
        "# Scatter Plot of the 'price' variable\n",
        "ggplot(df, aes(x = price, y = output)) +\n",
        "geom_point(color = \"darkgreen\", alpha = 0.6) +\n",
        "labs(title = \"Scatter Plot of Price vs Output\", x = \"Price\", y = \"Output\") +\n",
        "theme_minimal()"
      ]
    },
    {
      "cell_type": "markdown",
      "metadata": {
        "id": "ivvGM1Op3MLR"
      },
      "source": [
        "# **Q3: Create scatter plots to explore the relationship between output and each of the following input variables: `plot_area`, `lab_q`,` irr_q`, and `pest_v`. Generate a separate scatter plot for each of these input-output pairs. Based on these plots, what can you infer about the relationships between output and these inputs?**"
      ]
    },
    {
      "cell_type": "code",
      "execution_count": null,
      "metadata": {
        "id": "vmeVuTICijyv"
      },
      "outputs": [],
      "source": [
        "%%R\n",
        "#------------------------- Your Code Here------------------------------------#"
      ]
    },
    {
      "cell_type": "markdown",
      "metadata": {
        "id": "MTf-P2-biiuK"
      },
      "source": [
        "**------------------------Your Answer here----------------------------------------**"
      ]
    },
    {
      "cell_type": "markdown",
      "metadata": {
        "id": "etYekcVD5YMm"
      },
      "source": [
        "# **Create and Transform Variables**"
      ]
    },
    {
      "cell_type": "markdown",
      "metadata": {
        "id": "gwQTLqs033sL"
      },
      "source": [
        "Creating variables in a data frame in `R `is easy. All you need to do is to assign some value to a variable name that does not exist in the data frame. For example, to create a variable called `var1` in data frame `df` and assign the value of 1 to all observations, you could right:"
      ]
    },
    {
      "cell_type": "code",
      "execution_count": null,
      "metadata": {
        "colab": {
          "base_uri": "https://localhost:8080/"
        },
        "id": "SFyH8uEb36WJ",
        "outputId": "748a39cc-b1de-47e4-e45b-da575598b995"
      },
      "outputs": [
        {
          "name": "stdout",
          "output_type": "stream",
          "text": [
            "# A tibble: 6 × 31\n",
            "  country   vil_id  rain average    dev   pop  dist nomkt vdsa_hh_id tot_acre\n",
            "  <dbl+lbl>  <dbl> <dbl>   <dbl>  <dbl> <dbl> <dbl> <dbl>      <dbl>    <dbl>\n",
            "1 1 [India]    119   NA      NA  NA      3600     5     4     119035    1.22 \n",
            "2 1 [India]    119  496.    577.  0.859  3600     5     4     119034    0.870\n",
            "3 1 [India]    119  471.    577.  0.815  3600     5     4     119034    1.15 \n",
            "4 1 [India]    120  471.    577.  0.815  4494    15     4     120048    1.80 \n",
            "5 1 [India]    119  496.    577.  0.859  3600     5     4     119034    0.870\n",
            "6 1 [India]    137   NA      NA  NA       880    13     2     137032    5    \n",
            "# ℹ 21 more variables: genderH <dbl>, ageH <dbl>, noadultM <dbl>,\n",
            "#   noadultF <dbl>, nokids <dbl>, sizehh <dbl>, farm_cat <chr>, aindex <dbl>,\n",
            "#   lindex <dbl>, prcl_id <dbl>, sur_yr <dbl>, plot_area <dbl>, output <dbl>,\n",
            "#   price <dbl>, value <dbl>, lab_q <dbl>, fert_q <dbl>, irr_q <dbl>,\n",
            "#   mech_v <dbl>, pest_v <dbl>, var1 <dbl>\n"
          ]
        }
      ],
      "source": [
        "%%R\n",
        "# Create `var1` variable in df\n",
        "df$var1 <- 1\n",
        "# Check if var1 was addes\n",
        "head(df)"
      ]
    },
    {
      "cell_type": "markdown",
      "metadata": {
        "id": "OWu8kYQ-Kp0s"
      },
      "source": [
        "# **Using IHS Transformation for Zero Values**"
      ]
    },
    {
      "cell_type": "markdown",
      "metadata": {
        "id": "GhQwY03Bi-ce"
      },
      "source": [
        "In production economics, researchers often use logarithmic transformations of data to simplify relationships between variables and facilitate the estimation of production functions like [Cobb-Douglas](https://en.wikipedia.org/wiki/Cobb%E2%80%93Douglas_production_function) or Translog. The *log transformation* is particularly useful because it allows us to interpret the coefficients from regressions as [elasticities](https://en.wikipedia.org/wiki/Elasticity_(economics), providing insights into how input changes affect output.\n",
        "\n",
        "However, log transformations run into a problem when the data contains zero values. Mathematically, the logarithm of zero $(log(0))$ is undefined, so we cannot directly apply the log function to variables that include zeros, which is common in agricultural production data (e.g., zero pesticide use on certain plots).\n",
        "\n",
        "To address this issue, we can use an alternative transformation known as the **Inverse Hyperbolic Sine (IHS)** Transformation. The IHS transformation provides a way to handle zero values without arbitrarily adding small constants to the data. Its formula is:\n",
        "\n",
        "$$log(x) = log(x+\\sqrt{x^2+1})$$\n",
        "\n",
        "  **Handles Zeros:** Unlike the log transformation, the IHS can handle zeros directly (solves the problem of $log(0)$), making it ideal for datasets where some input quantities (like pesticide use) may be zero.\n",
        "\n",
        "  **Approximation of Logarithmic Scale:** For large values of x, the IHS transformation behaves similarly to the natural logarithm, preserving the interpretability of elasticities in economic models.\n",
        "\n",
        "  **Avoids Arbitrary Additions:** Other methods involve adding a small constant to avoid taking the log of zero (e.g., log(x + 1)). This can introduce bias or arbitrary scaling, which the IHS avoids.\n",
        "\n",
        "In our VDSA data, we often work with output and input variables such as *labor*, *fertilizer,* *irrigation*, and *pesticide*. To make comparisons across plots with different sizes, we typically consider these inputs on a per-hectare basis. To transform these variables using the IHS, we divide by the plot area and then apply the `asinh()` function in `R`.\n",
        "\n",
        "For example, to create a variable called `lny` with the log of output divided by `plot_area`, we can run:"
      ]
    },
    {
      "cell_type": "code",
      "execution_count": null,
      "metadata": {
        "colab": {
          "base_uri": "https://localhost:8080/"
        },
        "id": "TIBzh5Urk_g1",
        "outputId": "3cc6e51a-5aa3-48b6-e8fb-818ac70cef57"
      },
      "outputs": [
        {
          "name": "stdout",
          "output_type": "stream",
          "text": [
            "# A tibble: 6 × 32\n",
            "  country   vil_id  rain average    dev   pop  dist nomkt vdsa_hh_id tot_acre\n",
            "  <dbl+lbl>  <dbl> <dbl>   <dbl>  <dbl> <dbl> <dbl> <dbl>      <dbl>    <dbl>\n",
            "1 1 [India]    119   NA      NA  NA      3600     5     4     119035    1.22 \n",
            "2 1 [India]    119  496.    577.  0.859  3600     5     4     119034    0.870\n",
            "3 1 [India]    119  471.    577.  0.815  3600     5     4     119034    1.15 \n",
            "4 1 [India]    120  471.    577.  0.815  4494    15     4     120048    1.80 \n",
            "5 1 [India]    119  496.    577.  0.859  3600     5     4     119034    0.870\n",
            "6 1 [India]    137   NA      NA  NA       880    13     2     137032    5    \n",
            "# ℹ 22 more variables: genderH <dbl>, ageH <dbl>, noadultM <dbl>,\n",
            "#   noadultF <dbl>, nokids <dbl>, sizehh <dbl>, farm_cat <chr>, aindex <dbl>,\n",
            "#   lindex <dbl>, prcl_id <dbl>, sur_yr <dbl>, plot_area <dbl>, output <dbl>,\n",
            "#   price <dbl>, value <dbl>, lab_q <dbl>, fert_q <dbl>, irr_q <dbl>,\n",
            "#   mech_v <dbl>, pest_v <dbl>, var1 <dbl>, lny <dbl>\n"
          ]
        }
      ],
      "source": [
        "%%R\n",
        "# Calculate the output per hectare by dividing 'output' by 'plot_area'\n",
        "# Apply the inverse hyperbolic sine (asinh) transformation to the result\n",
        "# Assign the transformed values to a new column 'lny' in the data frame 'df'\n",
        "df$lny <- asinh(df$output / df$plot_area)\n",
        "\n",
        "# Check if the new var `lny` was added to df\n",
        "head(df)"
      ]
    },
    {
      "cell_type": "markdown",
      "metadata": {
        "id": "h0Wy0i5f4KGt"
      },
      "source": [
        "# **Q4:  Now, create similar variables for all inputs and call them `lnl`, `lnf`, `lni`, `lnm`, and `lnp`.**"
      ]
    },
    {
      "cell_type": "code",
      "execution_count": null,
      "metadata": {
        "id": "zc_4vVnRlbLP"
      },
      "outputs": [],
      "source": [
        "%%R\n",
        "#------------------------- Your Code Here------------------------------------#"
      ]
    },
    {
      "cell_type": "markdown",
      "metadata": {
        "id": "tYyrW6MFLsS-"
      },
      "source": [
        "Assign labels to the newly created variables, including their units of measurement (e.g., “kg/ha” for fertilizer). Use the provided command lines to add these labels and append them to the original dataset."
      ]
    },
    {
      "cell_type": "code",
      "execution_count": null,
      "metadata": {
        "colab": {
          "base_uri": "https://localhost:8080/"
        },
        "id": "tFdoymTH4yTr",
        "outputId": "1a409f7c-34e8-4c5d-dad8-2c4cbb8f6574"
      },
      "outputs": [
        {
          "name": "stdout",
          "output_type": "stream",
          "text": [
            "     variable label                                      \n",
            "[1,] \"var1\"   \"variable with ones\"                       \n",
            "[2,] \"lny\"    \"log of output per area (Rs/ha)\"           \n",
            "[3,] \"lnl\"    \"log of labor per area (Hr/ha)\"            \n",
            "[4,] \"lnf\"    \"log of fertilizer per area (kg/ha)\"       \n",
            "[5,] \"lni\"    \"log of irrigation per area (Lt/ha)\"       \n",
            "[6,] \"lnm\"    \"log of mechanistic input per area (Rs/ha)\"\n",
            "[7,] \"lnp\"    \"log of pesticide per area (Rs/ha)\"        \n"
          ]
        }
      ],
      "source": [
        "%%R\n",
        "# Define a vector containing the names of new variables\n",
        "new.vars <- c(\"var1\", \"lny\", \"lnl\", \"lnf\", \"lni\", \"lnm\", \"lnp\")\n",
        "\n",
        "# Create a matrix that combines the new variable names with their corresponding labels\n",
        "# cbind() combines the 'new.vars' vector with a vector of descriptive labels for each variable\n",
        "new.labels <- cbind(new.vars, c(\n",
        "                \"variable with ones\",             # Label for 'var1'\n",
        "                \"log of output per area (Rs/ha)\", # Label for 'lny'\n",
        "                \"log of labor per area (Hr/ha)\",  # Label for 'lnl'\n",
        "                \"log of fertilizer per area (kg/ha)\", # Label for 'lnf'\n",
        "                \"log of irrigation per area (Lt/ha)\", # Label for 'lni'\n",
        "                \"log of mechanistic input per area (Rs/ha)\", # Label for 'lnm'\n",
        "                \"log of pesticide per area (Rs/ha)\"  # Label for 'lnp'\n",
        "))\n",
        "\n",
        "# Set column names for the 'new.labels' matrix to describe what each column represents\n",
        "colnames(new.labels) <- c(\"variable\", \"label\")\n",
        "# View  'new.labels' matrix\n",
        "print(new.labels)"
      ]
    },
    {
      "cell_type": "markdown",
      "metadata": {
        "id": "kyZWx14T5iHk"
      },
      "source": [
        "# **Regression Analysis**\n",
        "\n",
        "Finally, we can now run regressions in `R`. Basic OLS Regressions in `R` are run in the following form: `lm(indep_var ~ dep_var1 + … + dep_varN, data = data_frame_name)`\n",
        "\n",
        "Where the first set of arguments are the regression formula and the second indicates the data frame to be used. To visualize a detailed regression output table, you can assign the regression to an object and call the `summary()` of it:\n",
        "\n",
        "`summary(lm(indep_var ~ dep_var1 + … , data = df))`\n"
      ]
    },
    {
      "cell_type": "markdown",
      "metadata": {
        "id": "HKo5Ebwo48bY"
      },
      "source": [
        "# **Q5: Run a simple regression with log labor, fertilizer, irrigation, mechanization, and pesticide as independent variables and log yield as the dependent variable. How do you interpret the point estimates on each variable?**"
      ]
    },
    {
      "cell_type": "code",
      "execution_count": null,
      "metadata": {
        "id": "wRqIIa-C5JCS"
      },
      "outputs": [],
      "source": [
        "%%R\n",
        "#------------------------- Your Code Here------------------------------------#"
      ]
    },
    {
      "cell_type": "markdown",
      "metadata": {
        "id": "6OcvBeBVmR0g"
      },
      "source": [
        "**------------------------Your Answer here----------------------------------------**"
      ]
    },
    {
      "cell_type": "markdown",
      "metadata": {
        "id": "ZQrPw-oCmhXj"
      },
      "source": [
        "Before we move on, let’s create a binary indicator for irrigation use called `irr` that equals **1** if the parcel under observation had irrigation greater than zero and equals zero if the parcel had no irrigation."
      ]
    },
    {
      "cell_type": "code",
      "execution_count": null,
      "metadata": {
        "colab": {
          "base_uri": "https://localhost:8080/",
          "height": 306
        },
        "id": "L5JhkB0jmtBx",
        "outputId": "31205d09-8ed4-4b26-b0c6-91f3552407a4"
      },
      "outputs": [
        {
          "data": {
            "text/html": [
              "<table class=\"dataframe\">\n",
              "<caption>A tibble: 6 × 42</caption>\n",
              "<thead>\n",
              "\t<tr><th scope=col>country</th><th scope=col>vil_id</th><th scope=col>rain</th><th scope=col>average</th><th scope=col>dev</th><th scope=col>pop</th><th scope=col>dist</th><th scope=col>nomkt</th><th scope=col>vdsa_hh_id</th><th scope=col>tot_acre</th><th scope=col>⋯</th><th scope=col>lnl</th><th scope=col>lnf</th><th scope=col>lni</th><th scope=col>lnm</th><th scope=col>lnp</th><th scope=col>lnaindex</th><th scope=col>lnlindex</th><th scope=col>lntot_acre</th><th scope=col>lndist</th><th scope=col>irr</th></tr>\n",
              "\t<tr><th scope=col>&lt;dbl+lbl&gt;</th><th scope=col>&lt;dbl&gt;</th><th scope=col>&lt;dbl&gt;</th><th scope=col>&lt;dbl&gt;</th><th scope=col>&lt;dbl&gt;</th><th scope=col>&lt;dbl&gt;</th><th scope=col>&lt;dbl&gt;</th><th scope=col>&lt;dbl&gt;</th><th scope=col>&lt;dbl&gt;</th><th scope=col>&lt;dbl&gt;</th><th scope=col>⋯</th><th scope=col>&lt;dbl&gt;</th><th scope=col>&lt;dbl&gt;</th><th scope=col>&lt;dbl&gt;</th><th scope=col>&lt;dbl&gt;</th><th scope=col>&lt;dbl&gt;</th><th scope=col>&lt;dbl&gt;</th><th scope=col>&lt;dbl&gt;</th><th scope=col>&lt;dbl&gt;</th><th scope=col>&lt;dbl&gt;</th><th scope=col>&lt;dbl&gt;</th></tr>\n",
              "</thead>\n",
              "<tbody>\n",
              "\t<tr><td>1</td><td>119</td><td>     NA</td><td>      NA</td><td>       NA</td><td>3600</td><td> 5</td><td>4</td><td>119035</td><td>1.22</td><td>⋯</td><td>6.396885</td><td>6.418075</td><td>4.688918</td><td>9.364208</td><td>0.000000</td><td>-0.22474804</td><td>-0.390123289</td><td>1.0287141</td><td>2.312438</td><td>1</td></tr>\n",
              "\t<tr><td>1</td><td>119</td><td>495.660</td><td>577.3553</td><td>0.8585009</td><td>3600</td><td> 5</td><td>4</td><td>119034</td><td>0.87</td><td>⋯</td><td>5.286696</td><td>5.286696</td><td>1.219146</td><td>8.226714</td><td>0.000000</td><td>-1.11807953</td><td>-0.916530001</td><td>0.7864012</td><td>2.312438</td><td>1</td></tr>\n",
              "\t<tr><td>1</td><td>119</td><td>470.766</td><td>577.3553</td><td>0.8153836</td><td>3600</td><td> 5</td><td>4</td><td>119034</td><td>1.15</td><td>⋯</td><td>6.533205</td><td>6.650988</td><td>0.000000</td><td>8.690762</td><td>0.000000</td><td>-0.99749054</td><td>-0.908523784</td><td>0.9835661</td><td>2.312438</td><td>0</td></tr>\n",
              "\t<tr><td>1</td><td>120</td><td>470.766</td><td>577.3553</td><td>0.8153836</td><td>4494</td><td>15</td><td>4</td><td>120048</td><td>1.80</td><td>⋯</td><td>6.038564</td><td>5.692147</td><td>0.000000</td><td>8.108049</td><td>7.771577</td><td> 0.07428161</td><td>-0.119476259</td><td>1.3504407</td><td>3.402307</td><td>0</td></tr>\n",
              "\t<tr><td>1</td><td>119</td><td>495.660</td><td>577.3553</td><td>0.8585009</td><td>3600</td><td> 5</td><td>4</td><td>119034</td><td>0.87</td><td>⋯</td><td>5.327516</td><td>5.440840</td><td>1.308909</td><td>8.116611</td><td>0.000000</td><td>-1.11807953</td><td>-0.916530001</td><td>0.7864012</td><td>2.312438</td><td>1</td></tr>\n",
              "\t<tr><td>1</td><td>137</td><td>     NA</td><td>      NA</td><td>       NA</td><td> 880</td><td>13</td><td>2</td><td>137032</td><td>5.00</td><td>⋯</td><td>5.994008</td><td>5.866497</td><td>0.000000</td><td>8.282403</td><td>0.000000</td><td>-0.33563854</td><td> 0.007208664</td><td>2.3124383</td><td>3.259573</td><td>0</td></tr>\n",
              "</tbody>\n",
              "</table>\n"
            ],
            "text/latex": [
              "A tibble: 6 × 42\n",
              "\\begin{tabular}{lllllllllllllllllllll}\n",
              " country & vil\\_id & rain & average & dev & pop & dist & nomkt & vdsa\\_hh\\_id & tot\\_acre & ⋯ & lnl & lnf & lni & lnm & lnp & lnaindex & lnlindex & lntot\\_acre & lndist & irr\\\\\n",
              " <dbl+lbl> & <dbl> & <dbl> & <dbl> & <dbl> & <dbl> & <dbl> & <dbl> & <dbl> & <dbl> & ⋯ & <dbl> & <dbl> & <dbl> & <dbl> & <dbl> & <dbl> & <dbl> & <dbl> & <dbl> & <dbl>\\\\\n",
              "\\hline\n",
              "\t 1 & 119 &      NA &       NA &        NA & 3600 &  5 & 4 & 119035 & 1.22 & ⋯ & 6.396885 & 6.418075 & 4.688918 & 9.364208 & 0.000000 & -0.22474804 & -0.390123289 & 1.0287141 & 2.312438 & 1\\\\\n",
              "\t 1 & 119 & 495.660 & 577.3553 & 0.8585009 & 3600 &  5 & 4 & 119034 & 0.87 & ⋯ & 5.286696 & 5.286696 & 1.219146 & 8.226714 & 0.000000 & -1.11807953 & -0.916530001 & 0.7864012 & 2.312438 & 1\\\\\n",
              "\t 1 & 119 & 470.766 & 577.3553 & 0.8153836 & 3600 &  5 & 4 & 119034 & 1.15 & ⋯ & 6.533205 & 6.650988 & 0.000000 & 8.690762 & 0.000000 & -0.99749054 & -0.908523784 & 0.9835661 & 2.312438 & 0\\\\\n",
              "\t 1 & 120 & 470.766 & 577.3553 & 0.8153836 & 4494 & 15 & 4 & 120048 & 1.80 & ⋯ & 6.038564 & 5.692147 & 0.000000 & 8.108049 & 7.771577 &  0.07428161 & -0.119476259 & 1.3504407 & 3.402307 & 0\\\\\n",
              "\t 1 & 119 & 495.660 & 577.3553 & 0.8585009 & 3600 &  5 & 4 & 119034 & 0.87 & ⋯ & 5.327516 & 5.440840 & 1.308909 & 8.116611 & 0.000000 & -1.11807953 & -0.916530001 & 0.7864012 & 2.312438 & 1\\\\\n",
              "\t 1 & 137 &      NA &       NA &        NA &  880 & 13 & 2 & 137032 & 5.00 & ⋯ & 5.994008 & 5.866497 & 0.000000 & 8.282403 & 0.000000 & -0.33563854 &  0.007208664 & 2.3124383 & 3.259573 & 0\\\\\n",
              "\\end{tabular}\n"
            ],
            "text/markdown": [
              "\n",
              "A tibble: 6 × 42\n",
              "\n",
              "| country &lt;dbl+lbl&gt; | vil_id &lt;dbl&gt; | rain &lt;dbl&gt; | average &lt;dbl&gt; | dev &lt;dbl&gt; | pop &lt;dbl&gt; | dist &lt;dbl&gt; | nomkt &lt;dbl&gt; | vdsa_hh_id &lt;dbl&gt; | tot_acre &lt;dbl&gt; | ⋯ ⋯ | lnl &lt;dbl&gt; | lnf &lt;dbl&gt; | lni &lt;dbl&gt; | lnm &lt;dbl&gt; | lnp &lt;dbl&gt; | lnaindex &lt;dbl&gt; | lnlindex &lt;dbl&gt; | lntot_acre &lt;dbl&gt; | lndist &lt;dbl&gt; | irr &lt;dbl&gt; |\n",
              "|---|---|---|---|---|---|---|---|---|---|---|---|---|---|---|---|---|---|---|---|---|\n",
              "| 1 | 119 |      NA |       NA |        NA | 3600 |  5 | 4 | 119035 | 1.22 | ⋯ | 6.396885 | 6.418075 | 4.688918 | 9.364208 | 0.000000 | -0.22474804 | -0.390123289 | 1.0287141 | 2.312438 | 1 |\n",
              "| 1 | 119 | 495.660 | 577.3553 | 0.8585009 | 3600 |  5 | 4 | 119034 | 0.87 | ⋯ | 5.286696 | 5.286696 | 1.219146 | 8.226714 | 0.000000 | -1.11807953 | -0.916530001 | 0.7864012 | 2.312438 | 1 |\n",
              "| 1 | 119 | 470.766 | 577.3553 | 0.8153836 | 3600 |  5 | 4 | 119034 | 1.15 | ⋯ | 6.533205 | 6.650988 | 0.000000 | 8.690762 | 0.000000 | -0.99749054 | -0.908523784 | 0.9835661 | 2.312438 | 0 |\n",
              "| 1 | 120 | 470.766 | 577.3553 | 0.8153836 | 4494 | 15 | 4 | 120048 | 1.80 | ⋯ | 6.038564 | 5.692147 | 0.000000 | 8.108049 | 7.771577 |  0.07428161 | -0.119476259 | 1.3504407 | 3.402307 | 0 |\n",
              "| 1 | 119 | 495.660 | 577.3553 | 0.8585009 | 3600 |  5 | 4 | 119034 | 0.87 | ⋯ | 5.327516 | 5.440840 | 1.308909 | 8.116611 | 0.000000 | -1.11807953 | -0.916530001 | 0.7864012 | 2.312438 | 1 |\n",
              "| 1 | 137 |      NA |       NA |        NA |  880 | 13 | 2 | 137032 | 5.00 | ⋯ | 5.994008 | 5.866497 | 0.000000 | 8.282403 | 0.000000 | -0.33563854 |  0.007208664 | 2.3124383 | 3.259573 | 0 |\n",
              "\n"
            ],
            "text/plain": [
              "  country vil_id rain    average  dev       pop  dist nomkt vdsa_hh_id tot_acre\n",
              "1 1       119         NA       NA        NA 3600  5   4     119035     1.22    \n",
              "2 1       119    495.660 577.3553 0.8585009 3600  5   4     119034     0.87    \n",
              "3 1       119    470.766 577.3553 0.8153836 3600  5   4     119034     1.15    \n",
              "4 1       120    470.766 577.3553 0.8153836 4494 15   4     120048     1.80    \n",
              "5 1       119    495.660 577.3553 0.8585009 3600  5   4     119034     0.87    \n",
              "6 1       137         NA       NA        NA  880 13   2     137032     5.00    \n",
              "  ⋯ lnl      lnf      lni      lnm      lnp      lnaindex    lnlindex    \n",
              "1 ⋯ 6.396885 6.418075 4.688918 9.364208 0.000000 -0.22474804 -0.390123289\n",
              "2 ⋯ 5.286696 5.286696 1.219146 8.226714 0.000000 -1.11807953 -0.916530001\n",
              "3 ⋯ 6.533205 6.650988 0.000000 8.690762 0.000000 -0.99749054 -0.908523784\n",
              "4 ⋯ 6.038564 5.692147 0.000000 8.108049 7.771577  0.07428161 -0.119476259\n",
              "5 ⋯ 5.327516 5.440840 1.308909 8.116611 0.000000 -1.11807953 -0.916530001\n",
              "6 ⋯ 5.994008 5.866497 0.000000 8.282403 0.000000 -0.33563854  0.007208664\n",
              "  lntot_acre lndist   irr\n",
              "1 1.0287141  2.312438 1  \n",
              "2 0.7864012  2.312438 1  \n",
              "3 0.9835661  2.312438 0  \n",
              "4 1.3504407  3.402307 0  \n",
              "5 0.7864012  2.312438 1  \n",
              "6 2.3124383  3.259573 0  "
            ]
          },
          "metadata": {},
          "output_type": "display_data"
        }
      ],
      "source": [
        "%%R\n",
        "# Create binary indicator ffor irrigation called `irr`\n",
        "df$irr <- ifelse(df$irr_q > 0, 1, 0)\n",
        "# Check if the new var was added by displaying the first few rows of the df\n",
        "head(df)"
      ]
    },
    {
      "cell_type": "markdown",
      "metadata": {
        "id": "GWrc9TRAmxFh"
      },
      "source": [
        "This will be our “treatment” variable. Let’s also create log transformed variables of `aindex`, `lindex`, `tot_acre`, and `dist` using the Inverse Hyperbolic Sine (IHS) `asinh()`. Call them `lnaindex`, `lnlindex`, `lntot_acre`, and `lndist`."
      ]
    },
    {
      "cell_type": "code",
      "execution_count": null,
      "metadata": {
        "colab": {
          "base_uri": "https://localhost:8080/",
          "height": 306
        },
        "id": "eSKlrU7VMLZz",
        "outputId": "6f05d7e5-52dd-4e5d-df49-8a3b07fcd6f1"
      },
      "outputs": [
        {
          "data": {
            "text/html": [
              "<table class=\"dataframe\">\n",
              "<caption>A tibble: 6 × 41</caption>\n",
              "<thead>\n",
              "\t<tr><th scope=col>country</th><th scope=col>vil_id</th><th scope=col>rain</th><th scope=col>average</th><th scope=col>dev</th><th scope=col>pop</th><th scope=col>dist</th><th scope=col>nomkt</th><th scope=col>vdsa_hh_id</th><th scope=col>tot_acre</th><th scope=col>⋯</th><th scope=col>var1</th><th scope=col>lnl</th><th scope=col>lnf</th><th scope=col>lni</th><th scope=col>lnm</th><th scope=col>lnp</th><th scope=col>lnaindex</th><th scope=col>lnlindex</th><th scope=col>lntot_acre</th><th scope=col>lndist</th></tr>\n",
              "\t<tr><th scope=col>&lt;dbl+lbl&gt;</th><th scope=col>&lt;dbl&gt;</th><th scope=col>&lt;dbl&gt;</th><th scope=col>&lt;dbl&gt;</th><th scope=col>&lt;dbl&gt;</th><th scope=col>&lt;dbl&gt;</th><th scope=col>&lt;dbl&gt;</th><th scope=col>&lt;dbl&gt;</th><th scope=col>&lt;dbl&gt;</th><th scope=col>&lt;dbl&gt;</th><th scope=col>⋯</th><th scope=col>&lt;dbl&gt;</th><th scope=col>&lt;dbl&gt;</th><th scope=col>&lt;dbl&gt;</th><th scope=col>&lt;dbl&gt;</th><th scope=col>&lt;dbl&gt;</th><th scope=col>&lt;dbl&gt;</th><th scope=col>&lt;dbl&gt;</th><th scope=col>&lt;dbl&gt;</th><th scope=col>&lt;dbl&gt;</th><th scope=col>&lt;dbl&gt;</th></tr>\n",
              "</thead>\n",
              "<tbody>\n",
              "\t<tr><td>1</td><td>119</td><td>     NA</td><td>      NA</td><td>       NA</td><td>3600</td><td> 5</td><td>4</td><td>119035</td><td>1.22</td><td>⋯</td><td>1</td><td>6.396885</td><td>6.418075</td><td>4.688918</td><td>9.364208</td><td>0.000000</td><td>-0.22474804</td><td>-0.390123289</td><td>1.0287141</td><td>2.312438</td></tr>\n",
              "\t<tr><td>1</td><td>119</td><td>495.660</td><td>577.3553</td><td>0.8585009</td><td>3600</td><td> 5</td><td>4</td><td>119034</td><td>0.87</td><td>⋯</td><td>1</td><td>5.286696</td><td>5.286696</td><td>1.219146</td><td>8.226714</td><td>0.000000</td><td>-1.11807953</td><td>-0.916530001</td><td>0.7864012</td><td>2.312438</td></tr>\n",
              "\t<tr><td>1</td><td>119</td><td>470.766</td><td>577.3553</td><td>0.8153836</td><td>3600</td><td> 5</td><td>4</td><td>119034</td><td>1.15</td><td>⋯</td><td>1</td><td>6.533205</td><td>6.650988</td><td>0.000000</td><td>8.690762</td><td>0.000000</td><td>-0.99749054</td><td>-0.908523784</td><td>0.9835661</td><td>2.312438</td></tr>\n",
              "\t<tr><td>1</td><td>120</td><td>470.766</td><td>577.3553</td><td>0.8153836</td><td>4494</td><td>15</td><td>4</td><td>120048</td><td>1.80</td><td>⋯</td><td>1</td><td>6.038564</td><td>5.692147</td><td>0.000000</td><td>8.108049</td><td>7.771577</td><td> 0.07428161</td><td>-0.119476259</td><td>1.3504407</td><td>3.402307</td></tr>\n",
              "\t<tr><td>1</td><td>119</td><td>495.660</td><td>577.3553</td><td>0.8585009</td><td>3600</td><td> 5</td><td>4</td><td>119034</td><td>0.87</td><td>⋯</td><td>1</td><td>5.327516</td><td>5.440840</td><td>1.308909</td><td>8.116611</td><td>0.000000</td><td>-1.11807953</td><td>-0.916530001</td><td>0.7864012</td><td>2.312438</td></tr>\n",
              "\t<tr><td>1</td><td>137</td><td>     NA</td><td>      NA</td><td>       NA</td><td> 880</td><td>13</td><td>2</td><td>137032</td><td>5.00</td><td>⋯</td><td>1</td><td>5.994008</td><td>5.866497</td><td>0.000000</td><td>8.282403</td><td>0.000000</td><td>-0.33563854</td><td> 0.007208664</td><td>2.3124383</td><td>3.259573</td></tr>\n",
              "</tbody>\n",
              "</table>\n"
            ],
            "text/latex": [
              "A tibble: 6 × 41\n",
              "\\begin{tabular}{lllllllllllllllllllll}\n",
              " country & vil\\_id & rain & average & dev & pop & dist & nomkt & vdsa\\_hh\\_id & tot\\_acre & ⋯ & var1 & lnl & lnf & lni & lnm & lnp & lnaindex & lnlindex & lntot\\_acre & lndist\\\\\n",
              " <dbl+lbl> & <dbl> & <dbl> & <dbl> & <dbl> & <dbl> & <dbl> & <dbl> & <dbl> & <dbl> & ⋯ & <dbl> & <dbl> & <dbl> & <dbl> & <dbl> & <dbl> & <dbl> & <dbl> & <dbl> & <dbl>\\\\\n",
              "\\hline\n",
              "\t 1 & 119 &      NA &       NA &        NA & 3600 &  5 & 4 & 119035 & 1.22 & ⋯ & 1 & 6.396885 & 6.418075 & 4.688918 & 9.364208 & 0.000000 & -0.22474804 & -0.390123289 & 1.0287141 & 2.312438\\\\\n",
              "\t 1 & 119 & 495.660 & 577.3553 & 0.8585009 & 3600 &  5 & 4 & 119034 & 0.87 & ⋯ & 1 & 5.286696 & 5.286696 & 1.219146 & 8.226714 & 0.000000 & -1.11807953 & -0.916530001 & 0.7864012 & 2.312438\\\\\n",
              "\t 1 & 119 & 470.766 & 577.3553 & 0.8153836 & 3600 &  5 & 4 & 119034 & 1.15 & ⋯ & 1 & 6.533205 & 6.650988 & 0.000000 & 8.690762 & 0.000000 & -0.99749054 & -0.908523784 & 0.9835661 & 2.312438\\\\\n",
              "\t 1 & 120 & 470.766 & 577.3553 & 0.8153836 & 4494 & 15 & 4 & 120048 & 1.80 & ⋯ & 1 & 6.038564 & 5.692147 & 0.000000 & 8.108049 & 7.771577 &  0.07428161 & -0.119476259 & 1.3504407 & 3.402307\\\\\n",
              "\t 1 & 119 & 495.660 & 577.3553 & 0.8585009 & 3600 &  5 & 4 & 119034 & 0.87 & ⋯ & 1 & 5.327516 & 5.440840 & 1.308909 & 8.116611 & 0.000000 & -1.11807953 & -0.916530001 & 0.7864012 & 2.312438\\\\\n",
              "\t 1 & 137 &      NA &       NA &        NA &  880 & 13 & 2 & 137032 & 5.00 & ⋯ & 1 & 5.994008 & 5.866497 & 0.000000 & 8.282403 & 0.000000 & -0.33563854 &  0.007208664 & 2.3124383 & 3.259573\\\\\n",
              "\\end{tabular}\n"
            ],
            "text/markdown": [
              "\n",
              "A tibble: 6 × 41\n",
              "\n",
              "| country &lt;dbl+lbl&gt; | vil_id &lt;dbl&gt; | rain &lt;dbl&gt; | average &lt;dbl&gt; | dev &lt;dbl&gt; | pop &lt;dbl&gt; | dist &lt;dbl&gt; | nomkt &lt;dbl&gt; | vdsa_hh_id &lt;dbl&gt; | tot_acre &lt;dbl&gt; | ⋯ ⋯ | var1 &lt;dbl&gt; | lnl &lt;dbl&gt; | lnf &lt;dbl&gt; | lni &lt;dbl&gt; | lnm &lt;dbl&gt; | lnp &lt;dbl&gt; | lnaindex &lt;dbl&gt; | lnlindex &lt;dbl&gt; | lntot_acre &lt;dbl&gt; | lndist &lt;dbl&gt; |\n",
              "|---|---|---|---|---|---|---|---|---|---|---|---|---|---|---|---|---|---|---|---|---|\n",
              "| 1 | 119 |      NA |       NA |        NA | 3600 |  5 | 4 | 119035 | 1.22 | ⋯ | 1 | 6.396885 | 6.418075 | 4.688918 | 9.364208 | 0.000000 | -0.22474804 | -0.390123289 | 1.0287141 | 2.312438 |\n",
              "| 1 | 119 | 495.660 | 577.3553 | 0.8585009 | 3600 |  5 | 4 | 119034 | 0.87 | ⋯ | 1 | 5.286696 | 5.286696 | 1.219146 | 8.226714 | 0.000000 | -1.11807953 | -0.916530001 | 0.7864012 | 2.312438 |\n",
              "| 1 | 119 | 470.766 | 577.3553 | 0.8153836 | 3600 |  5 | 4 | 119034 | 1.15 | ⋯ | 1 | 6.533205 | 6.650988 | 0.000000 | 8.690762 | 0.000000 | -0.99749054 | -0.908523784 | 0.9835661 | 2.312438 |\n",
              "| 1 | 120 | 470.766 | 577.3553 | 0.8153836 | 4494 | 15 | 4 | 120048 | 1.80 | ⋯ | 1 | 6.038564 | 5.692147 | 0.000000 | 8.108049 | 7.771577 |  0.07428161 | -0.119476259 | 1.3504407 | 3.402307 |\n",
              "| 1 | 119 | 495.660 | 577.3553 | 0.8585009 | 3600 |  5 | 4 | 119034 | 0.87 | ⋯ | 1 | 5.327516 | 5.440840 | 1.308909 | 8.116611 | 0.000000 | -1.11807953 | -0.916530001 | 0.7864012 | 2.312438 |\n",
              "| 1 | 137 |      NA |       NA |        NA |  880 | 13 | 2 | 137032 | 5.00 | ⋯ | 1 | 5.994008 | 5.866497 | 0.000000 | 8.282403 | 0.000000 | -0.33563854 |  0.007208664 | 2.3124383 | 3.259573 |\n",
              "\n"
            ],
            "text/plain": [
              "  country vil_id rain    average  dev       pop  dist nomkt vdsa_hh_id tot_acre\n",
              "1 1       119         NA       NA        NA 3600  5   4     119035     1.22    \n",
              "2 1       119    495.660 577.3553 0.8585009 3600  5   4     119034     0.87    \n",
              "3 1       119    470.766 577.3553 0.8153836 3600  5   4     119034     1.15    \n",
              "4 1       120    470.766 577.3553 0.8153836 4494 15   4     120048     1.80    \n",
              "5 1       119    495.660 577.3553 0.8585009 3600  5   4     119034     0.87    \n",
              "6 1       137         NA       NA        NA  880 13   2     137032     5.00    \n",
              "  ⋯ var1 lnl      lnf      lni      lnm      lnp      lnaindex    lnlindex    \n",
              "1 ⋯ 1    6.396885 6.418075 4.688918 9.364208 0.000000 -0.22474804 -0.390123289\n",
              "2 ⋯ 1    5.286696 5.286696 1.219146 8.226714 0.000000 -1.11807953 -0.916530001\n",
              "3 ⋯ 1    6.533205 6.650988 0.000000 8.690762 0.000000 -0.99749054 -0.908523784\n",
              "4 ⋯ 1    6.038564 5.692147 0.000000 8.108049 7.771577  0.07428161 -0.119476259\n",
              "5 ⋯ 1    5.327516 5.440840 1.308909 8.116611 0.000000 -1.11807953 -0.916530001\n",
              "6 ⋯ 1    5.994008 5.866497 0.000000 8.282403 0.000000 -0.33563854  0.007208664\n",
              "  lntot_acre lndist  \n",
              "1 1.0287141  2.312438\n",
              "2 0.7864012  2.312438\n",
              "3 0.9835661  2.312438\n",
              "4 1.3504407  3.402307\n",
              "5 0.7864012  2.312438\n",
              "6 2.3124383  3.259573"
            ]
          },
          "metadata": {},
          "output_type": "display_data"
        }
      ],
      "source": [
        "%%R\n",
        "# Apply the inverse hyperbolic sine (asinh) transformation to 'aindex'\n",
        "df$lnaindex <- asinh(df$aindex)\n",
        "\n",
        "# Apply the inverse hyperbolic sine (asinh) transformation to 'lindex'\n",
        "df$lnlindex <- asinh(df$lindex)\n",
        "\n",
        "# Apply the inverse hyperbolic sine (asinh) transformation to 'tot_acre'\n",
        "df$lntot_acre <- asinh(df$tot_acre)\n",
        "\n",
        "# Apply the inverse hyperbolic sine (asinh) transformation to 'dist'\n",
        "df$lndist <- asinh(df$dist)\n",
        "\n",
        "# Check if the new columns were added by displaying the first few rows of the data frame\n",
        "head(df)"
      ]
    },
    {
      "cell_type": "markdown",
      "metadata": {
        "id": "n3cnbx2e5oPc"
      },
      "source": [
        "# **Save the Processed Data**\n",
        "\n",
        "To save this data frame as .csv file called `VDSA_Prod_Data_Ref.csv,` you can use the following command:\n",
        "\n",
        "\n",
        "\n"
      ]
    },
    {
      "cell_type": "code",
      "execution_count": null,
      "metadata": {
        "id": "5jVolYFo5ns0"
      },
      "outputs": [],
      "source": [
        "%%R\n",
        "# Save the data frame as a CSV file\n",
        "write.csv(df, \"/content/VDSA_Prod_Data_Ref.csv\", row.names = FALSE)\n"
      ]
    },
    {
      "cell_type": "markdown",
      "metadata": {
        "id": "QeWbdrJ2Mxfa"
      },
      "source": [
        "# **Note** : Make sure to navigate to the side pane and locate the content folder. Expand the folder and locate your file. Download this file and store it in your dedicated GEOG279 folder or any other folder of your choice."
      ]
    },
    {
      "cell_type": "markdown",
      "metadata": {
        "id": "OQAvJW3moI9q"
      },
      "source": [
        "# **The Challenge of Establishing a Causal Effect**\n",
        "\n",
        "To provide a sense of the difficulty in establishing causal effects, we're going to look at our data in two different ways.\n",
        "* First, we are going to compare the effect of a hypothetical irrigation intervention on those who received the irrigation treatment versus those who did not. This is our **Within/Without** comparison.\n",
        "* Second, we are going to compare the effect of the irrigation treatment on households **Before** they received the treatment and **After** they received the treatment. This is our  **Before/After** comparison."
      ]
    },
    {
      "cell_type": "markdown",
      "metadata": {
        "id": "IG8IVSf2oR4E"
      },
      "source": [
        "### **1. Within/Without Comparison**\n",
        "\n"
      ]
    },
    {
      "cell_type": "markdown",
      "metadata": {
        "id": "TQmtFs26N4Sb"
      },
      "source": [
        "Using the transformed data frame that you just saved, create a new data set that contains only data from `sur_yr=2011`. Call it `df_2011`:"
      ]
    },
    {
      "cell_type": "code",
      "execution_count": null,
      "metadata": {
        "colab": {
          "base_uri": "https://localhost:8080/",
          "height": 306
        },
        "id": "I6AzN7BsoHwT",
        "outputId": "3ca8ec1c-3c27-4f6e-d053-e317adaa29f0"
      },
      "outputs": [
        {
          "data": {
            "text/html": [
              "<table class=\"dataframe\">\n",
              "<caption>A tibble: 6 × 42</caption>\n",
              "<thead>\n",
              "\t<tr><th scope=col>country</th><th scope=col>vil_id</th><th scope=col>rain</th><th scope=col>average</th><th scope=col>dev</th><th scope=col>pop</th><th scope=col>dist</th><th scope=col>nomkt</th><th scope=col>vdsa_hh_id</th><th scope=col>tot_acre</th><th scope=col>⋯</th><th scope=col>lnl</th><th scope=col>lnf</th><th scope=col>lni</th><th scope=col>lnm</th><th scope=col>lnp</th><th scope=col>lnaindex</th><th scope=col>lnlindex</th><th scope=col>lntot_acre</th><th scope=col>lndist</th><th scope=col>irr</th></tr>\n",
              "\t<tr><th scope=col>&lt;dbl+lbl&gt;</th><th scope=col>&lt;dbl&gt;</th><th scope=col>&lt;dbl&gt;</th><th scope=col>&lt;dbl&gt;</th><th scope=col>&lt;dbl&gt;</th><th scope=col>&lt;dbl&gt;</th><th scope=col>&lt;dbl&gt;</th><th scope=col>&lt;dbl&gt;</th><th scope=col>&lt;dbl&gt;</th><th scope=col>&lt;dbl&gt;</th><th scope=col>⋯</th><th scope=col>&lt;dbl&gt;</th><th scope=col>&lt;dbl&gt;</th><th scope=col>&lt;dbl&gt;</th><th scope=col>&lt;dbl&gt;</th><th scope=col>&lt;dbl&gt;</th><th scope=col>&lt;dbl&gt;</th><th scope=col>&lt;dbl&gt;</th><th scope=col>&lt;dbl&gt;</th><th scope=col>&lt;dbl&gt;</th><th scope=col>&lt;dbl&gt;</th></tr>\n",
              "</thead>\n",
              "<tbody>\n",
              "\t<tr><td>1</td><td>119</td><td>495.6600</td><td>577.3553</td><td>0.8585009</td><td>3600</td><td>5.0</td><td>4</td><td>119034</td><td>0.87</td><td>⋯</td><td>5.286696</td><td>5.286696</td><td>1.2191461</td><td>8.226714</td><td>0</td><td>-1.1180795</td><td>-0.9165300</td><td>0.7864012</td><td>2.312438</td><td>1</td></tr>\n",
              "\t<tr><td>1</td><td>119</td><td>495.6600</td><td>577.3553</td><td>0.8585009</td><td>3600</td><td>5.0</td><td>4</td><td>119034</td><td>0.87</td><td>⋯</td><td>5.327516</td><td>5.440840</td><td>1.3089085</td><td>8.116611</td><td>0</td><td>-1.1180795</td><td>-0.9165300</td><td>0.7864012</td><td>2.312438</td><td>1</td></tr>\n",
              "\t<tr><td>1</td><td>118</td><td>464.9214</td><td>500.7051</td><td>0.9285335</td><td>3000</td><td>4.5</td><td>4</td><td>118030</td><td>1.10</td><td>⋯</td><td>5.306898</td><td>5.807657</td><td>1.4880134</td><td>8.330545</td><td>0</td><td>-0.7551434</td><td> 0.1982750</td><td>0.9503469</td><td>2.209348</td><td>1</td></tr>\n",
              "\t<tr><td>1</td><td>118</td><td>464.9214</td><td>500.7051</td><td>0.9285335</td><td>3000</td><td>4.5</td><td>4</td><td>118030</td><td>1.10</td><td>⋯</td><td>5.523623</td><td>5.877547</td><td>0.7510556</td><td>8.323225</td><td>0</td><td>-0.7551434</td><td> 0.1982750</td><td>0.9503469</td><td>2.209348</td><td>1</td></tr>\n",
              "\t<tr><td>1</td><td>119</td><td>495.6600</td><td>577.3553</td><td>0.8585009</td><td>3600</td><td>5.0</td><td>4</td><td>119035</td><td>0.75</td><td>⋯</td><td>5.537229</td><td>5.546197</td><td>1.3089086</td><td>8.313174</td><td>0</td><td>-0.2247480</td><td>-0.3901233</td><td>0.6931472</td><td>2.312438</td><td>1</td></tr>\n",
              "\t<tr><td>1</td><td>119</td><td>495.6600</td><td>577.3553</td><td>0.8585009</td><td>3600</td><td>5.0</td><td>4</td><td>119034</td><td>0.87</td><td>⋯</td><td>5.148834</td><td>5.309168</td><td>1.1403086</td><td>7.984568</td><td>0</td><td>-1.1180795</td><td>-0.9165300</td><td>0.7864012</td><td>2.312438</td><td>1</td></tr>\n",
              "</tbody>\n",
              "</table>\n"
            ],
            "text/latex": [
              "A tibble: 6 × 42\n",
              "\\begin{tabular}{lllllllllllllllllllll}\n",
              " country & vil\\_id & rain & average & dev & pop & dist & nomkt & vdsa\\_hh\\_id & tot\\_acre & ⋯ & lnl & lnf & lni & lnm & lnp & lnaindex & lnlindex & lntot\\_acre & lndist & irr\\\\\n",
              " <dbl+lbl> & <dbl> & <dbl> & <dbl> & <dbl> & <dbl> & <dbl> & <dbl> & <dbl> & <dbl> & ⋯ & <dbl> & <dbl> & <dbl> & <dbl> & <dbl> & <dbl> & <dbl> & <dbl> & <dbl> & <dbl>\\\\\n",
              "\\hline\n",
              "\t 1 & 119 & 495.6600 & 577.3553 & 0.8585009 & 3600 & 5.0 & 4 & 119034 & 0.87 & ⋯ & 5.286696 & 5.286696 & 1.2191461 & 8.226714 & 0 & -1.1180795 & -0.9165300 & 0.7864012 & 2.312438 & 1\\\\\n",
              "\t 1 & 119 & 495.6600 & 577.3553 & 0.8585009 & 3600 & 5.0 & 4 & 119034 & 0.87 & ⋯ & 5.327516 & 5.440840 & 1.3089085 & 8.116611 & 0 & -1.1180795 & -0.9165300 & 0.7864012 & 2.312438 & 1\\\\\n",
              "\t 1 & 118 & 464.9214 & 500.7051 & 0.9285335 & 3000 & 4.5 & 4 & 118030 & 1.10 & ⋯ & 5.306898 & 5.807657 & 1.4880134 & 8.330545 & 0 & -0.7551434 &  0.1982750 & 0.9503469 & 2.209348 & 1\\\\\n",
              "\t 1 & 118 & 464.9214 & 500.7051 & 0.9285335 & 3000 & 4.5 & 4 & 118030 & 1.10 & ⋯ & 5.523623 & 5.877547 & 0.7510556 & 8.323225 & 0 & -0.7551434 &  0.1982750 & 0.9503469 & 2.209348 & 1\\\\\n",
              "\t 1 & 119 & 495.6600 & 577.3553 & 0.8585009 & 3600 & 5.0 & 4 & 119035 & 0.75 & ⋯ & 5.537229 & 5.546197 & 1.3089086 & 8.313174 & 0 & -0.2247480 & -0.3901233 & 0.6931472 & 2.312438 & 1\\\\\n",
              "\t 1 & 119 & 495.6600 & 577.3553 & 0.8585009 & 3600 & 5.0 & 4 & 119034 & 0.87 & ⋯ & 5.148834 & 5.309168 & 1.1403086 & 7.984568 & 0 & -1.1180795 & -0.9165300 & 0.7864012 & 2.312438 & 1\\\\\n",
              "\\end{tabular}\n"
            ],
            "text/markdown": [
              "\n",
              "A tibble: 6 × 42\n",
              "\n",
              "| country &lt;dbl+lbl&gt; | vil_id &lt;dbl&gt; | rain &lt;dbl&gt; | average &lt;dbl&gt; | dev &lt;dbl&gt; | pop &lt;dbl&gt; | dist &lt;dbl&gt; | nomkt &lt;dbl&gt; | vdsa_hh_id &lt;dbl&gt; | tot_acre &lt;dbl&gt; | ⋯ ⋯ | lnl &lt;dbl&gt; | lnf &lt;dbl&gt; | lni &lt;dbl&gt; | lnm &lt;dbl&gt; | lnp &lt;dbl&gt; | lnaindex &lt;dbl&gt; | lnlindex &lt;dbl&gt; | lntot_acre &lt;dbl&gt; | lndist &lt;dbl&gt; | irr &lt;dbl&gt; |\n",
              "|---|---|---|---|---|---|---|---|---|---|---|---|---|---|---|---|---|---|---|---|---|\n",
              "| 1 | 119 | 495.6600 | 577.3553 | 0.8585009 | 3600 | 5.0 | 4 | 119034 | 0.87 | ⋯ | 5.286696 | 5.286696 | 1.2191461 | 8.226714 | 0 | -1.1180795 | -0.9165300 | 0.7864012 | 2.312438 | 1 |\n",
              "| 1 | 119 | 495.6600 | 577.3553 | 0.8585009 | 3600 | 5.0 | 4 | 119034 | 0.87 | ⋯ | 5.327516 | 5.440840 | 1.3089085 | 8.116611 | 0 | -1.1180795 | -0.9165300 | 0.7864012 | 2.312438 | 1 |\n",
              "| 1 | 118 | 464.9214 | 500.7051 | 0.9285335 | 3000 | 4.5 | 4 | 118030 | 1.10 | ⋯ | 5.306898 | 5.807657 | 1.4880134 | 8.330545 | 0 | -0.7551434 |  0.1982750 | 0.9503469 | 2.209348 | 1 |\n",
              "| 1 | 118 | 464.9214 | 500.7051 | 0.9285335 | 3000 | 4.5 | 4 | 118030 | 1.10 | ⋯ | 5.523623 | 5.877547 | 0.7510556 | 8.323225 | 0 | -0.7551434 |  0.1982750 | 0.9503469 | 2.209348 | 1 |\n",
              "| 1 | 119 | 495.6600 | 577.3553 | 0.8585009 | 3600 | 5.0 | 4 | 119035 | 0.75 | ⋯ | 5.537229 | 5.546197 | 1.3089086 | 8.313174 | 0 | -0.2247480 | -0.3901233 | 0.6931472 | 2.312438 | 1 |\n",
              "| 1 | 119 | 495.6600 | 577.3553 | 0.8585009 | 3600 | 5.0 | 4 | 119034 | 0.87 | ⋯ | 5.148834 | 5.309168 | 1.1403086 | 7.984568 | 0 | -1.1180795 | -0.9165300 | 0.7864012 | 2.312438 | 1 |\n",
              "\n"
            ],
            "text/plain": [
              "  country vil_id rain     average  dev       pop  dist nomkt vdsa_hh_id\n",
              "1 1       119    495.6600 577.3553 0.8585009 3600 5.0  4     119034    \n",
              "2 1       119    495.6600 577.3553 0.8585009 3600 5.0  4     119034    \n",
              "3 1       118    464.9214 500.7051 0.9285335 3000 4.5  4     118030    \n",
              "4 1       118    464.9214 500.7051 0.9285335 3000 4.5  4     118030    \n",
              "5 1       119    495.6600 577.3553 0.8585009 3600 5.0  4     119035    \n",
              "6 1       119    495.6600 577.3553 0.8585009 3600 5.0  4     119034    \n",
              "  tot_acre ⋯ lnl      lnf      lni       lnm      lnp lnaindex   lnlindex  \n",
              "1 0.87     ⋯ 5.286696 5.286696 1.2191461 8.226714 0   -1.1180795 -0.9165300\n",
              "2 0.87     ⋯ 5.327516 5.440840 1.3089085 8.116611 0   -1.1180795 -0.9165300\n",
              "3 1.10     ⋯ 5.306898 5.807657 1.4880134 8.330545 0   -0.7551434  0.1982750\n",
              "4 1.10     ⋯ 5.523623 5.877547 0.7510556 8.323225 0   -0.7551434  0.1982750\n",
              "5 0.75     ⋯ 5.537229 5.546197 1.3089086 8.313174 0   -0.2247480 -0.3901233\n",
              "6 0.87     ⋯ 5.148834 5.309168 1.1403086 7.984568 0   -1.1180795 -0.9165300\n",
              "  lntot_acre lndist   irr\n",
              "1 0.7864012  2.312438 1  \n",
              "2 0.7864012  2.312438 1  \n",
              "3 0.9503469  2.209348 1  \n",
              "4 0.9503469  2.209348 1  \n",
              "5 0.6931472  2.312438 1  \n",
              "6 0.7864012  2.312438 1  "
            ]
          },
          "metadata": {},
          "output_type": "display_data"
        }
      ],
      "source": [
        "%%R\n",
        "# Create a new df named  `df_2011` that contains only data from sur_yr=2011.\n",
        "df_2011 <- subset(df, df$sur_yr==\"2011\")\n",
        "head(df_2011 )"
      ]
    },
    {
      "cell_type": "markdown",
      "metadata": {
        "id": "IeYtUtke6QbT"
      },
      "source": [
        "# **Q6: Generate a table (using the `by()` function) that shows the yields for those with irrigation treatment and those without the irrigation treatment. What do you learn from the table about the impact of the irrigation treatment on the log of yields?**"
      ]
    },
    {
      "cell_type": "code",
      "execution_count": null,
      "metadata": {
        "id": "C3kOxlqao0vf"
      },
      "outputs": [],
      "source": [
        "%%R\n",
        "#------------------------- Your Code Here------------------------------------#"
      ]
    },
    {
      "cell_type": "markdown",
      "metadata": {
        "id": "t5eCobnH6auB"
      },
      "source": [
        "**------------------------Your Answer here----------------------------------------**"
      ]
    },
    {
      "cell_type": "markdown",
      "metadata": {
        "id": "jTdBnVYK6ghd"
      },
      "source": [
        "# **Q7: Perform a `t.test()` to compare the mean yield between households that received irrigation treatment and those that did not (the control group). Based on the results, what can you conclude about the impact of irrigation on yield? Does this test estimate the intention-to-treat effect, the effect of treatment on the treated, or the average treatment effect? Explain your reasoning.**"
      ]
    },
    {
      "cell_type": "code",
      "execution_count": null,
      "metadata": {
        "id": "A73A5nhOopMV"
      },
      "outputs": [],
      "source": [
        "%%R\n",
        "#------------------------- Your Code Here------------------------------------#"
      ]
    },
    {
      "cell_type": "markdown",
      "metadata": {
        "id": "PGbLUuHX6pMn"
      },
      "source": [
        "**------------------------Your Answer here----------------------------------------**"
      ]
    },
    {
      "cell_type": "markdown",
      "metadata": {
        "id": "2kKJTAFU6sGB"
      },
      "source": [
        "# **Q8: Run a regression analysis using only the irrigation treatment variable (irr) as the predictor and the logarithm of crop yield (lny) as the outcome. What do the results indicate? Specifically, what is the marginal effect of irrigation on crop yield? Does this regression capture the true impact of the irrigation treatment? Why or why not?**"
      ]
    },
    {
      "cell_type": "code",
      "execution_count": null,
      "metadata": {
        "id": "uu4UaoI8ojEW"
      },
      "outputs": [],
      "source": [
        "%%R\n",
        "#------------------------- Your Code Here------------------------------------#"
      ]
    },
    {
      "cell_type": "markdown",
      "metadata": {
        "id": "IZT0DUzJpb47"
      },
      "source": [
        "**------------------------Your Answer here----------------------------------------**\n"
      ]
    },
    {
      "cell_type": "markdown",
      "metadata": {
        "id": "EH78A4pb61UQ"
      },
      "source": [
        "# **Q9: Now, include the following control variables in your regression model: `lnl`, `lnf`, `lni`, `lnm`, `lnp`, `ageH`, `genderH`, `sizehh`, `aindex`, `lindex`, `tot_acre`, and `dist`. Optionally, you can apply a log transformation to `aindex`, `lindex`, `tot_acre`, and `dist`, but it is not required. Use `lny` as the dependent variable. In future exercises, we will refer to this set of 11 variables as our “standard set of control variables.”**"
      ]
    },
    {
      "cell_type": "code",
      "execution_count": null,
      "metadata": {
        "id": "O8TPD4M_66Di"
      },
      "outputs": [],
      "source": [
        "%%R\n",
        "#------------------------- Your Code Here------------------------------------#"
      ]
    },
    {
      "cell_type": "markdown",
      "metadata": {
        "id": "rUl69fs966Ni"
      },
      "source": [
        "**------------------------Your Answer here----------------------------------------**"
      ]
    },
    {
      "cell_type": "markdown",
      "metadata": {
        "id": "3XQoY8uJ7A8q"
      },
      "source": [
        "# **Q10: How do the regression results change after adding the control variables? What does the new point estimate indicate? Is the coefficient on `irr` now an unbiased estimate of the treatment effect, or could it represent something else? Explain your interpretation.**"
      ]
    },
    {
      "cell_type": "markdown",
      "metadata": {
        "id": "JH4ysSEapwEk"
      },
      "source": [
        "**------------------------Your Answer here----------------------------------------**"
      ]
    },
    {
      "cell_type": "markdown",
      "metadata": {
        "id": "-YRiECkLpzA3"
      },
      "source": [
        "# **Before/After Comparison**"
      ]
    },
    {
      "cell_type": "markdown",
      "metadata": {
        "id": "1TkW96ZM7tGX"
      },
      "source": [
        "Return to the data frame used before the Within/Without comparison `(df)`. Using this data set create a new data set that contains only households that received the irrigation treatment. To do this, run the following set of commands:**"
      ]
    },
    {
      "cell_type": "code",
      "execution_count": null,
      "metadata": {
        "colab": {
          "base_uri": "https://localhost:8080/",
          "height": 69
        },
        "id": "sqjQKk2zp8Ii",
        "outputId": "1de48cca-fc9b-4553-b96c-852112f66e2b"
      },
      "outputs": [
        {
          "data": {
            "text/plain": [
              "\n",
              "  0   1 \n",
              "108 108 "
            ]
          },
          "metadata": {},
          "output_type": "display_data"
        }
      ],
      "source": [
        "%%R\n",
        "# drop observations from 2012\n",
        "df_small <- subset(df, sur_yr != 2012)\n",
        "\n",
        "# count observations per parcel\n",
        "df_small$obs <- ave(df_small$var1, df_small$prcl_id, FUN=sum)\n",
        "\n",
        "# identify treated parcels in 2011\n",
        "df_small$tr_2011 <- ifelse(df_small$sur_yr == 2011 & df_small$irr == 1, 1, 0)\n",
        "\n",
        "# assign 2011 treatement status to observations in both years\n",
        "df_small$tr_2011 <- ave(df_small$tr_2011, df_small$prcl_id, FUN=sum)\n",
        "\n",
        "# subset of observations treated in 2011\n",
        "df_tr2011 <- subset(df_small, tr_2011 == 1)\n",
        "\n",
        "# keep only variables observed in both years\n",
        "df_tr2011 <- subset(df_tr2011, obs == 2)\n",
        "\n",
        "# make sure observations are balanced\n",
        "table(df_tr2011$irr)"
      ]
    },
    {
      "cell_type": "markdown",
      "metadata": {
        "id": "M5AjHDZD7eqR"
      },
      "source": [
        "#  **Q11: Generate a table (using the summary command) that shows the average yields for households before they received the irrigation treatment and average yields after the irrigation treatment. What do you learn from the table about the impact of the irrigation treatment on yields?**"
      ]
    },
    {
      "cell_type": "code",
      "execution_count": null,
      "metadata": {
        "id": "tyvubhUOqRW2"
      },
      "outputs": [],
      "source": [
        "%%R\n",
        "#------------------------- Your Code Here------------------------------------#"
      ]
    },
    {
      "cell_type": "markdown",
      "metadata": {
        "id": "4qGMdK997zoi"
      },
      "source": [
        "**------------------------Your Answer here----------------------------------------**"
      ]
    },
    {
      "cell_type": "markdown",
      "metadata": {
        "id": "wFwN-G4D71ws"
      },
      "source": [
        "# **Q12: Run a `t.test` to compare the mean yield by households before and after the irrigation treatment. What does the test indicate? Is this estimate the intention to treat effect, the effect of treatment on the treated, or the average treatment effect? Explain.**"
      ]
    },
    {
      "cell_type": "code",
      "execution_count": null,
      "metadata": {
        "id": "ZHSQe0NYqVuo"
      },
      "outputs": [],
      "source": [
        "%%R\n",
        "#------------------------- Your Code Here------------------------------------#"
      ]
    },
    {
      "cell_type": "markdown",
      "metadata": {
        "id": "oAfHS3_gqY9C"
      },
      "source": [
        "**------------------------Your Answer here----------------------------------------**"
      ]
    },
    {
      "cell_type": "markdown",
      "metadata": {
        "id": "bmm_yCgg8EtX"
      },
      "source": [
        "# **Q13: Run a regression that includes only the irrigation treatment variable and the log of crop yield as the outcome. What is the result? What is the marginal effect of having irrigation on crop yield? Is this the impact of the irrigation treatment?**"
      ]
    },
    {
      "cell_type": "code",
      "execution_count": null,
      "metadata": {
        "id": "TVv9NWEWqiL2"
      },
      "outputs": [],
      "source": [
        "%%R\n",
        "#------------------------- Your Code Here------------------------------------#"
      ]
    },
    {
      "cell_type": "markdown",
      "metadata": {
        "id": "Em9V-2ztqWsF"
      },
      "source": [
        "**------------------------Your Answer here----------------------------------------**"
      ]
    },
    {
      "cell_type": "markdown",
      "metadata": {
        "id": "mgVfXSow8P-b"
      },
      "source": [
        "# **Q14: Now add the standard set of control variables. How do our results change? What does the point estimate tell us? Is the coefficient on irr the unbiased effect of the treatment? What else could it be?**"
      ]
    },
    {
      "cell_type": "code",
      "execution_count": null,
      "metadata": {
        "id": "mFyh4-kNqWN3"
      },
      "outputs": [],
      "source": [
        "%%R\n",
        "#------------------------- Your Code Here------------------------------------#"
      ]
    },
    {
      "cell_type": "markdown",
      "metadata": {
        "id": "P1SlakFxqkLk"
      },
      "source": [
        "**------------------------Your Answer here----------------------------------------**"
      ]
    },
    {
      "cell_type": "markdown",
      "metadata": {
        "id": "w7gHRo4fZdpg"
      },
      "source": [
        "# **Research Question**"
      ]
    },
    {
      "cell_type": "markdown",
      "metadata": {
        "id": "b_ffJLs6bIue"
      },
      "source": [
        "# \t**Q1: What is the central question of your research? Why is this question important in your field of study?**"
      ]
    },
    {
      "cell_type": "markdown",
      "metadata": {
        "id": "DTEs44L4bGPp"
      },
      "source": [
        "**------------------------Your Answer here----------------------------------------**"
      ]
    },
    {
      "cell_type": "markdown",
      "metadata": {
        "id": "nJ-t1uNIbXf7"
      },
      "source": [
        "# **Q2: What is the main outcome you are interested in?  Define the variable that represents this outcome in your study.**"
      ]
    },
    {
      "cell_type": "markdown",
      "metadata": {
        "id": "4eLVQF48blj6"
      },
      "source": [
        "**------------------------Your Answer here----------------------------------------**"
      ]
    },
    {
      "cell_type": "markdown",
      "metadata": {
        "id": "D-XgNimablui"
      },
      "source": [
        "# **Q3: What is the treatment or intervention in your study? How do you expect it to impact the outcome of interest?**"
      ]
    },
    {
      "cell_type": "markdown",
      "metadata": {
        "id": "QrxopeCSbs39"
      },
      "source": [
        "**------------------------Your Answer here----------------------------------------**"
      ]
    },
    {
      "cell_type": "markdown",
      "metadata": {
        "id": "bB48bgldbtoh"
      },
      "source": [
        "# **Q4: Draw and Discuss a DAG**\n",
        "\n",
        "1. Create a Directed Acyclic Graph (DAG) representing the relationship between your treatment and outcome. Make sure to include possible confounders and intermediate variables.\n",
        "2.\tLabel the components of your DAG, including treatment, outcome, confounders, and any other relevant variables.\n",
        "3.\tIdentify and discuss at least two potential confounders that might affect your ability to identify the causal effect of the treatment on the outcome.\n",
        "\n",
        "You can find more details on creating DAGS in `R` [here](https://evalf20.classes.andrewheiss.com/example/dags/).\n",
        "To get you started here is a  DAG example:\n"
      ]
    },
    {
      "cell_type": "code",
      "execution_count": null,
      "metadata": {
        "colab": {
          "base_uri": "https://localhost:8080/",
          "height": 497
        },
        "id": "4baBi0lEJ_Zb",
        "outputId": "eb1ad8e4-8c86-4ce4-e457-6d4effde3f81"
      },
      "outputs": [
        {
          "data": {
            "image/png": "[encoded data removed]"
          },
          "metadata": {},
          "output_type": "display_data"
        }
      ],
      "source": [
        "%%R\n",
        "# Define the DAG\n",
        "simple_dag_with_coords_and_labels <- dagify(\n",
        "  y ~ x + a + b,  # Outcome depends on treatment and confounders\n",
        "  x ~ a + b,      # Treatment depends on confounders\n",
        "  exposure = \"x\",\n",
        "  outcome = \"y\",\n",
        "  labels = c(y = \"Outcome\", x = \"Treatment\",\n",
        "             a = \"Confounder 1\", b = \"Confounder 2\"),\n",
        "  coords = list(x = c(x = 1, a = 2, b = 2, y = 3),\n",
        "                y = c(x = 2, a = 1, b = 3, y = 2))\n",
        ")\n",
        "\n",
        "# Plot the DAG\n",
        "ggdag_status(simple_dag_with_coords_and_labels,\n",
        "             use_labels = \"label\", text = FALSE) +\n",
        "  guides(fill = FALSE, color = FALSE) +  # Disable the legend\n",
        "  theme_dag()\n"
      ]
    },
    {
      "cell_type": "code",
      "execution_count": null,
      "metadata": {
        "id": "hcm4IRkjfnaO"
      },
      "outputs": [],
      "source": [
        "%%R\n",
        "#------------------------- Your Code Here------------------------------------#"
      ]
    },
    {
      "cell_type": "markdown",
      "metadata": {
        "id": "Z1g5hIGVvOqV"
      },
      "source": [
        "# **How to submit assignment 1**\n",
        "\n",
        "Please submit Assignment 1 on Gradescope. Check your email for the invitation to join the GEOG279 course on Gradescope."
      ]
    },
    {
      "cell_type": "markdown",
      "metadata": {
        "id": "oW5EsIX4R2ay"
      },
      "source": [
        "<table style=\"border: 2px solid #4CAF50; background-color: #f0f9ff; padding: 10px; width: 100%; text-align: center;\">\n",
        "  <tr>\n",
        "    <td><h1><strong>This concludes <span style=\"color: #4CAF50;\">Assignment 1</span>.</strong></td></h1>\n",
        "  </tr>\n",
        "</table>"
      ]
    }
  ],
  "metadata": {
    "colab": {
      "gpuType": "T4",
      "provenance": [],
      "toc_visible": true
    },
    "kernelspec": {
      "display_name": "Python (spyder-env)",
      "language": "python",
      "name": "spyder-env"
    },
    "language_info": {
      "codemirror_mode": {
        "name": "ipython",
        "version": 3
      },
      "file_extension": ".py",
      "mimetype": "text/x-python",
      "name": "python",
      "nbconvert_exporter": "python",
      "pygments_lexer": "ipython3",
      "version": "3.11.5"
    }
  },
  "nbformat": 4,
  "nbformat_minor": 0
}
